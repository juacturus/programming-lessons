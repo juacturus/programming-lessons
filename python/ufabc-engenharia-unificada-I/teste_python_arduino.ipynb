{
 "cells": [
  {
   "cell_type": "markdown",
   "metadata": {
    "toc": true
   },
   "source": [
    "<h1>Table of Contents<span class=\"tocSkip\"></span></h1>\n",
    "<div class=\"toc\"><ul class=\"toc-item\"></ul></div>"
   ]
  },
  {
   "cell_type": "code",
   "execution_count": null,
   "metadata": {
    "ExecuteTime": {
     "end_time": "2019-08-08T03:40:09.980427Z",
     "start_time": "2019-08-08T03:40:08.649984Z"
    }
   },
   "outputs": [],
   "source": [
    "import pandas as pd\n",
    "\n",
    "acessos = pd.read_csv('tags_acesso.txt', sep=';')\n",
    "tags = list(acessos['tag'])\n",
    "tags"
   ]
  },
  {
   "cell_type": "code",
   "execution_count": null,
   "metadata": {
    "ExecuteTime": {
     "end_time": "2019-08-08T03:40:10.994719Z",
     "start_time": "2019-08-08T03:40:10.986737Z"
    }
   },
   "outputs": [],
   "source": [
    "import numpy as np\n",
    "acessos = acessos.set_index('tag')"
   ]
  },
  {
   "cell_type": "code",
   "execution_count": null,
   "metadata": {
    "ExecuteTime": {
     "end_time": "2019-08-08T03:40:12.127687Z",
     "start_time": "2019-08-08T03:40:12.086797Z"
    }
   },
   "outputs": [],
   "source": [
    "acessos['status'] = acessos.apply(lambda _: 'saída', axis=1)\n",
    "acessos"
   ]
  },
  {
   "cell_type": "code",
   "execution_count": null,
   "metadata": {
    "ExecuteTime": {
     "end_time": "2019-08-08T03:40:13.326483Z",
     "start_time": "2019-08-08T03:40:13.312519Z"
    }
   },
   "outputs": [],
   "source": [
    "tag = '16 FC EA 91'\n",
    "nome = acessos.loc[tag, ['nome']].values[0]\n",
    "nome.upper()"
   ]
  },
  {
   "cell_type": "code",
   "execution_count": null,
   "metadata": {
    "ExecuteTime": {
     "start_time": "2019-08-08T03:40:09.364Z"
    }
   },
   "outputs": [],
   "source": [
    "import serial\n",
    "import time"
   ]
  },
  {
   "cell_type": "code",
   "execution_count": null,
   "metadata": {
    "ExecuteTime": {
     "start_time": "2019-08-08T03:40:09.539Z"
    }
   },
   "outputs": [],
   "source": [
    "ser = serial.Serial('COM5', 9600)"
   ]
  },
  {
   "cell_type": "code",
   "execution_count": null,
   "metadata": {
    "ExecuteTime": {
     "start_time": "2019-08-08T03:40:09.744Z"
    }
   },
   "outputs": [],
   "source": [
    "vagas = len(acessos)\n",
    "\n",
    "while True:\n",
    "    # Menu de selecao\n",
    "    print('[1] - Ler um Cartão')\n",
    "    print('[2] - Status do Estacionamento')\n",
    "    print('[3] - Quantidade de Vagas Disponíveis')\n",
    "    print('[4] - Quantidade de Vagas Utilizadas')\n",
    "    print('[5] - Encerrar programa')\n",
    "    try:\n",
    "        menu = int(input(''))\n",
    "    except:\n",
    "        print('Opção inválida. Tente novamente!')\n",
    "        pass\n",
    "    if menu not in range(1, 6):\n",
    "        print('Opção inválida. Tente novamente!')\n",
    "        pass\n",
    "    \n",
    "    # Leitura de cartão\n",
    "    if menu == 1:\n",
    "        print('--- APROXIME O CARTÃO ---\\n')\n",
    "        try:\n",
    "            tag = ser.readline().rstrip().decode(\"utf-8\").strip()\n",
    "            if tag in tags:\n",
    "                nome = str(acessos.loc[tag, ['nome']].values[0])\n",
    "                ra = acessos.loc[tag, ['id']].values[0]\n",
    "                tipo_acesso = str(acessos.loc[tag, ['tipo_de_acesso']].values[0]).capitalize()\n",
    "                print(f'{tipo_acesso} {nome}, ID: {ra}')\n",
    "                print('Liberado!\\n')\n",
    "                if acessos.loc[tag, ['status']].values[0] == 'saída':\n",
    "                    acessos.loc[tag, ['status']] = 'entrada'\n",
    "                else:\n",
    "                    acessos.loc[tag, ['status']] = 'saída'\n",
    "                pass\n",
    "            else: \n",
    "                pass\n",
    "        except:  \n",
    "            print('Data could not be read\\n')\n",
    "            pass\n",
    "    \n",
    "    # Status do estacionamento\n",
    "    if menu == 2:\n",
    "        print('--- STATUS DO ESTACIONAMENTO ---')\n",
    "        print()\n",
    "        print(acessos)\n",
    "        print()\n",
    "        \n",
    "    # Quantidade de Vagas Disponíveis\n",
    "    if menu == 3:\n",
    "        vagas_disp = sum(acessos['status'].values == 'saída')\n",
    "        print(f'Total de vagas: {vagas}')\n",
    "        print(f'Vagas disponíveis: {vagas_disp}\\n')\n",
    "        \n",
    "    # Quantidade de Vagas Utilizadas\n",
    "    if menu == 4:\n",
    "        vagas_disp = sum(acessos['status'].values == 'entrada')\n",
    "        print(f'Total de vagas: {vagas}')\n",
    "        print(f'Vagas disponíveis: {vagas_disp}\\n')\n",
    "        \n",
    "    # Encerrando programa\n",
    "    if menu == 5:\n",
    "        ser.close()\n",
    "        break"
   ]
  },
  {
   "cell_type": "code",
   "execution_count": null,
   "metadata": {},
   "outputs": [],
   "source": []
  },
  {
   "cell_type": "code",
   "execution_count": null,
   "metadata": {},
   "outputs": [],
   "source": []
  }
 ],
 "metadata": {
  "kernelspec": {
   "display_name": "Python 3",
   "language": "python",
   "name": "python3"
  },
  "language_info": {
   "codemirror_mode": {
    "name": "ipython",
    "version": 3
   },
   "file_extension": ".py",
   "mimetype": "text/x-python",
   "name": "python",
   "nbconvert_exporter": "python",
   "pygments_lexer": "ipython3",
   "version": "3.7.3"
  },
  "toc": {
   "base_numbering": 1,
   "nav_menu": {},
   "number_sections": true,
   "sideBar": true,
   "skip_h1_title": false,
   "title_cell": "Table of Contents",
   "title_sidebar": "Contents",
   "toc_cell": true,
   "toc_position": {},
   "toc_section_display": true,
   "toc_window_display": false
  },
  "varInspector": {
   "cols": {
    "lenName": 16,
    "lenType": 16,
    "lenVar": 40
   },
   "kernels_config": {
    "python": {
     "delete_cmd_postfix": "",
     "delete_cmd_prefix": "del ",
     "library": "var_list.py",
     "varRefreshCmd": "print(var_dic_list())"
    },
    "r": {
     "delete_cmd_postfix": ") ",
     "delete_cmd_prefix": "rm(",
     "library": "var_list.r",
     "varRefreshCmd": "cat(var_dic_list()) "
    }
   },
   "types_to_exclude": [
    "module",
    "function",
    "builtin_function_or_method",
    "instance",
    "_Feature"
   ],
   "window_display": false
  }
 },
 "nbformat": 4,
 "nbformat_minor": 2
}
