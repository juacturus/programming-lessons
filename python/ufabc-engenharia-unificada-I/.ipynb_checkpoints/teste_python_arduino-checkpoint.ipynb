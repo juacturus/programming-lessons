{
 "cells": [
  {
   "cell_type": "markdown",
   "metadata": {
    "toc": true
   },
   "source": [
    "<h1>Table of Contents<span class=\"tocSkip\"></span></h1>\n",
    "<div class=\"toc\"><ul class=\"toc-item\"></ul></div>"
   ]
  },
  {
   "cell_type": "code",
   "execution_count": 1,
   "metadata": {
    "ExecuteTime": {
     "end_time": "2019-08-08T02:48:22.384361Z",
     "start_time": "2019-08-08T02:48:21.649326Z"
    }
   },
   "outputs": [
    {
     "data": {
      "text/plain": [
       "['CD C7 35 7D', '84 FC 45 72', '16 FC EA 91', '26 A6 DF 4F', '06 45 FA 4F']"
      ]
     },
     "execution_count": 1,
     "metadata": {},
     "output_type": "execute_result"
    }
   ],
   "source": [
    "import pandas as pd\n",
    "\n",
    "acessos = pd.read_csv('tags_acesso.txt', sep=';')\n",
    "tags = list(acessos['tag'])\n",
    "tags"
   ]
  },
  {
   "cell_type": "code",
   "execution_count": 2,
   "metadata": {
    "ExecuteTime": {
     "end_time": "2019-08-08T02:48:23.178239Z",
     "start_time": "2019-08-08T02:48:23.160287Z"
    }
   },
   "outputs": [],
   "source": [
    "import serial\n",
    "import time"
   ]
  },
  {
   "cell_type": "code",
   "execution_count": null,
   "metadata": {
    "ExecuteTime": {
     "start_time": "2019-08-08T02:48:21.942Z"
    }
   },
   "outputs": [],
   "source": [
    "ser = serial.Serial('COM5', 9600)"
   ]
  },
  {
   "cell_type": "code",
   "execution_count": null,
   "metadata": {
    "ExecuteTime": {
     "start_time": "2019-08-08T02:48:22.080Z"
    }
   },
   "outputs": [
    {
     "name": "stdout",
     "output_type": "stream",
     "text": [
      "Aproxime o cartão: \n",
      "\n",
      "16 FC EA 91\n",
      "Liberado\n",
      "Aproxime o cartão: \n",
      "\n"
     ]
    }
   ],
   "source": [
    "while True:\n",
    "    print('Aproxime o cartão: \\n')\n",
    "    try:\n",
    "        tag = ser.readline()\n",
    "        tag = tag.rstrip()\n",
    "        tag = tag.decode(\"utf-8\").strip()\n",
    "        print(tag)\n",
    "        if tag in tags:\n",
    "            print('Liberado')\n",
    "            pass\n",
    "        else: \n",
    "            pass\n",
    "    except:  \n",
    "        print('Data could not be read')\n",
    "        pass"
   ]
  },
  {
   "cell_type": "code",
   "execution_count": null,
   "metadata": {},
   "outputs": [],
   "source": []
  }
 ],
 "metadata": {
  "kernelspec": {
   "display_name": "Python 3",
   "language": "python",
   "name": "python3"
  },
  "language_info": {
   "codemirror_mode": {
    "name": "ipython",
    "version": 3
   },
   "file_extension": ".py",
   "mimetype": "text/x-python",
   "name": "python",
   "nbconvert_exporter": "python",
   "pygments_lexer": "ipython3",
   "version": "3.7.3"
  },
  "toc": {
   "base_numbering": 1,
   "nav_menu": {},
   "number_sections": true,
   "sideBar": true,
   "skip_h1_title": false,
   "title_cell": "Table of Contents",
   "title_sidebar": "Contents",
   "toc_cell": true,
   "toc_position": {},
   "toc_section_display": true,
   "toc_window_display": false
  },
  "varInspector": {
   "cols": {
    "lenName": 16,
    "lenType": 16,
    "lenVar": 40
   },
   "kernels_config": {
    "python": {
     "delete_cmd_postfix": "",
     "delete_cmd_prefix": "del ",
     "library": "var_list.py",
     "varRefreshCmd": "print(var_dic_list())"
    },
    "r": {
     "delete_cmd_postfix": ") ",
     "delete_cmd_prefix": "rm(",
     "library": "var_list.r",
     "varRefreshCmd": "cat(var_dic_list()) "
    }
   },
   "types_to_exclude": [
    "module",
    "function",
    "builtin_function_or_method",
    "instance",
    "_Feature"
   ],
   "window_display": false
  }
 },
 "nbformat": 4,
 "nbformat_minor": 2
}
