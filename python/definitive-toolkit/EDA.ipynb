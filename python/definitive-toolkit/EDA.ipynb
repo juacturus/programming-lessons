{
 "cells": [
  {
   "cell_type": "markdown",
   "metadata": {},
   "source": [
    "<font size=5> **Exploratory Data Analysis Examples** </font>\n",
    "\n",
    "O objetivo deste notebook é demonstrar alguns estudos de caso reais provenientes de cursos realizados ao longo da jornada de aprendizado. Em praticamente todos os casos, um problema de negócio será fornecido e, a partir de Datasets presentes no sistema de arquivos, serão realizados tratamentos específicos no conjunto de dados, preparando e avaliando as mellhores maneiras para responder as questões propostas. Entre os principais pontos abordados neste notebook encontram-se:\n",
    "\n",
    "* Treinamento dos métodos obtidos através dos estudos;\n",
    "* Aplicação de conceitos teóricos em situações práticas;\n",
    "* Exploração de conjuntos de dados reais e práticos;\n",
    "* Análise de problemas através de plotagem de gráficos;\n",
    "* Aplicação de estatística descritiva para conclusões;"
   ]
  },
  {
   "cell_type": "markdown",
   "metadata": {},
   "source": [
    "# Udacity"
   ]
  },
  {
   "cell_type": "markdown",
   "metadata": {},
   "source": [
    "Nesta sessão, serão abordados os desafios presentes no curso *Fundamentos Data Scientists I* realizado através da plataforma *Udacity*. Os tópicos deste conteúdo englobam a análise de dados em seu caráter exploratório, realizando tratamentos específicos em conjuntos de dados visando sempre a resolução de um problema proposto."
   ]
  },
  {
   "cell_type": "markdown",
   "metadata": {
    "heading_collapsed": true
   },
   "source": [
    "## Cancer: Malignância de Tumores"
   ]
  },
  {
   "cell_type": "markdown",
   "metadata": {
    "heading_collapsed": true,
    "hidden": true
   },
   "source": [
    "### Descrição da Análise"
   ]
  },
  {
   "cell_type": "markdown",
   "metadata": {
    "hidden": true
   },
   "source": [
    "Disposto de um Dataset contendo características sobre diversos tumores, serão utilizadas as habilidades aprendidas sobre tratamento de dados para verificar se **a área médio do tumor influencia em sua caracterização como MALIGNO ou BENIGNO**. Para entender melhor sobre este desafio, a próxima célula deste notebook será responsável pela leitura do Dataset e por mostrar uma visão inicial sobre os dados e os atributos.\n",
    "\n",
    "Link para acesso aos dados: https://archive.ics.uci.edu/ml/datasets/Census+Income"
   ]
  },
  {
   "cell_type": "code",
   "execution_count": 1,
   "metadata": {
    "ExecuteTime": {
     "end_time": "2019-04-24T22:41:19.314296Z",
     "start_time": "2019-04-24T22:41:10.768168Z"
    },
    "hidden": true
   },
   "outputs": [
    {
     "ename": "FileNotFoundError",
     "evalue": "File b'C:/Users/thiagoPanini/Downloads/datasets/cancer_means.csv' does not exist",
     "output_type": "error",
     "traceback": [
      "\u001b[1;31m---------------------------------------------------------------------------\u001b[0m",
      "\u001b[1;31mFileNotFoundError\u001b[0m                         Traceback (most recent call last)",
      "\u001b[1;32m<ipython-input-1-0bdcb9239369>\u001b[0m in \u001b[0;36m<module>\u001b[1;34m()\u001b[0m\n\u001b[0;32m      2\u001b[0m \u001b[1;32mimport\u001b[0m \u001b[0mpandas\u001b[0m \u001b[1;32mas\u001b[0m \u001b[0mpd\u001b[0m\u001b[1;33m\u001b[0m\u001b[0m\n\u001b[0;32m      3\u001b[0m \u001b[1;33m\u001b[0m\u001b[0m\n\u001b[1;32m----> 4\u001b[1;33m \u001b[0mdf_cancer\u001b[0m \u001b[1;33m=\u001b[0m \u001b[0mpd\u001b[0m\u001b[1;33m.\u001b[0m\u001b[0mread_csv\u001b[0m\u001b[1;33m(\u001b[0m\u001b[1;34m'C:/Users/thiagoPanini/Downloads/datasets/cancer_means.csv'\u001b[0m\u001b[1;33m)\u001b[0m\u001b[1;33m\u001b[0m\u001b[0m\n\u001b[0m\u001b[0;32m      5\u001b[0m \u001b[0mdf_cancer\u001b[0m\u001b[1;33m.\u001b[0m\u001b[0mhead\u001b[0m\u001b[1;33m(\u001b[0m\u001b[1;33m)\u001b[0m\u001b[1;33m\u001b[0m\u001b[0m\n",
      "\u001b[1;32m~\\Anaconda3\\lib\\site-packages\\pandas\\io\\parsers.py\u001b[0m in \u001b[0;36mparser_f\u001b[1;34m(filepath_or_buffer, sep, delimiter, header, names, index_col, usecols, squeeze, prefix, mangle_dupe_cols, dtype, engine, converters, true_values, false_values, skipinitialspace, skiprows, nrows, na_values, keep_default_na, na_filter, verbose, skip_blank_lines, parse_dates, infer_datetime_format, keep_date_col, date_parser, dayfirst, iterator, chunksize, compression, thousands, decimal, lineterminator, quotechar, quoting, escapechar, comment, encoding, dialect, tupleize_cols, error_bad_lines, warn_bad_lines, skipfooter, skip_footer, doublequote, delim_whitespace, as_recarray, compact_ints, use_unsigned, low_memory, buffer_lines, memory_map, float_precision)\u001b[0m\n\u001b[0;32m    707\u001b[0m                     skip_blank_lines=skip_blank_lines)\n\u001b[0;32m    708\u001b[0m \u001b[1;33m\u001b[0m\u001b[0m\n\u001b[1;32m--> 709\u001b[1;33m         \u001b[1;32mreturn\u001b[0m \u001b[0m_read\u001b[0m\u001b[1;33m(\u001b[0m\u001b[0mfilepath_or_buffer\u001b[0m\u001b[1;33m,\u001b[0m \u001b[0mkwds\u001b[0m\u001b[1;33m)\u001b[0m\u001b[1;33m\u001b[0m\u001b[0m\n\u001b[0m\u001b[0;32m    710\u001b[0m \u001b[1;33m\u001b[0m\u001b[0m\n\u001b[0;32m    711\u001b[0m     \u001b[0mparser_f\u001b[0m\u001b[1;33m.\u001b[0m\u001b[0m__name__\u001b[0m \u001b[1;33m=\u001b[0m \u001b[0mname\u001b[0m\u001b[1;33m\u001b[0m\u001b[0m\n",
      "\u001b[1;32m~\\Anaconda3\\lib\\site-packages\\pandas\\io\\parsers.py\u001b[0m in \u001b[0;36m_read\u001b[1;34m(filepath_or_buffer, kwds)\u001b[0m\n\u001b[0;32m    447\u001b[0m \u001b[1;33m\u001b[0m\u001b[0m\n\u001b[0;32m    448\u001b[0m     \u001b[1;31m# Create the parser.\u001b[0m\u001b[1;33m\u001b[0m\u001b[1;33m\u001b[0m\u001b[0m\n\u001b[1;32m--> 449\u001b[1;33m     \u001b[0mparser\u001b[0m \u001b[1;33m=\u001b[0m \u001b[0mTextFileReader\u001b[0m\u001b[1;33m(\u001b[0m\u001b[0mfilepath_or_buffer\u001b[0m\u001b[1;33m,\u001b[0m \u001b[1;33m**\u001b[0m\u001b[0mkwds\u001b[0m\u001b[1;33m)\u001b[0m\u001b[1;33m\u001b[0m\u001b[0m\n\u001b[0m\u001b[0;32m    450\u001b[0m \u001b[1;33m\u001b[0m\u001b[0m\n\u001b[0;32m    451\u001b[0m     \u001b[1;32mif\u001b[0m \u001b[0mchunksize\u001b[0m \u001b[1;32mor\u001b[0m \u001b[0miterator\u001b[0m\u001b[1;33m:\u001b[0m\u001b[1;33m\u001b[0m\u001b[0m\n",
      "\u001b[1;32m~\\Anaconda3\\lib\\site-packages\\pandas\\io\\parsers.py\u001b[0m in \u001b[0;36m__init__\u001b[1;34m(self, f, engine, **kwds)\u001b[0m\n\u001b[0;32m    816\u001b[0m             \u001b[0mself\u001b[0m\u001b[1;33m.\u001b[0m\u001b[0moptions\u001b[0m\u001b[1;33m[\u001b[0m\u001b[1;34m'has_index_names'\u001b[0m\u001b[1;33m]\u001b[0m \u001b[1;33m=\u001b[0m \u001b[0mkwds\u001b[0m\u001b[1;33m[\u001b[0m\u001b[1;34m'has_index_names'\u001b[0m\u001b[1;33m]\u001b[0m\u001b[1;33m\u001b[0m\u001b[0m\n\u001b[0;32m    817\u001b[0m \u001b[1;33m\u001b[0m\u001b[0m\n\u001b[1;32m--> 818\u001b[1;33m         \u001b[0mself\u001b[0m\u001b[1;33m.\u001b[0m\u001b[0m_make_engine\u001b[0m\u001b[1;33m(\u001b[0m\u001b[0mself\u001b[0m\u001b[1;33m.\u001b[0m\u001b[0mengine\u001b[0m\u001b[1;33m)\u001b[0m\u001b[1;33m\u001b[0m\u001b[0m\n\u001b[0m\u001b[0;32m    819\u001b[0m \u001b[1;33m\u001b[0m\u001b[0m\n\u001b[0;32m    820\u001b[0m     \u001b[1;32mdef\u001b[0m \u001b[0mclose\u001b[0m\u001b[1;33m(\u001b[0m\u001b[0mself\u001b[0m\u001b[1;33m)\u001b[0m\u001b[1;33m:\u001b[0m\u001b[1;33m\u001b[0m\u001b[0m\n",
      "\u001b[1;32m~\\Anaconda3\\lib\\site-packages\\pandas\\io\\parsers.py\u001b[0m in \u001b[0;36m_make_engine\u001b[1;34m(self, engine)\u001b[0m\n\u001b[0;32m   1047\u001b[0m     \u001b[1;32mdef\u001b[0m \u001b[0m_make_engine\u001b[0m\u001b[1;33m(\u001b[0m\u001b[0mself\u001b[0m\u001b[1;33m,\u001b[0m \u001b[0mengine\u001b[0m\u001b[1;33m=\u001b[0m\u001b[1;34m'c'\u001b[0m\u001b[1;33m)\u001b[0m\u001b[1;33m:\u001b[0m\u001b[1;33m\u001b[0m\u001b[0m\n\u001b[0;32m   1048\u001b[0m         \u001b[1;32mif\u001b[0m \u001b[0mengine\u001b[0m \u001b[1;33m==\u001b[0m \u001b[1;34m'c'\u001b[0m\u001b[1;33m:\u001b[0m\u001b[1;33m\u001b[0m\u001b[0m\n\u001b[1;32m-> 1049\u001b[1;33m             \u001b[0mself\u001b[0m\u001b[1;33m.\u001b[0m\u001b[0m_engine\u001b[0m \u001b[1;33m=\u001b[0m \u001b[0mCParserWrapper\u001b[0m\u001b[1;33m(\u001b[0m\u001b[0mself\u001b[0m\u001b[1;33m.\u001b[0m\u001b[0mf\u001b[0m\u001b[1;33m,\u001b[0m \u001b[1;33m**\u001b[0m\u001b[0mself\u001b[0m\u001b[1;33m.\u001b[0m\u001b[0moptions\u001b[0m\u001b[1;33m)\u001b[0m\u001b[1;33m\u001b[0m\u001b[0m\n\u001b[0m\u001b[0;32m   1050\u001b[0m         \u001b[1;32melse\u001b[0m\u001b[1;33m:\u001b[0m\u001b[1;33m\u001b[0m\u001b[0m\n\u001b[0;32m   1051\u001b[0m             \u001b[1;32mif\u001b[0m \u001b[0mengine\u001b[0m \u001b[1;33m==\u001b[0m \u001b[1;34m'python'\u001b[0m\u001b[1;33m:\u001b[0m\u001b[1;33m\u001b[0m\u001b[0m\n",
      "\u001b[1;32m~\\Anaconda3\\lib\\site-packages\\pandas\\io\\parsers.py\u001b[0m in \u001b[0;36m__init__\u001b[1;34m(self, src, **kwds)\u001b[0m\n\u001b[0;32m   1693\u001b[0m         \u001b[0mkwds\u001b[0m\u001b[1;33m[\u001b[0m\u001b[1;34m'allow_leading_cols'\u001b[0m\u001b[1;33m]\u001b[0m \u001b[1;33m=\u001b[0m \u001b[0mself\u001b[0m\u001b[1;33m.\u001b[0m\u001b[0mindex_col\u001b[0m \u001b[1;32mis\u001b[0m \u001b[1;32mnot\u001b[0m \u001b[1;32mFalse\u001b[0m\u001b[1;33m\u001b[0m\u001b[0m\n\u001b[0;32m   1694\u001b[0m \u001b[1;33m\u001b[0m\u001b[0m\n\u001b[1;32m-> 1695\u001b[1;33m         \u001b[0mself\u001b[0m\u001b[1;33m.\u001b[0m\u001b[0m_reader\u001b[0m \u001b[1;33m=\u001b[0m \u001b[0mparsers\u001b[0m\u001b[1;33m.\u001b[0m\u001b[0mTextReader\u001b[0m\u001b[1;33m(\u001b[0m\u001b[0msrc\u001b[0m\u001b[1;33m,\u001b[0m \u001b[1;33m**\u001b[0m\u001b[0mkwds\u001b[0m\u001b[1;33m)\u001b[0m\u001b[1;33m\u001b[0m\u001b[0m\n\u001b[0m\u001b[0;32m   1696\u001b[0m \u001b[1;33m\u001b[0m\u001b[0m\n\u001b[0;32m   1697\u001b[0m         \u001b[1;31m# XXX\u001b[0m\u001b[1;33m\u001b[0m\u001b[1;33m\u001b[0m\u001b[0m\n",
      "\u001b[1;32mpandas/_libs/parsers.pyx\u001b[0m in \u001b[0;36mpandas._libs.parsers.TextReader.__cinit__\u001b[1;34m()\u001b[0m\n",
      "\u001b[1;32mpandas/_libs/parsers.pyx\u001b[0m in \u001b[0;36mpandas._libs.parsers.TextReader._setup_parser_source\u001b[1;34m()\u001b[0m\n",
      "\u001b[1;31mFileNotFoundError\u001b[0m: File b'C:/Users/thiagoPanini/Downloads/datasets/cancer_means.csv' does not exist"
     ]
    }
   ],
   "source": [
    "# Importando biblioteca e lendo arquivo\n",
    "import pandas as pd\n",
    "\n",
    "df_cancer = pd.read_csv('C:/Users/thiagoPanini/Downloads/datasets/cancer_means.csv')\n",
    "df_cancer.head()"
   ]
  },
  {
   "cell_type": "markdown",
   "metadata": {
    "heading_collapsed": true,
    "hidden": true
   },
   "source": [
    "### Preparando Dados"
   ]
  },
  {
   "cell_type": "markdown",
   "metadata": {
    "hidden": true
   },
   "source": [
    "Com o arquivo em mãos, a intenção é avaliar o passo a passo para se chegar ao resultado esperado. Percebe-se que, no conjunto em questão, há uma coluna chamada **diagnosis** responsável por identificar se o tumor é Maligno (M) ou Benigno (B). Como o objetivo, neste caso, é verificar se uma característica numérica (como o raio, por exemplo) influencia nessa classificação, seria interessante ter em mãos dois DataFrames diferentes, seguindo o formato:\n",
    "\n",
    "* df_b = Dataset com dados apenas de tumores classificados como BENIGNO;\n",
    "* df_b = Dataset com dados apenas de tumores classificados como MALIGNOS.\n",
    "\n",
    "Antes dessa operação, é importante conhecer melhor o conjunto de dados."
   ]
  },
  {
   "cell_type": "code",
   "execution_count": null,
   "metadata": {
    "ExecuteTime": {
     "end_time": "2019-04-24T22:41:19.358166Z",
     "start_time": "2019-04-24T22:41:10.788Z"
    },
    "hidden": true
   },
   "outputs": [],
   "source": [
    "# Verificando Dataset\n",
    "df_cancer.shape"
   ]
  },
  {
   "cell_type": "code",
   "execution_count": null,
   "metadata": {
    "ExecuteTime": {
     "end_time": "2019-04-24T22:41:19.360162Z",
     "start_time": "2019-04-24T22:41:10.798Z"
    },
    "hidden": true
   },
   "outputs": [],
   "source": [
    "print(f'Este Dataset possui {df_cancer.shape[0]} linhas e {df_cancer.shape[1]} colunas.')"
   ]
  },
  {
   "cell_type": "code",
   "execution_count": null,
   "metadata": {
    "ExecuteTime": {
     "end_time": "2019-04-24T22:41:19.361159Z",
     "start_time": "2019-04-24T22:41:10.809Z"
    },
    "hidden": true
   },
   "outputs": [],
   "source": [
    "# Conhecendo as colunas (atributos) do Dataset\n",
    "for i, col in enumerate(df_cancer.columns):\n",
    "    print(f'Coluna {i}: {col}')"
   ]
  },
  {
   "cell_type": "code",
   "execution_count": null,
   "metadata": {
    "ExecuteTime": {
     "end_time": "2019-04-24T22:41:19.363154Z",
     "start_time": "2019-04-24T22:41:10.816Z"
    },
    "hidden": true
   },
   "outputs": [],
   "source": [
    "# Verificando tipos de dados\n",
    "df_cancer.dtypes"
   ]
  },
  {
   "cell_type": "markdown",
   "metadata": {
    "hidden": true
   },
   "source": [
    "Aparentemente todos os dados estão em seus devidos formatos, ou seja, valores numéricos encontram-se com tipo `float64` e valores em formato de texto estão em formato `object` que, na verdade, trata-se de um formato do tipo `str`. Não será necessária nenhuma transformação de dados."
   ]
  },
  {
   "cell_type": "code",
   "execution_count": null,
   "metadata": {
    "ExecuteTime": {
     "end_time": "2019-04-24T22:41:19.364150Z",
     "start_time": "2019-04-24T22:41:10.830Z"
    },
    "hidden": true
   },
   "outputs": [],
   "source": [
    "# Retornando estatísticas sobre os dados\n",
    "df_cancer.describe()"
   ]
  },
  {
   "cell_type": "code",
   "execution_count": null,
   "metadata": {
    "ExecuteTime": {
     "end_time": "2019-04-24T22:41:19.366145Z",
     "start_time": "2019-04-24T22:41:10.837Z"
    },
    "hidden": true
   },
   "outputs": [],
   "source": [
    "# Separando DataFrame \n",
    "\n",
    "df_b = df_cancer[df_cancer['diagnosis'] == 'B']\n",
    "df_m = df_cancer[df_cancer['diagnosis'] == 'M']"
   ]
  },
  {
   "cell_type": "code",
   "execution_count": null,
   "metadata": {
    "ExecuteTime": {
     "end_time": "2019-04-24T22:41:19.367143Z",
     "start_time": "2019-04-24T22:41:10.846Z"
    },
    "hidden": true
   },
   "outputs": [],
   "source": [
    "# Verificando alterações\n",
    "df_b.head()"
   ]
  },
  {
   "cell_type": "code",
   "execution_count": null,
   "metadata": {
    "ExecuteTime": {
     "end_time": "2019-04-24T22:41:19.369137Z",
     "start_time": "2019-04-24T22:41:10.854Z"
    },
    "hidden": true
   },
   "outputs": [],
   "source": [
    "df_m.head()"
   ]
  },
  {
   "cell_type": "code",
   "execution_count": null,
   "metadata": {
    "ExecuteTime": {
     "end_time": "2019-04-24T22:41:19.373126Z",
     "start_time": "2019-04-24T22:41:10.863Z"
    },
    "hidden": true
   },
   "outputs": [],
   "source": [
    "# Verificando contagem em cada um dos DataFrames\n",
    "print(f'Amostras de tumores Maligno somam {df_m.shape[0]}.')\n",
    "print(f'Tumores Benignos totalizam {df_b.shape[0]} amostras.')"
   ]
  },
  {
   "cell_type": "code",
   "execution_count": null,
   "metadata": {
    "ExecuteTime": {
     "end_time": "2019-04-24T22:41:19.374123Z",
     "start_time": "2019-04-24T22:41:10.873Z"
    },
    "hidden": true
   },
   "outputs": [],
   "source": [
    "# Selecionando dados de uma única coluna\n",
    "df_b['area_mean']"
   ]
  },
  {
   "cell_type": "code",
   "execution_count": null,
   "metadata": {
    "ExecuteTime": {
     "end_time": "2019-04-24T22:41:19.376118Z",
     "start_time": "2019-04-24T22:41:10.884Z"
    },
    "hidden": true
   },
   "outputs": [],
   "source": [
    "# Retornando a média destes dados\n",
    "df_m['area_mean'].mean()"
   ]
  },
  {
   "cell_type": "code",
   "execution_count": null,
   "metadata": {
    "ExecuteTime": {
     "end_time": "2019-04-24T22:41:19.377115Z",
     "start_time": "2019-04-24T22:41:10.892Z"
    },
    "hidden": true
   },
   "outputs": [],
   "source": [
    "# Comparando média das áreas\n",
    "print(f'Área média de tumores Malignos: {df_m[\"area_mean\"].mean():.2f}')\n",
    "print(f'Área média de tumores Benignos: {df_b[\"area_mean\"].mean():.2f}')"
   ]
  },
  {
   "cell_type": "markdown",
   "metadata": {
    "hidden": true
   },
   "source": [
    "Já neste ponto, é possível verificar que a área média de tumores classificados como Malignos são *maiores* é maior que a área média de tumores tidos como Benignos. "
   ]
  },
  {
   "cell_type": "markdown",
   "metadata": {
    "heading_collapsed": true,
    "hidden": true
   },
   "source": [
    "### Conclusões"
   ]
  },
  {
   "cell_type": "markdown",
   "metadata": {
    "hidden": true
   },
   "source": [
    "De acordo com a preparação realizada acima, é possível concluir que a área média dos tumores de alguma forma tem influência em sua malignância. Tumores malignos costumam ser maiores que tumores benignos na grandeza área.\n",
    "\n",
    "A análise gráfica auxilia na retirada de insights e formalização de conclusões."
   ]
  },
  {
   "cell_type": "code",
   "execution_count": null,
   "metadata": {
    "ExecuteTime": {
     "end_time": "2019-04-24T22:41:19.379110Z",
     "start_time": "2019-04-24T22:41:10.915Z"
    },
    "hidden": true
   },
   "outputs": [],
   "source": [
    "# Importando matplotlib\n",
    "import matplotlib.pyplot as plt\n",
    "% matplotlib inline"
   ]
  },
  {
   "cell_type": "code",
   "execution_count": null,
   "metadata": {
    "ExecuteTime": {
     "end_time": "2019-04-24T22:41:19.380107Z",
     "start_time": "2019-04-24T22:41:10.923Z"
    },
    "hidden": true
   },
   "outputs": [],
   "source": [
    "# Plotando gráficos\n",
    "xlabel = range(0, 2501, 500)\n",
    "\n",
    "# 1 - Distribuição de tumores benignos\n",
    "df_b['area_mean'].plot(kind='hist', title='Distribuição de Área - Tumores Benignos', xticks=xlabel);"
   ]
  },
  {
   "cell_type": "code",
   "execution_count": null,
   "metadata": {
    "ExecuteTime": {
     "end_time": "2019-04-24T22:41:19.383099Z",
     "start_time": "2019-04-24T22:41:10.934Z"
    },
    "hidden": true
   },
   "outputs": [],
   "source": [
    "# 2 - Distribuição de tumores malignos\n",
    "df_m['area_mean'].plot(kind='hist', title='Distribuição de Área - Tumores Malignos', color='r', xticks=xlabel);"
   ]
  },
  {
   "cell_type": "markdown",
   "metadata": {
    "hidden": true
   },
   "source": [
    "Os gráficos acima mostram que os tumores malignos (vermelho) estão distribuidos mais a direita, ou seja, possuem maiores áreas."
   ]
  },
  {
   "cell_type": "code",
   "execution_count": null,
   "metadata": {
    "ExecuteTime": {
     "end_time": "2019-04-24T22:41:19.385095Z",
     "start_time": "2019-04-24T22:41:10.946Z"
    },
    "hidden": true
   },
   "outputs": [],
   "source": [
    "# Visualizando gráficos em duas janelas\n",
    "fig, ax = plt.subplots(2, figsize=(9, 9))\n",
    "ax[0].hist(df_b['area_mean'], label='Benignos');\n",
    "ax[0].set_title('Distribuição de Área Média de Tumores', fontsize=15)\n",
    "ax[0].legend()\n",
    "ax[0].set_xticks(xlabel);\n",
    "ax[0].set_ylabel('Frequência');\n",
    "\n",
    "ax[1].hist(df_m['area_mean'], label='Malignos', color='r')\n",
    "ax[1].legend()\n",
    "ax[1].set_xticks(xlabel);\n",
    "ax[1].set_xlabel('Área Média (um²)');\n",
    "ax[1].set_ylabel('Frequência');"
   ]
  },
  {
   "cell_type": "markdown",
   "metadata": {
    "hidden": true
   },
   "source": [
    "O conjunto de gráficos acima melhora a visualização e confirma a conclusão de que tumores malignos normalmente possuem área maior. Entretanto, ainda é possível melhorar. "
   ]
  },
  {
   "cell_type": "code",
   "execution_count": null,
   "metadata": {
    "ExecuteTime": {
     "end_time": "2019-04-24T22:41:19.388087Z",
     "start_time": "2019-04-24T22:41:10.961Z"
    },
    "hidden": true
   },
   "outputs": [],
   "source": [
    "# Plotando as duas distribuições no mesmo gráfico\n",
    "fig, ax = plt.subplots(1, 1, figsize=(9, 6))\n",
    "ax.hist(df_b['area_mean'], alpha=.5, label='Benigno');\n",
    "ax.hist(df_m['area_mean'], alpha=.5, color='r', label='Maligno');\n",
    "ax.legend();\n",
    "ax.set_title('Distribuição de área por tipo de tumor', fontsize=15);\n",
    "ax.set_xlabel('Área média (um²)');\n",
    "ax.set_ylabel('Frequência');"
   ]
  },
  {
   "cell_type": "markdown",
   "metadata": {
    "heading_collapsed": true
   },
   "source": [
    "## Censo: Ganhos Anuais e Idade"
   ]
  },
  {
   "cell_type": "markdown",
   "metadata": {
    "heading_collapsed": true,
    "hidden": true
   },
   "source": [
    "### Descrição da Análise"
   ]
  },
  {
   "cell_type": "markdown",
   "metadata": {
    "hidden": true
   },
   "source": [
    "Munidos de um Dataset contendo uma grande quantidade de informações a respeito do Censo Americano, é feita a seguinte pergunta: **há alguma relação entre o ganho anual e algum outro atributo significante entre os entrevistados?**. Para entender melhor a questão, informações adicionais sobre este conjunto de dados apresentam-se abaixo:\n"
   ]
  },
  {
   "cell_type": "code",
   "execution_count": null,
   "metadata": {
    "ExecuteTime": {
     "end_time": "2019-04-24T22:41:19.390083Z",
     "start_time": "2019-04-24T22:41:10.983Z"
    },
    "hidden": true
   },
   "outputs": [],
   "source": [
    "# Importando biblioteca e lendo arquivo\n",
    "import pandas as pd\n",
    "\n",
    "df_census = pd.read_csv('C:/Users/thiagoPanini/Downloads/datasets/census_income.csv')\n",
    "df_census.head()"
   ]
  },
  {
   "cell_type": "markdown",
   "metadata": {
    "hidden": true
   },
   "source": [
    "A coluna que indica os *ganhos anuais* de cada amostra é identificada pela sigla **income**. É necessário reparar que estes dados não estão em formato numérico, como era de se esperar, mas sim em caráter classificatório, ou seja, as amostras estão separadas em ganhos maiores que US50.000,00 ou menores ou iguais a US$50.000,00."
   ]
  },
  {
   "cell_type": "markdown",
   "metadata": {
    "heading_collapsed": true,
    "hidden": true
   },
   "source": [
    "### Preparando e Avaliando Dados"
   ]
  },
  {
   "cell_type": "code",
   "execution_count": null,
   "metadata": {
    "ExecuteTime": {
     "end_time": "2019-04-24T22:41:19.391078Z",
     "start_time": "2019-04-24T22:41:11.005Z"
    },
    "hidden": true
   },
   "outputs": [],
   "source": [
    "# Visualizando coluna income\n",
    "df_census['income'].unique()"
   ]
  },
  {
   "cell_type": "code",
   "execution_count": null,
   "metadata": {
    "ExecuteTime": {
     "end_time": "2019-04-24T22:41:19.393073Z",
     "start_time": "2019-04-24T22:41:11.016Z"
    },
    "hidden": true
   },
   "outputs": [],
   "source": [
    "# Visualizando tipos de dados\n",
    "df_census.dtypes"
   ]
  },
  {
   "cell_type": "markdown",
   "metadata": {
    "hidden": true
   },
   "source": [
    "Aparentemente os tipos de dados estão corretos, ou seja, colunas numéricas possuem dados do tipo `float` ou `int` e, da mesma forma, colunas de texto estão salvas no formato `object` que, lembrando, trata-se de formatos do tipo `string`."
   ]
  },
  {
   "cell_type": "code",
   "execution_count": null,
   "metadata": {
    "ExecuteTime": {
     "end_time": "2019-04-24T22:41:19.394070Z",
     "start_time": "2019-04-24T22:41:11.032Z"
    },
    "hidden": true
   },
   "outputs": [],
   "source": [
    "# Visualizando algumas estatísticas\n",
    "df_census.describe()"
   ]
  },
  {
   "cell_type": "code",
   "execution_count": null,
   "metadata": {
    "ExecuteTime": {
     "end_time": "2019-04-24T22:41:19.396065Z",
     "start_time": "2019-04-24T22:41:11.042Z"
    },
    "hidden": true
   },
   "outputs": [],
   "source": [
    "# Quantidade de linhas e colunas\n",
    "df_census.shape"
   ]
  },
  {
   "cell_type": "code",
   "execution_count": null,
   "metadata": {
    "ExecuteTime": {
     "end_time": "2019-04-24T22:41:19.397062Z",
     "start_time": "2019-04-24T22:41:11.053Z"
    },
    "hidden": true
   },
   "outputs": [],
   "source": [
    "# Há dados faltantes?\n",
    "df_census.isnull().values.any()"
   ]
  },
  {
   "cell_type": "code",
   "execution_count": null,
   "metadata": {
    "ExecuteTime": {
     "end_time": "2019-04-24T22:41:19.399056Z",
     "start_time": "2019-04-24T22:41:11.061Z"
    },
    "hidden": true
   },
   "outputs": [],
   "source": [
    "# Dados duplicados?\n",
    "df_census.duplicated().any()"
   ]
  },
  {
   "cell_type": "markdown",
   "metadata": {
    "hidden": true
   },
   "source": [
    "Análise sobre dados duplicados: como se trata de dados do Censo Americano, ou seja, pesquisa realizada com cidadãos, é perfeitamente possível que haja dados duplicados. Neste caso, este tipo de duplicação significa que há pessoas com o mesmo atributo, ou seja, idade, educação, ganho, etc..."
   ]
  },
  {
   "cell_type": "code",
   "execution_count": null,
   "metadata": {
    "ExecuteTime": {
     "end_time": "2019-04-24T22:41:19.402050Z",
     "start_time": "2019-04-24T22:41:11.078Z"
    },
    "hidden": true
   },
   "outputs": [],
   "source": [
    "# Contando dados duplicados\n",
    "df_census.duplicated().values.sum()"
   ]
  },
  {
   "cell_type": "code",
   "execution_count": null,
   "metadata": {
    "ExecuteTime": {
     "end_time": "2019-04-24T22:41:19.406047Z",
     "start_time": "2019-04-24T22:41:11.089Z"
    },
    "hidden": true
   },
   "outputs": [],
   "source": [
    "\"\"\"\n",
    "Próximas tarefas: separar DataFrames de acordo com os ganhos anuais (income). Realizar análises com outras colunas.\n",
    "\"\"\""
   ]
  },
  {
   "cell_type": "code",
   "execution_count": null,
   "metadata": {
    "ExecuteTime": {
     "end_time": "2019-04-24T22:41:19.409032Z",
     "start_time": "2019-04-24T22:41:11.100Z"
    },
    "hidden": true
   },
   "outputs": [],
   "source": [
    "# Separando DataFrames de acordo com os ganhos anuais\n",
    "df1 = df_census[df_census['income'] == ' >50K']\n",
    "df2 = df_census[df_census['income'] == ' <=50K']"
   ]
  },
  {
   "cell_type": "code",
   "execution_count": null,
   "metadata": {
    "ExecuteTime": {
     "end_time": "2019-04-24T22:41:19.411026Z",
     "start_time": "2019-04-24T22:41:11.109Z"
    },
    "hidden": true
   },
   "outputs": [],
   "source": [
    "# Verificando alterações\n",
    "df1.shape"
   ]
  },
  {
   "cell_type": "code",
   "execution_count": null,
   "metadata": {
    "ExecuteTime": {
     "end_time": "2019-04-24T22:41:19.413020Z",
     "start_time": "2019-04-24T22:41:11.117Z"
    },
    "hidden": true
   },
   "outputs": [],
   "source": [
    "df2.shape"
   ]
  },
  {
   "cell_type": "code",
   "execution_count": null,
   "metadata": {
    "ExecuteTime": {
     "end_time": "2019-04-24T22:41:19.414017Z",
     "start_time": "2019-04-24T22:41:11.125Z"
    },
    "hidden": true
   },
   "outputs": [],
   "source": [
    "# DataFrame com pessoas que ganham acima de 50K\n",
    "df1.head()"
   ]
  },
  {
   "cell_type": "code",
   "execution_count": null,
   "metadata": {
    "ExecuteTime": {
     "end_time": "2019-04-24T22:41:19.416012Z",
     "start_time": "2019-04-24T22:41:11.133Z"
    },
    "hidden": true
   },
   "outputs": [],
   "source": [
    "# DataFrame com pessoas que ganham 50K ou menos\n",
    "df2.head()"
   ]
  },
  {
   "cell_type": "markdown",
   "metadata": {
    "hidden": true
   },
   "source": [
    "Este tipo de procedimento normalmente é feito utilizando a função `.query()` do Pandas. A sintaxe seguiria o formato:"
   ]
  },
  {
   "cell_type": "code",
   "execution_count": null,
   "metadata": {
    "ExecuteTime": {
     "end_time": "2019-04-24T22:41:19.418007Z",
     "start_time": "2019-04-24T22:41:11.147Z"
    },
    "hidden": true
   },
   "outputs": [],
   "source": [
    "# Separando DataFrames com .query()\n",
    "df1 = df_census.query('income == \" >50K\"')\n",
    "df2 = df_census.query('income == \" <=50K\"')"
   ]
  },
  {
   "cell_type": "code",
   "execution_count": null,
   "metadata": {
    "ExecuteTime": {
     "end_time": "2019-04-24T22:41:19.424015Z",
     "start_time": "2019-04-24T22:41:11.157Z"
    },
    "hidden": true
   },
   "outputs": [],
   "source": [
    "# Verificando através de shape (números devem bater com as células acima)\n",
    "print(f'df1: {df1.shape}')\n",
    "print(f'df2: {df2.shape}')"
   ]
  },
  {
   "cell_type": "markdown",
   "metadata": {
    "hidden": true
   },
   "source": [
    "### Conclusões"
   ]
  },
  {
   "cell_type": "markdown",
   "metadata": {
    "hidden": true
   },
   "source": [
    "Com os dados devidamente preparados, é possível avaliar quais são os principais atributos que determinam ganhos acima ou abaixo de 50K anuais. Qual a diferença entre o nível de graduação nos dois Datasets?"
   ]
  },
  {
   "cell_type": "code",
   "execution_count": null,
   "metadata": {
    "ExecuteTime": {
     "end_time": "2019-04-24T22:41:19.425985Z",
     "start_time": "2019-04-24T22:41:11.173Z"
    },
    "hidden": true
   },
   "outputs": [],
   "source": [
    "# Importando matplotlib\n",
    "\n",
    "import matplotlib.pyplot as plt\n",
    "% matplotlib inline"
   ]
  },
  {
   "cell_type": "code",
   "execution_count": null,
   "metadata": {
    "ExecuteTime": {
     "end_time": "2019-04-24T22:41:19.427980Z",
     "start_time": "2019-04-24T22:41:11.181Z"
    },
    "hidden": true
   },
   "outputs": [],
   "source": [
    "# Ajuda para o gráfico de barras\n",
    "help(plt.bar)"
   ]
  },
  {
   "cell_type": "code",
   "execution_count": null,
   "metadata": {
    "ExecuteTime": {
     "end_time": "2019-04-24T22:41:19.428977Z",
     "start_time": "2019-04-24T22:41:11.192Z"
    },
    "hidden": true
   },
   "outputs": [],
   "source": [
    "# Plotando - Classe Alta\n",
    "ind = df1['education'].value_counts().index\n",
    "fig, ax = plt.subplots(figsize=(15, 5))\n",
    "ax = df1['education'].value_counts()[ind].plot(kind='bar')\n",
    "plt.xticks(rotation='vertical');\n",
    "ax.set_title('Níveis de Educação - Classe Alta', fontsize=15)\n",
    "ax.set_ylabel('Quantidade');\n",
    "plt.subplots_adjust(bottom=0.2)"
   ]
  },
  {
   "cell_type": "code",
   "execution_count": null,
   "metadata": {
    "ExecuteTime": {
     "end_time": "2019-04-24T22:41:19.430972Z",
     "start_time": "2019-04-24T22:41:11.200Z"
    },
    "hidden": true
   },
   "outputs": [],
   "source": [
    "# Plotando - Classe Média/Baixa\n",
    "fig, ax = plt.subplots(figsize=(15, 5))\n",
    "ax = df2['education'].value_counts()[ind].plot(kind='bar')\n",
    "ax.set_title('Níveis de Educação - Classe Média/Baixa', fontsize=15)\n",
    "ax.set_ylabel('Quantidade');\n",
    "plt.subplots_adjust(bottom=0.2)"
   ]
  },
  {
   "cell_type": "markdown",
   "metadata": {
    "hidden": true
   },
   "source": [
    "Apesar de favorecerem a comparação, as plotagens acima poderiam ser representadas de maneira diferente, visto que a quantidade de amostras em ambos os datasets é diferente (isto pode ser evidenciado pela diferença no eixo y nos gráficos). O ideal, neste caso, seria representar os valores por porcentagem do total."
   ]
  },
  {
   "cell_type": "code",
   "execution_count": null,
   "metadata": {
    "ExecuteTime": {
     "end_time": "2019-04-24T22:41:19.431969Z",
     "start_time": "2019-04-24T22:41:11.215Z"
    },
    "hidden": true
   },
   "outputs": [],
   "source": [
    "print(f'Amostras em df1: {df1.shape[0]}')\n",
    "print(f'Amostras em df2: {df2.shape[0]}')"
   ]
  },
  {
   "cell_type": "code",
   "execution_count": null,
   "metadata": {
    "ExecuteTime": {
     "end_time": "2019-04-24T22:41:19.432967Z",
     "start_time": "2019-04-24T22:41:11.226Z"
    },
    "hidden": true
   },
   "outputs": [],
   "source": [
    "prop_df1 = 100 * df1['education'].value_counts() / df1.shape[0]\n",
    "prop_df1"
   ]
  },
  {
   "cell_type": "code",
   "execution_count": null,
   "metadata": {
    "ExecuteTime": {
     "end_time": "2019-04-24T22:41:19.434961Z",
     "start_time": "2019-04-24T22:41:11.237Z"
    },
    "hidden": true
   },
   "outputs": [],
   "source": [
    "prop_df2 = 100 * df2['education'].value_counts() / df2.shape[0]\n",
    "prop_df2"
   ]
  },
  {
   "cell_type": "code",
   "execution_count": null,
   "metadata": {
    "ExecuteTime": {
     "end_time": "2019-04-24T22:41:19.439948Z",
     "start_time": "2019-04-24T22:41:11.246Z"
    },
    "hidden": true
   },
   "outputs": [],
   "source": [
    "# Plotando gráficos\n",
    "import numpy as np\n",
    "\n",
    "fig, ax = plt.subplots(figsize=(13, 5))\n",
    "ax = prop_df1[ind].plot(kind='bar')\n",
    "ax.set_yticks(np.arange(0, 40, 5));\n",
    "ax.set_ylabel('Porcentagem (%)', fontsize=10)\n",
    "ax.set_xlabel('Última graduação', fontsize=13)\n",
    "ax.set_title('Nível de Graduação - Classe Alta', fontsize=15)\n",
    "plt.show()"
   ]
  },
  {
   "cell_type": "code",
   "execution_count": null,
   "metadata": {
    "ExecuteTime": {
     "end_time": "2019-04-24T22:41:19.441943Z",
     "start_time": "2019-04-24T22:41:11.256Z"
    },
    "hidden": true
   },
   "outputs": [],
   "source": [
    "fig, ax = plt.subplots(figsize=(13, 5))\n",
    "ax = prop_df2[ind].plot(kind='bar')\n",
    "ax.set_yticks(np.arange(0, 40, 5));\n",
    "ax.set_ylabel('Porcentagem (%)', fontsize=10)\n",
    "ax.set_xlabel('Última graduação', fontsize=13)\n",
    "ax.set_title('Nível de Graduação - Classe Média/Baixa', fontsize=15)\n",
    "plt.show()"
   ]
  },
  {
   "cell_type": "markdown",
   "metadata": {
    "hidden": true
   },
   "source": [
    "**Considerações:** Após a avaliação gráfica, a diferença entre os níveis de escolaridade entre as Classes Alta e Média/Baixa ficaram evidente. No conjunto de dados com maior condição financeira, diplomas de Doutorado, Mestrado e Bacharelado são mais comuns. O que é visto no conjunto de dados de classe média/baixa é uma maior distribuição em escolaridades fundamentais."
   ]
  },
  {
   "cell_type": "markdown",
   "metadata": {
    "hidden": true
   },
   "source": [
    "Outra pergunta: **Qual a distribuição de idades de pessoas que ganham mais com relação às que ganham menos?**"
   ]
  },
  {
   "cell_type": "code",
   "execution_count": null,
   "metadata": {
    "ExecuteTime": {
     "end_time": "2019-04-24T22:41:19.443948Z",
     "start_time": "2019-04-24T22:41:11.278Z"
    },
    "hidden": true
   },
   "outputs": [],
   "source": [
    "# Verificando colunas\n",
    "df1.columns"
   ]
  },
  {
   "cell_type": "code",
   "execution_count": null,
   "metadata": {
    "ExecuteTime": {
     "end_time": "2019-04-24T22:41:19.444934Z",
     "start_time": "2019-04-24T22:41:11.285Z"
    },
    "hidden": true
   },
   "outputs": [],
   "source": [
    "# Ajuda histograma\n",
    "help(plt.hist)"
   ]
  },
  {
   "cell_type": "code",
   "execution_count": null,
   "metadata": {
    "ExecuteTime": {
     "end_time": "2019-04-24T22:41:19.446929Z",
     "start_time": "2019-04-24T22:41:11.294Z"
    },
    "hidden": true
   },
   "outputs": [],
   "source": [
    "# Plotando\n",
    "fig, ax = plt.subplots(2, 1, figsize=(13, 9))\n",
    "for axe in ax:\n",
    "    axe.set_ylabel('Frequência', fontsize=13)\n",
    "    axe.set_xticks(np.arange(0, 90, 10))\n",
    "ax[0].hist(df1['age'], label='Classe Alta', color='b', alpha=.5);\n",
    "ax[0].set_xticks(np.arange(0, 90, 10));\n",
    "ax[0].set_title('Distribuição de Idades por Classe', fontsize=15)\n",
    "ax[0].legend()\n",
    "\n",
    "ax[1].hist(df2['age'], label='Classe Baixa', color='g', alpha=.5);\n",
    "ax[1].set_xticks(np.arange(0, 90, 10));\n",
    "ax[1].set_xlabel('Idade', fontsize=13)\n",
    "ax[1].legend()"
   ]
  },
  {
   "cell_type": "code",
   "execution_count": null,
   "metadata": {
    "ExecuteTime": {
     "end_time": "2019-04-24T22:41:19.448924Z",
     "start_time": "2019-04-24T22:41:11.304Z"
    },
    "hidden": true
   },
   "outputs": [],
   "source": [
    "# Plotando os dois no mesmo objeto figure\n",
    "fig, ax = plt.subplots(1, 1, figsize=(11, 5))\n",
    "ax.hist(df1['age'], label='Classe Alta', color='b', alpha=.9)\n",
    "ax.hist(df2['age'], label='Classe Média/Baixa', color='g', alpha=.4)\n",
    "ax.set_title('Distribuição de Idades por Classe Social', fontsize=15)\n",
    "ax.set_ylabel('Frequência', fontsize=12)\n",
    "ax.set_xlabel('Idade', fontsize=12)\n",
    "ax.set_xticks(np.arange(0, 90, 10))\n",
    "ax.legend()\n",
    "plt.show()"
   ]
  },
  {
   "cell_type": "markdown",
   "metadata": {
    "hidden": true
   },
   "source": [
    "**Considerações:** Os gráficos acima auxiliam na percepção de que, geralmente, pessoas com maior poder aquisitivo (Classe Alta) são mais \"velhas\" com relação a pessoas com menor poder aquisitivo (Classe Média/Baixa). Este resultado, a princípio, é plausível, visto que a estabilidade financeira normalmente ocorre com o passar do tempo."
   ]
  },
  {
   "cell_type": "markdown",
   "metadata": {
    "heading_collapsed": true
   },
   "source": [
    "## Análise Química de Vinhos: Qualidade"
   ]
  },
  {
   "cell_type": "markdown",
   "metadata": {
    "hidden": true
   },
   "source": [
    "Neste estudo de caso, são apresentados dois Datasets diferentes, cada um contendo informações e características químicas de dois tipos de vinhos: Tinto e Branco. Dispondo de todo o leque de funções oferecidas pelas biblioteca do PyData Stack, propõe-se uma análise para verificar se **a qualidade atribuída a determinado tipo de vinho possui influência de seus demais atributos químicos**. Para manter o costume, este primeiro contato visa a familiarização com os conjuntos de dados oferecidos.\n",
    "\n",
    "Link: https://archive.ics.uci.edu/ml/datasets/Wine+Quality"
   ]
  },
  {
   "cell_type": "markdown",
   "metadata": {
    "hidden": true
   },
   "source": [
    "### Avaliando Dados"
   ]
  },
  {
   "cell_type": "code",
   "execution_count": null,
   "metadata": {
    "ExecuteTime": {
     "end_time": "2019-04-24T22:41:19.449921Z",
     "start_time": "2019-04-24T22:41:11.330Z"
    },
    "hidden": true
   },
   "outputs": [],
   "source": [
    "# Importando bibliotecas e lendo arquivos\n",
    "import pandas as pd\n",
    "\n",
    "df_red = pd.read_csv('C:/Users/thiagoPanini/Downloads/datasets/winequality-red.csv')\n",
    "df_white = pd.read_csv('C:/Users/thiagoPanini/Downloads/datasets/winequality-white.csv')"
   ]
  },
  {
   "cell_type": "code",
   "execution_count": null,
   "metadata": {
    "ExecuteTime": {
     "end_time": "2019-04-24T22:41:19.471875Z",
     "start_time": "2019-04-24T22:41:11.339Z"
    },
    "hidden": true
   },
   "outputs": [],
   "source": [
    "# Verificando amostras\n",
    "df_red.head()"
   ]
  },
  {
   "cell_type": "markdown",
   "metadata": {
    "hidden": true
   },
   "source": [
    "Primeiro desafio já encontrado: O separador padrão para este dataset é **;** e não simplesmente **,** - parâmetro `sep='separador'` deve ser dado."
   ]
  },
  {
   "cell_type": "code",
   "execution_count": null,
   "metadata": {
    "ExecuteTime": {
     "end_time": "2019-04-24T22:41:19.474854Z",
     "start_time": "2019-04-24T22:41:11.351Z"
    },
    "hidden": true
   },
   "outputs": [],
   "source": [
    "# Nova leitura com separador=;\n",
    "df_red = pd.read_csv('C:/Users/thiagoPanini/Downloads/datasets/winequality-red.csv', sep=';')\n",
    "df_white = pd.read_csv('C:/Users/thiagoPanini/Downloads/datasets/winequality-white.csv', sep=';')"
   ]
  },
  {
   "cell_type": "code",
   "execution_count": null,
   "metadata": {
    "ExecuteTime": {
     "end_time": "2019-04-24T22:41:19.475852Z",
     "start_time": "2019-04-24T22:41:11.361Z"
    },
    "hidden": true
   },
   "outputs": [],
   "source": [
    "# Verificando Vinho Tinto\n",
    "df_red.head()"
   ]
  },
  {
   "cell_type": "code",
   "execution_count": null,
   "metadata": {
    "ExecuteTime": {
     "end_time": "2019-04-24T22:41:19.477847Z",
     "start_time": "2019-04-24T22:41:11.368Z"
    },
    "hidden": true
   },
   "outputs": [],
   "source": [
    "# Verificando Vinho Branco\n",
    "df_white.head()"
   ]
  },
  {
   "cell_type": "code",
   "execution_count": null,
   "metadata": {
    "ExecuteTime": {
     "end_time": "2019-04-24T22:41:19.479841Z",
     "start_time": "2019-04-24T22:41:11.378Z"
    },
    "hidden": true
   },
   "outputs": [],
   "source": [
    "# Quantidade de linhas\n",
    "print(f'Amostras de Vinho Tinto: {df_red.shape[0]}')\n",
    "print(f'Amostras de Vinho Branco: {df_white.shape[0]}')"
   ]
  },
  {
   "cell_type": "code",
   "execution_count": null,
   "metadata": {
    "ExecuteTime": {
     "end_time": "2019-04-24T22:41:19.480838Z",
     "start_time": "2019-04-24T22:41:11.389Z"
    },
    "hidden": true
   },
   "outputs": [],
   "source": [
    "# Dados nulos?\n",
    "print(f'Há dados nulos nas amostras de Vinho Tinto?\\nR: {df_red.isnull().values.any()}')\n",
    "print()\n",
    "print(f'Há dados nulos nas amostras de Vinho Branco?\\nR: {df_white.isnull().values.any()}')"
   ]
  },
  {
   "cell_type": "code",
   "execution_count": null,
   "metadata": {
    "ExecuteTime": {
     "end_time": "2019-04-24T22:41:19.481835Z",
     "start_time": "2019-04-24T22:41:11.398Z"
    },
    "hidden": true
   },
   "outputs": [],
   "source": [
    "# Dados duplicados?\n",
    "print(f'Há dados duplicados nas amostras de Vinho Tinto?\\nR: {df_red.duplicated().any()}', end='')\n",
    "print(f' - {df_red.duplicated().values.sum()} dados duplicados.')"
   ]
  },
  {
   "cell_type": "code",
   "execution_count": null,
   "metadata": {
    "ExecuteTime": {
     "end_time": "2019-04-24T22:41:19.483831Z",
     "start_time": "2019-04-24T22:41:11.405Z"
    },
    "hidden": true
   },
   "outputs": [],
   "source": [
    "print(f'Há dados duplicados nas amostras de Vinho Branco?\\nR: {df_white.duplicated().any()}', end='')\n",
    "print(f' - {df_white.duplicated().values.sum()} dados duplicados.')"
   ]
  },
  {
   "cell_type": "markdown",
   "metadata": {
    "hidden": true
   },
   "source": [
    "Análise: apesar de haver dados duplicados, em se tratando de propriedades químicas sobre determinada amostra, é perfeitamente possível que dois vinhos diferentes, da mesma categoria, possuam atributos identicos. O range de possibilidades, neste caos, é pequeno, o que dá margem para este tipo de situação. O veredicto é que estes dados duplicados sejam mantidos nos Datasets."
   ]
  },
  {
   "cell_type": "code",
   "execution_count": null,
   "metadata": {
    "ExecuteTime": {
     "end_time": "2019-04-24T22:41:19.484828Z",
     "start_time": "2019-04-24T22:41:11.421Z"
    },
    "hidden": true
   },
   "outputs": [],
   "source": [
    "# Comparando alguns parâmetros entre os tipos de vinhos\n",
    "df_red.describe()"
   ]
  },
  {
   "cell_type": "code",
   "execution_count": null,
   "metadata": {
    "ExecuteTime": {
     "end_time": "2019-04-24T22:41:19.489820Z",
     "start_time": "2019-04-24T22:41:11.429Z"
    },
    "hidden": true
   },
   "outputs": [],
   "source": [
    "df_white.describe()"
   ]
  },
  {
   "cell_type": "code",
   "execution_count": null,
   "metadata": {
    "ExecuteTime": {
     "end_time": "2019-04-24T22:41:19.491809Z",
     "start_time": "2019-04-24T22:41:11.440Z"
    },
    "hidden": true
   },
   "outputs": [],
   "source": [
    "# Densidade média\n",
    "print(f'Densidade média - Vinho Tinto: {df_red[\"density\"].mean():.2f}g/cm³')\n",
    "print(f'Densidade média - Vinho Branco: {df_white[\"density\"].mean():.2f}g/cm³')"
   ]
  },
  {
   "cell_type": "code",
   "execution_count": null,
   "metadata": {
    "ExecuteTime": {
     "end_time": "2019-04-24T22:41:19.494802Z",
     "start_time": "2019-04-24T22:41:11.448Z"
    },
    "hidden": true
   },
   "outputs": [],
   "source": [
    "# pH\n",
    "print(f'pH médio - Vinho Tinto: {df_red[\"pH\"].mean():.2f}')\n",
    "print(f'pH médio - Vinho Branco: {df_white[\"pH\"].mean():.2f}')"
   ]
  },
  {
   "cell_type": "code",
   "execution_count": null,
   "metadata": {
    "ExecuteTime": {
     "end_time": "2019-04-24T22:41:19.496797Z",
     "start_time": "2019-04-24T22:41:11.458Z"
    },
    "hidden": true
   },
   "outputs": [],
   "source": [
    "# Qualidade\n",
    "print(f'Índice de Qualidade médio - Vinho Tinto: {df_red[\"quality\"].mean():.2f}')\n",
    "print(f'Índice de Qualidade médio - Vinho Branco: {df_white[\"quality\"].mean():.2f}')"
   ]
  },
  {
   "cell_type": "code",
   "execution_count": null,
   "metadata": {
    "ExecuteTime": {
     "end_time": "2019-04-24T22:41:19.498804Z",
     "start_time": "2019-04-24T22:41:11.466Z"
    },
    "hidden": true
   },
   "outputs": [],
   "source": [
    "df_red.describe()['pH']['mean']"
   ]
  },
  {
   "cell_type": "code",
   "execution_count": null,
   "metadata": {
    "ExecuteTime": {
     "end_time": "2019-04-24T22:41:19.499788Z",
     "start_time": "2019-04-24T22:41:11.477Z"
    },
    "hidden": true
   },
   "outputs": [],
   "source": [
    "# Printando todos os atributos\n",
    "def show_means(df):\n",
    "    for col in df.describe().columns:\n",
    "        print(f\"Atributo: {col} - média: {df.describe()[col]['mean']:.2f}\")"
   ]
  },
  {
   "cell_type": "code",
   "execution_count": null,
   "metadata": {
    "ExecuteTime": {
     "end_time": "2019-04-24T22:41:19.501782Z",
     "start_time": "2019-04-24T22:41:11.484Z"
    },
    "hidden": true
   },
   "outputs": [],
   "source": [
    "# Vinho Tinto\n",
    "show_means(df_red)"
   ]
  },
  {
   "cell_type": "code",
   "execution_count": null,
   "metadata": {
    "ExecuteTime": {
     "end_time": "2019-04-24T22:41:19.502780Z",
     "start_time": "2019-04-24T22:41:11.494Z"
    },
    "hidden": true
   },
   "outputs": [],
   "source": [
    "# Vinho Branco\n",
    "show_means(df_white)"
   ]
  },
  {
   "cell_type": "code",
   "execution_count": null,
   "metadata": {
    "ExecuteTime": {
     "end_time": "2019-04-24T22:41:19.506769Z",
     "start_time": "2019-04-24T22:41:11.502Z"
    },
    "hidden": true
   },
   "outputs": [],
   "source": [
    "# Verificando tipos de dados\n",
    "# Vinho Tinto\n",
    "df_red.dtypes"
   ]
  },
  {
   "cell_type": "code",
   "execution_count": null,
   "metadata": {
    "ExecuteTime": {
     "end_time": "2019-04-24T22:41:19.508764Z",
     "start_time": "2019-04-24T22:41:11.511Z"
    },
    "hidden": true
   },
   "outputs": [],
   "source": [
    "# Vinho Branco\n",
    "df_white.dtypes"
   ]
  },
  {
   "cell_type": "markdown",
   "metadata": {
    "hidden": true
   },
   "source": [
    "Não será necessária nenhuma conversão de dados."
   ]
  },
  {
   "cell_type": "code",
   "execution_count": null,
   "metadata": {
    "ExecuteTime": {
     "end_time": "2019-04-24T22:41:19.511756Z",
     "start_time": "2019-04-24T22:41:11.528Z"
    },
    "hidden": true
   },
   "outputs": [],
   "source": [
    "# Verificando informações detalhadas\n",
    "df_red.info()"
   ]
  },
  {
   "cell_type": "markdown",
   "metadata": {
    "heading_collapsed": true,
    "hidden": true
   },
   "source": [
    "### Preparando Dados"
   ]
  },
  {
   "cell_type": "markdown",
   "metadata": {
    "hidden": true
   },
   "source": [
    "Após uma breve familiarização com os conjuntos de dados fornecidos, os esforços agora serão voltados para trabalhar no problema a ser resolvido: relacionar a qualidade (nota dada na coluna *quality*) de cada amostra de Vinho com algum atributo em especial. Para isso, o primeiro passo a se fazer é **unir** os dois conjuntos de vinhos, trabalhando com um único conjunto de dados."
   ]
  },
  {
   "cell_type": "markdown",
   "metadata": {
    "hidden": true
   },
   "source": [
    "Para unir os dois Datasets, antes é necessário realizar alguns procedimentos:\n",
    "\n",
    "* Criar, em cada um dos Datasets, uma coluna adicional com a respectiva 'cor' ou 'tipo' do Vinho;\n",
    "* Para realizar este procedimento, é necessário utilizar as funções do objeto array do NumPy;\n",
    "* Criar um terceiro DataFrame que irá receber a união dos dois DataFrames."
   ]
  },
  {
   "cell_type": "code",
   "execution_count": null,
   "metadata": {
    "ExecuteTime": {
     "end_time": "2019-04-24T22:41:19.513750Z",
     "start_time": "2019-04-24T22:41:11.549Z"
    },
    "hidden": true
   },
   "outputs": [],
   "source": [
    "# Criando array de tipo\n",
    "import numpy as np\n",
    "\n",
    "help(np.repeat)"
   ]
  },
  {
   "cell_type": "code",
   "execution_count": null,
   "metadata": {
    "ExecuteTime": {
     "end_time": "2019-04-24T22:41:19.515745Z",
     "start_time": "2019-04-24T22:41:11.557Z"
    },
    "hidden": true
   },
   "outputs": [],
   "source": [
    "# Testando\n",
    "array_red = np.repeat('red', 3)"
   ]
  },
  {
   "cell_type": "code",
   "execution_count": null,
   "metadata": {
    "ExecuteTime": {
     "end_time": "2019-04-24T22:41:19.516742Z",
     "start_time": "2019-04-24T22:41:11.566Z"
    },
    "hidden": true
   },
   "outputs": [],
   "source": [
    "array_red"
   ]
  },
  {
   "cell_type": "code",
   "execution_count": null,
   "metadata": {
    "ExecuteTime": {
     "end_time": "2019-04-24T22:41:19.518751Z",
     "start_time": "2019-04-24T22:41:11.574Z"
    },
    "hidden": true
   },
   "outputs": [],
   "source": [
    "# Segundo argumento = quantidade de amostras de cada df\n",
    "array_red = np.repeat('red', df_red.shape[0])\n",
    "array_red"
   ]
  },
  {
   "cell_type": "code",
   "execution_count": null,
   "metadata": {
    "ExecuteTime": {
     "end_time": "2019-04-24T22:41:19.520732Z",
     "start_time": "2019-04-24T22:41:11.582Z"
    },
    "hidden": true
   },
   "outputs": [],
   "source": [
    "array_white = np.repeat('white', df_white.shape[0])\n",
    "array_white"
   ]
  },
  {
   "cell_type": "code",
   "execution_count": null,
   "metadata": {
    "ExecuteTime": {
     "end_time": "2019-04-24T22:41:19.523724Z",
     "start_time": "2019-04-24T22:41:11.591Z"
    },
    "hidden": true
   },
   "outputs": [],
   "source": [
    "# Verificando se as quantidades estão corretas (Resultados têm de ser True)\n",
    "print(f'Quantidade de amostras batem para Vinho Branco? {array_white.shape[0] == df_white.shape[0]}')\n",
    "print(f'Quantidade de amostras batem para Vinho Tinto? {array_red.shape[0] == df_red.shape[0]}')"
   ]
  },
  {
   "cell_type": "code",
   "execution_count": null,
   "metadata": {
    "ExecuteTime": {
     "end_time": "2019-04-24T22:41:19.525732Z",
     "start_time": "2019-04-24T22:41:11.599Z"
    },
    "hidden": true
   },
   "outputs": [],
   "source": [
    "# Agora que está tudo ok, deve-se adicionar colunas aos respectivos DataFrames\n",
    "df_red['color'] = array_red\n",
    "df_white['color'] = array_white"
   ]
  },
  {
   "cell_type": "code",
   "execution_count": null,
   "metadata": {
    "ExecuteTime": {
     "end_time": "2019-04-24T22:41:19.527713Z",
     "start_time": "2019-04-24T22:41:11.607Z"
    },
    "hidden": true
   },
   "outputs": [],
   "source": [
    "# Verificando\n",
    "df_red.head()"
   ]
  },
  {
   "cell_type": "code",
   "execution_count": null,
   "metadata": {
    "ExecuteTime": {
     "end_time": "2019-04-24T22:41:19.529708Z",
     "start_time": "2019-04-24T22:41:11.615Z"
    },
    "hidden": true
   },
   "outputs": [],
   "source": [
    "df_white.head()"
   ]
  },
  {
   "cell_type": "code",
   "execution_count": null,
   "metadata": {
    "ExecuteTime": {
     "end_time": "2019-04-24T22:41:19.531704Z",
     "start_time": "2019-04-24T22:41:11.623Z"
    },
    "hidden": true
   },
   "outputs": [],
   "source": [
    "# Por fim, deve-se criar um novo objeto DataFrame e unir os dois conjuntos através da função .append()\n",
    "df_wine = df_red.append(df_white)\n",
    "df_wine.head()"
   ]
  },
  {
   "cell_type": "code",
   "execution_count": null,
   "metadata": {
    "ExecuteTime": {
     "end_time": "2019-04-24T22:41:19.532699Z",
     "start_time": "2019-04-24T22:41:11.632Z"
    },
    "hidden": true
   },
   "outputs": [],
   "source": [
    "# Verificando através da contagem de amostras (Resultado deve ser True)\n",
    "df_wine.shape[0] == df_red.shape[0] + df_white.shape[0]"
   ]
  },
  {
   "cell_type": "markdown",
   "metadata": {
    "hidden": true
   },
   "source": [
    "Um fato de muita importância durante a fase de preparação dos dados é o nome atribuído às colunas do Dataset. É possível verificar, neste caso, que as colunas que possuem mais de uma palavra por nome contém espaços, o que dificulta o trabalho em algumas situações. Dessa forma, é necessário realizar mais uma alteração neste conjunto de dados."
   ]
  },
  {
   "cell_type": "code",
   "execution_count": null,
   "metadata": {
    "ExecuteTime": {
     "end_time": "2019-04-24T22:41:19.534694Z",
     "start_time": "2019-04-24T22:41:11.644Z"
    },
    "hidden": true
   },
   "outputs": [],
   "source": [
    "# Renomeando colunas\n",
    "df_wine.rename(columns=lambda x: x.strip().lower().replace(' ', '_'), inplace=True)\n",
    "df_wine.head(1)"
   ]
  },
  {
   "cell_type": "code",
   "execution_count": null,
   "metadata": {
    "ExecuteTime": {
     "end_time": "2019-04-24T22:41:19.535691Z",
     "start_time": "2019-04-24T22:41:11.652Z"
    },
    "hidden": true
   },
   "outputs": [],
   "source": [
    "# Salvando alterações\n",
    "df_wine.to_csv('C:/Users/thiagoPanini/Downloads/datasets/winequality-edited.csv', index=False)"
   ]
  },
  {
   "cell_type": "markdown",
   "metadata": {
    "heading_collapsed": true,
    "hidden": true
   },
   "source": [
    "### Tentativas de Conclusões"
   ]
  },
  {
   "cell_type": "markdown",
   "metadata": {
    "hidden": true
   },
   "source": [
    "Após a completa preparação dos dados, parte-se para a etapa de conclusões. Lembrando que o problema proposto é verificar se a qualidade de cada conjunto de dados está relacionada com alguma característica química específica."
   ]
  },
  {
   "cell_type": "code",
   "execution_count": null,
   "metadata": {
    "ExecuteTime": {
     "end_time": "2019-04-24T22:41:19.539681Z",
     "start_time": "2019-04-24T22:41:11.671Z"
    },
    "hidden": true
   },
   "outputs": [],
   "source": [
    "# Visualizando relações entre todas as variáveis\n",
    "import matplotlib.pyplot as plt\n",
    "import numpy as np\n",
    "% matplotlib inline\n",
    "\n",
    "help(pd.plotting.scatter_matrix)"
   ]
  },
  {
   "cell_type": "code",
   "execution_count": null,
   "metadata": {
    "ExecuteTime": {
     "end_time": "2019-04-24T22:41:19.541676Z",
     "start_time": "2019-04-24T22:41:11.680Z"
    },
    "hidden": true
   },
   "outputs": [],
   "source": [
    "# Plotando\n",
    "pd.plotting.scatter_matrix(df_wine, figsize=(18, 18));"
   ]
  },
  {
   "cell_type": "markdown",
   "metadata": {
    "hidden": true
   },
   "source": [
    "Devido a grande quantidade de variáveis, a visão geral sobre as correlações entre os atributos é dificultada. Entretanto, algumas poucas conclusões já podem ser retiradas desta análise preliminar:\n",
    "\n",
    "* Aparentemente a *qualidade* não possui fortes correlações diretas com nenhum outro atributo;\n",
    "* Outros atributos, entretanto, possuem correlações entre si (*density* e *fixed_acidity*, *density* e *alcohol*, etc)\n",
    "* O pH possui correlação negativa com fixed_acidity (conclusão plausível).\n",
    "\n",
    "Mesmo tendo em vista essas afirmações, é possível avaliar conclusões mais profundas com algumas funções diferencidas do pandas, como é o caso do `groupby()`. Com ela, os dados podem ser agrupados de acordo com determina(s) característica(s)."
   ]
  },
  {
   "cell_type": "code",
   "execution_count": null,
   "metadata": {
    "ExecuteTime": {
     "end_time": "2019-04-24T22:41:19.543670Z",
     "start_time": "2019-04-24T22:41:11.696Z"
    },
    "hidden": true
   },
   "outputs": [],
   "source": [
    "# Ajuda\n",
    "help(pd.DataFrame.groupby)"
   ]
  },
  {
   "cell_type": "code",
   "execution_count": null,
   "metadata": {
    "ExecuteTime": {
     "end_time": "2019-04-24T22:41:19.544667Z",
     "start_time": "2019-04-24T22:41:11.704Z"
    },
    "hidden": true
   },
   "outputs": [],
   "source": [
    "# Agrupando por qualidade - média de atributos\n",
    "df_wine.groupby('quality').mean()"
   ]
  },
  {
   "cell_type": "markdown",
   "metadata": {
    "hidden": true
   },
   "source": [
    "Dois pontos que podem ser percebidos:\n",
    "* Maiores qualidades estão relacionadas com **baixos** índices de **chlorides**.\n",
    "* Maiores qualidades estão relacionadas com **baixos** índices de **sulphates**.\n",
    "* Maiores qualidades estão relacionados com **altos** índices de **alcohol**."
   ]
  },
  {
   "cell_type": "code",
   "execution_count": null,
   "metadata": {
    "ExecuteTime": {
     "end_time": "2019-04-24T22:41:19.545665Z",
     "start_time": "2019-04-24T22:41:11.718Z"
    },
    "hidden": true
   },
   "outputs": [],
   "source": [
    "# Plotando gráfico - Nível Alcoólico\n",
    "fig, ax = plt.subplots(figsize=(12, 6))\n",
    "ax = df_wine.groupby('quality').mean()['alcohol'].plot(kind='bar', color='b')\n",
    "ax.set_title('Nível Alcoólico x Qualidade de Vinhos', fontsize=15)\n",
    "ax.set_xlabel('Qualidade', fontsize=13)\n",
    "plt.xticks(rotation='horizontal')\n",
    "ax.set_ylabel('Nível Alcoólico', fontsize=13)\n",
    "ax.set_ylim(8, 12.5)\n",
    "plt.show()"
   ]
  },
  {
   "cell_type": "code",
   "execution_count": null,
   "metadata": {
    "ExecuteTime": {
     "end_time": "2019-04-24T22:41:19.547660Z",
     "start_time": "2019-04-24T22:41:11.727Z"
    },
    "hidden": true
   },
   "outputs": [],
   "source": [
    "# Plotando gráfico - Cloretos\n",
    "fig, ax = plt.subplots(figsize=(12, 6))\n",
    "ax = df_wine.groupby('quality').mean()['chlorides'].plot(kind='bar', color='g', alpha=.4)\n",
    "ax.set_title('Relação entre Qualidade do Vinho e nível de Cloretos', fontsize=15, color='b')\n",
    "ax.set_xlabel('Qualidade', fontsize=13, color='b')\n",
    "ax.set_ylabel('Nível de Cloreto', fontsize=13, color='b')\n",
    "plt.grid(True)\n",
    "plt.show()"
   ]
  },
  {
   "cell_type": "markdown",
   "metadata": {
    "hidden": true
   },
   "source": [
    "Ainda sim, é possível se chegar a mais conclusões através do groupby."
   ]
  },
  {
   "cell_type": "code",
   "execution_count": null,
   "metadata": {
    "ExecuteTime": {
     "end_time": "2019-04-24T22:41:19.563617Z",
     "start_time": "2019-04-24T22:41:11.738Z"
    },
    "hidden": true
   },
   "outputs": [],
   "source": [
    "# Verificando qualidade x tipo de vinho\n",
    "df_wine.groupby(['quality', 'color']).mean()"
   ]
  },
  {
   "cell_type": "code",
   "execution_count": null,
   "metadata": {
    "ExecuteTime": {
     "end_time": "2019-04-24T22:41:19.565613Z",
     "start_time": "2019-04-24T22:41:11.747Z"
    },
    "hidden": true
   },
   "outputs": [],
   "source": [
    "# Agrupando apenas por tipo de vinho\n",
    "df_wine.groupby('color').mean()"
   ]
  },
  {
   "cell_type": "markdown",
   "metadata": {
    "hidden": true
   },
   "source": [
    "O agrupamento acima evidencia a diferença dos atributos entre os dois tipos de vinho."
   ]
  },
  {
   "cell_type": "markdown",
   "metadata": {
    "hidden": true
   },
   "source": [
    "**Desafio:** o que poderia ser feito para responder a seguinte pergunta:\n",
    "\n",
    "A qual categoria de Vinho pertence a maior taxa de vinhos aprovados com a maior nota possível?"
   ]
  },
  {
   "cell_type": "code",
   "execution_count": null,
   "metadata": {
    "ExecuteTime": {
     "end_time": "2019-04-24T22:41:19.567607Z",
     "start_time": "2019-04-24T22:41:11.764Z"
    },
    "hidden": true
   },
   "outputs": [],
   "source": [
    "# Verificando maior nota\n",
    "df_wine['quality'].max()"
   ]
  },
  {
   "cell_type": "code",
   "execution_count": null,
   "metadata": {
    "ExecuteTime": {
     "end_time": "2019-04-24T22:41:19.569603Z",
     "start_time": "2019-04-24T22:41:11.772Z"
    },
    "hidden": true
   },
   "outputs": [],
   "source": [
    "# Agrupando entre as duas categorias\n",
    "df_wine.groupby(['color', 'quality']).mean()"
   ]
  },
  {
   "cell_type": "markdown",
   "metadata": {
    "hidden": true
   },
   "source": [
    "Já é possível verificar, através do agrupamento acima, que os Vinhos Tintos não possuem nenhuma amostra aprovada com nota máxima!"
   ]
  },
  {
   "cell_type": "code",
   "execution_count": null,
   "metadata": {
    "ExecuteTime": {
     "end_time": "2019-04-24T22:41:19.572593Z",
     "start_time": "2019-04-24T22:41:11.784Z"
    },
    "hidden": true
   },
   "outputs": [],
   "source": [
    "# Visualizando quantidades\n",
    "df_wine.groupby(['color', 'quality']).count()"
   ]
  },
  {
   "cell_type": "code",
   "execution_count": null,
   "metadata": {
    "ExecuteTime": {
     "end_time": "2019-04-24T22:41:19.574589Z",
     "start_time": "2019-04-24T22:41:11.793Z"
    },
    "hidden": true
   },
   "outputs": [],
   "source": [
    "prop_df = 100 * df_wine.groupby(['color', 'quality']).count() / df_wine.shape[0]"
   ]
  },
  {
   "cell_type": "code",
   "execution_count": null,
   "metadata": {
    "ExecuteTime": {
     "end_time": "2019-04-24T22:41:19.576582Z",
     "start_time": "2019-04-24T22:41:11.804Z"
    },
    "hidden": true
   },
   "outputs": [],
   "source": [
    "df_wine.groupby(['color', 'quality']).count().index"
   ]
  },
  {
   "cell_type": "code",
   "execution_count": null,
   "metadata": {
    "ExecuteTime": {
     "end_time": "2019-04-24T22:41:19.577580Z",
     "start_time": "2019-04-24T22:41:11.813Z"
    },
    "hidden": true
   },
   "outputs": [],
   "source": [
    "for i in df_wine.groupby(['color', 'quality']).count().index:\n",
    "    print(i)"
   ]
  },
  {
   "cell_type": "code",
   "execution_count": null,
   "metadata": {
    "ExecuteTime": {
     "end_time": "2019-04-24T22:41:19.579575Z",
     "start_time": "2019-04-24T22:41:11.821Z"
    },
    "hidden": true
   },
   "outputs": [],
   "source": [
    "100 * df_wine.groupby(['color', 'quality']).count().loc['red', :] / df_wine.query('color == \"red\"').shape[0]"
   ]
  },
  {
   "cell_type": "markdown",
   "metadata": {
    "hidden": true
   },
   "source": [
    "Está ficando próximo do resultado almejado... Seguem as tentativas."
   ]
  },
  {
   "cell_type": "code",
   "execution_count": null,
   "metadata": {
    "ExecuteTime": {
     "end_time": "2019-04-24T22:41:19.581572Z",
     "start_time": "2019-04-24T22:41:11.834Z"
    },
    "hidden": true
   },
   "outputs": [],
   "source": [
    "df_prop_red = 100 * df_wine.groupby(['color', 'quality']).count().loc['red', :] / df_wine.query('color == \"red\"').shape[0]\n",
    "df_prop_red['color'] = np.repeat('red', df_prop_red.shape[0])"
   ]
  },
  {
   "cell_type": "code",
   "execution_count": null,
   "metadata": {
    "ExecuteTime": {
     "end_time": "2019-04-24T22:41:19.582567Z",
     "start_time": "2019-04-24T22:41:11.844Z"
    },
    "hidden": true
   },
   "outputs": [],
   "source": [
    "df_prop_white = 100 * df_wine.groupby(['color', 'quality']).count().loc['white', :] / df_wine.query('color == \"white\"').shape[0]\n",
    "df_prop_white['color'] = np.repeat('white', df_prop_white.shape[0])"
   ]
  },
  {
   "cell_type": "code",
   "execution_count": null,
   "metadata": {
    "ExecuteTime": {
     "end_time": "2019-04-24T22:41:19.583563Z",
     "start_time": "2019-04-24T22:41:11.853Z"
    },
    "hidden": true
   },
   "outputs": [],
   "source": [
    "df_prop_red"
   ]
  },
  {
   "cell_type": "code",
   "execution_count": null,
   "metadata": {
    "ExecuteTime": {
     "end_time": "2019-04-24T22:41:19.585559Z",
     "start_time": "2019-04-24T22:41:11.863Z"
    },
    "hidden": true
   },
   "outputs": [],
   "source": [
    "df_prop_white"
   ]
  },
  {
   "cell_type": "code",
   "execution_count": null,
   "metadata": {
    "ExecuteTime": {
     "end_time": "2019-04-24T22:41:19.588562Z",
     "start_time": "2019-04-24T22:41:11.871Z"
    },
    "hidden": true
   },
   "outputs": [],
   "source": [
    "# Perfeito. Basta unir os Datasets\n",
    "df_prop_wine = df_prop_red.append(df_prop_white)"
   ]
  },
  {
   "cell_type": "code",
   "execution_count": null,
   "metadata": {
    "ExecuteTime": {
     "end_time": "2019-04-24T22:41:19.590546Z",
     "start_time": "2019-04-24T22:41:11.881Z"
    },
    "hidden": true
   },
   "outputs": [],
   "source": [
    "# Verificando se está tudo Ok\n",
    "df_prop_wine.shape[0] == len(df_wine.groupby(['color', 'quality']))"
   ]
  },
  {
   "cell_type": "code",
   "execution_count": null,
   "metadata": {
    "ExecuteTime": {
     "end_time": "2019-04-24T22:41:19.591543Z",
     "start_time": "2019-04-24T22:41:11.889Z"
    },
    "hidden": true
   },
   "outputs": [],
   "source": [
    "df_prop_wine.groupby(['color','quality']).mean()"
   ]
  },
  {
   "cell_type": "code",
   "execution_count": null,
   "metadata": {
    "ExecuteTime": {
     "end_time": "2019-04-24T22:41:19.593537Z",
     "start_time": "2019-04-24T22:41:11.899Z"
    },
    "hidden": true
   },
   "outputs": [],
   "source": [
    "df_prop_wine[df_prop_wine['color'] == 'red'].iloc[:, 0]"
   ]
  },
  {
   "cell_type": "code",
   "execution_count": null,
   "metadata": {
    "ExecuteTime": {
     "end_time": "2019-04-24T22:41:19.595532Z",
     "start_time": "2019-04-24T22:41:11.908Z"
    },
    "hidden": true
   },
   "outputs": [],
   "source": [
    "fig, ax = plt.subplots(figsize=(12, 5))\n",
    "ax = df_prop_wine[df_prop_wine['color'] == 'red'].iloc[:, 0].plot(kind='bar', color='b')"
   ]
  },
  {
   "cell_type": "markdown",
   "metadata": {
    "heading_collapsed": true,
    "hidden": true
   },
   "source": [
    "### Conclusões Definitivas"
   ]
  },
  {
   "cell_type": "markdown",
   "metadata": {
    "hidden": true
   },
   "source": [
    "Após algumas aventuras e tentativas. Abaixo seguirão as conclusões definitivas sobre as análises de Vinho. Questões a serem respondidas:\n",
    "\n",
    "* <b>P1: Existe um certo tipo de vinho (tinto ou branco) associado a uma melhor qualidade?</b>\n",
    "\n",
    "Para esta pergunta, é necessário comparar a qualidade média do vinho tinto à qualidade média do vinho branco, com o groupby, agrupando por 'cor' e, depois, encontrando a qualidade média de cada grupo. </b>\n",
    "\n",
    "* <b>P2: Qual nível de acidez (valor de pH) recebe a classificação média mais alta?</b>\n",
    "\n",
    "Essa pergunta é mais complicada porque, ao contrário da cor, que possui categorias claras pelas quais você pode agrupar (tinto ou branco), pH é uma variável quantitativa, sem categorias claras. No entanto, existe uma solução simples para isso. É possível criar uma variável categórica de uma variável quantitativa criando suas próprias categorias. A função [Cut do Pandas](https://pandas.pydata.org/pandas-docs/stable/generated/pandas.cut.html) permite que você “corte” os dados em grupos. Usando essa função, crie uma nova coluna chamada nível_acidez com essas categorias.\n",
    "\n",
    "Níveis de acidez:\n",
    "* Alto: Abaixo de 25% dos valores de pH\n",
    "* Moderadamente alto: 25% a 50% dos valores de pH\n",
    "* Médio: 50% a 75% dos valores de pH\n",
    "* Baixo: 75% ou mais dos valores de pH"
   ]
  },
  {
   "cell_type": "code",
   "execution_count": null,
   "metadata": {
    "ExecuteTime": {
     "end_time": "2019-04-24T22:41:19.596529Z",
     "start_time": "2019-04-24T22:41:11.924Z"
    },
    "hidden": true
   },
   "outputs": [],
   "source": [
    "import pandas as pd\n",
    "import matplotlib.pyplot as plt\n",
    "import numpy as np\n",
    "% matplotlib inline \n",
    "\n",
    "df_wine = pd.read_csv('C:/Users/thiagoPanini/Downloads/datasets/winequality-edited.csv')\n",
    "df_wine.head()"
   ]
  },
  {
   "cell_type": "code",
   "execution_count": null,
   "metadata": {
    "ExecuteTime": {
     "end_time": "2019-04-24T22:41:19.598525Z",
     "start_time": "2019-04-24T22:41:11.934Z"
    },
    "hidden": true
   },
   "outputs": [],
   "source": [
    "# Verificando qualidade média por tipo de vinho\n",
    "df_wine.groupby('color').mean()"
   ]
  },
  {
   "cell_type": "code",
   "execution_count": null,
   "metadata": {
    "ExecuteTime": {
     "end_time": "2019-04-24T22:41:19.599521Z",
     "start_time": "2019-04-24T22:41:11.943Z"
    },
    "hidden": true
   },
   "outputs": [],
   "source": [
    "# Puxando coluna 'qualidade'\n",
    "df_wine.groupby('color').mean()['quality']"
   ]
  },
  {
   "cell_type": "code",
   "execution_count": null,
   "metadata": {
    "ExecuteTime": {
     "end_time": "2019-04-24T22:41:19.604508Z",
     "start_time": "2019-04-24T22:41:11.953Z"
    },
    "hidden": true
   },
   "outputs": [],
   "source": [
    "# Comunicando resultados\n",
    "print(f'Qualidade média dos Vinhos Tinto: {df_wine.groupby(\"color\").mean()[\"quality\"][0]:.2f}')\n",
    "print(f\"Qualidade média dos Vinhos Branco: {df_wine.groupby('color').mean()['quality'][1]:.2f}\")"
   ]
  },
  {
   "cell_type": "code",
   "execution_count": null,
   "metadata": {
    "ExecuteTime": {
     "end_time": "2019-04-24T22:41:19.606503Z",
     "start_time": "2019-04-24T22:41:11.964Z"
    },
    "hidden": true
   },
   "outputs": [],
   "source": [
    "# Visão gráfica\n",
    "fig, ax = plt.subplots(figsize=(7, 5))\n",
    "ax = df_wine.groupby('color').mean()['quality'].plot(kind='bar', color=['r', 'y'], alpha=.5)\n",
    "ax.set_title('Qualidade Média de Vinhos', fontsize=15)\n",
    "ax.set_xlabel('Categoria', fontsize=13)\n",
    "plt.xticks(np.arange(2), ['Tinto', 'Branco'], rotation='horizontal', fontsize=13);\n",
    "ax.set_ylabel('Qualidade Média', fontsize=12)\n",
    "ax.set_ylim(5, 6.0)\n",
    "plt.show()"
   ]
  },
  {
   "cell_type": "code",
   "execution_count": null,
   "metadata": {
    "ExecuteTime": {
     "end_time": "2019-04-24T22:41:19.607500Z",
     "start_time": "2019-04-24T22:41:11.972Z"
    },
    "hidden": true
   },
   "outputs": [],
   "source": [
    "# Verificando níveis de acidez com .cut()\n",
    "df_wine.describe()"
   ]
  },
  {
   "cell_type": "markdown",
   "metadata": {
    "hidden": true
   },
   "source": [
    "Relembrando - Níveis de acidez:\n",
    "* Alto: Abaixo de 25% dos valores de pH\n",
    "* Moderadamente alto: 25% a 50% dos valores de pH\n",
    "* Médio: 50% a 75% dos valores de pH\n",
    "* Baixo: 75% ou mais dos valores de pH"
   ]
  },
  {
   "cell_type": "code",
   "execution_count": null,
   "metadata": {
    "ExecuteTime": {
     "end_time": "2019-04-24T22:41:19.609495Z",
     "start_time": "2019-04-24T22:41:11.985Z"
    },
    "hidden": true
   },
   "outputs": [],
   "source": [
    "# Testando cut\n",
    "pd.cut(np.array([1, 2, 3, 4, 5, 6]), 3)"
   ]
  },
  {
   "cell_type": "markdown",
   "metadata": {
    "hidden": true
   },
   "source": [
    "A função <b>.cut</b> normalmente recebe como argumento um array (ou um objeto do tipo _Series_, ou seja, uma feature/coluna do DataFrame) e o número de \"splits\" de agrupamento de dados, ou seja, a quantidade de \"faixas\" ou \"ranges\" possíveis para classificação dos dados. Adicionalmente, também é possível nomear <b>labels</b> para classificação.\n",
    "\n",
    "Perceba no exemplo acima que foram passados apenas dois argumentos para a função <b>cut</b>: um array e o número de agrupamentos. A função transformou o array e o agrupou de acordo com os ranges calculados automaticamente. Os dados foram agrupados em ranges:\n",
    "\n",
    "* entre 0.995 e 2.667\n",
    "* entre 2.667 e 4.333\n",
    "* entre 4.333 e 6.000\n",
    "\n",
    "Foram verficados cada um dos elementos do array [1, 2, 3, 4, 5, 6], agrupando-os no respectivo range, de acordo com seu valor. Em outras palavras, o número 1 (elemento 0) ficou agrupado no primeiro range (0.995 a 2.667), assim como o número 2 (elemento 1). Já o número 3 foi classificado no segundo range (2.667 a 4.333) e assim sucessivamente. Vejamos um exemplo real considerando a coluna \"pH\". Documentação: [Cut-Documentation](https://pandas.pydata.org/pandas-docs/stable/generated/pandas.cut.html)"
   ]
  },
  {
   "cell_type": "code",
   "execution_count": null,
   "metadata": {
    "ExecuteTime": {
     "end_time": "2019-04-24T22:41:19.610500Z",
     "start_time": "2019-04-24T22:41:11.999Z"
    },
    "hidden": true
   },
   "outputs": [],
   "source": [
    "# Preparando cut\n",
    "df_wine.describe()['ph']"
   ]
  },
  {
   "cell_type": "code",
   "execution_count": null,
   "metadata": {
    "ExecuteTime": {
     "end_time": "2019-04-24T22:41:19.612487Z",
     "start_time": "2019-04-24T22:41:12.010Z"
    },
    "hidden": true
   },
   "outputs": [],
   "source": [
    "df_wine.describe()['ph']['25%']"
   ]
  },
  {
   "cell_type": "code",
   "execution_count": null,
   "metadata": {
    "ExecuteTime": {
     "end_time": "2019-04-24T22:41:19.614481Z",
     "start_time": "2019-04-24T22:41:12.020Z"
    },
    "hidden": true
   },
   "outputs": [],
   "source": [
    "# Agora sim\n",
    "phs = df_wine.describe()['ph']\n",
    "bin_edges = [phs['min'], phs['25%'], phs['50%'], phs['75%'], phs['max']]\n",
    "bin_edges"
   ]
  },
  {
   "cell_type": "code",
   "execution_count": null,
   "metadata": {
    "ExecuteTime": {
     "end_time": "2019-04-24T22:41:19.616476Z",
     "start_time": "2019-04-24T22:41:12.033Z"
    },
    "hidden": true
   },
   "outputs": [],
   "source": [
    "# labels\n",
    "bin_names = ['Alto', 'Moderadamente Alto', 'Médio', 'Baixo']\n",
    "bin_names"
   ]
  },
  {
   "cell_type": "code",
   "execution_count": null,
   "metadata": {
    "ExecuteTime": {
     "end_time": "2019-04-24T22:41:19.617473Z",
     "start_time": "2019-04-24T22:41:12.048Z"
    },
    "hidden": true
   },
   "outputs": [],
   "source": [
    "# Aplicando cut\n",
    "pd.cut(df_wine['ph'], bin_edges, labels=bin_names)"
   ]
  },
  {
   "cell_type": "markdown",
   "metadata": {
    "hidden": true
   },
   "source": [
    "Funcionou! Porém, os dados foram alterados no DataFrame?\n"
   ]
  },
  {
   "cell_type": "code",
   "execution_count": null,
   "metadata": {
    "ExecuteTime": {
     "end_time": "2019-04-24T22:41:19.619468Z",
     "start_time": "2019-04-24T22:41:12.065Z"
    },
    "hidden": true
   },
   "outputs": [],
   "source": [
    "# Verificando alterações\n",
    "df_wine.head()"
   ]
  },
  {
   "cell_type": "markdown",
   "metadata": {
    "hidden": true
   },
   "source": [
    "Não. É necessário incluir esta alteração através da criação de uma nova coluna chamada **acidity_level**."
   ]
  },
  {
   "cell_type": "code",
   "execution_count": null,
   "metadata": {
    "ExecuteTime": {
     "end_time": "2019-04-24T22:41:19.621463Z",
     "start_time": "2019-04-24T22:41:12.077Z"
    },
    "hidden": true
   },
   "outputs": [],
   "source": [
    "# Antes de inserir, é de bom grado verificar se a quantidade de linhas são iguais\n",
    "df_wine.shape[0] == pd.cut(df_wine['ph'], bin_edges, labels=bin_names).shape[0]"
   ]
  },
  {
   "cell_type": "code",
   "execution_count": null,
   "metadata": {
    "ExecuteTime": {
     "end_time": "2019-04-24T22:41:19.623458Z",
     "start_time": "2019-04-24T22:41:12.085Z"
    },
    "hidden": true
   },
   "outputs": [],
   "source": [
    "# Criando coluna e inserindo novos dados\n",
    "df_wine['acidity_level'] = pd.cut(df_wine['ph'], bin_edges, labels=bin_names)"
   ]
  },
  {
   "cell_type": "code",
   "execution_count": null,
   "metadata": {
    "ExecuteTime": {
     "end_time": "2019-04-24T22:41:19.624455Z",
     "start_time": "2019-04-24T22:41:12.094Z"
    },
    "hidden": true
   },
   "outputs": [],
   "source": [
    "# Verificando\n",
    "df_wine.head()"
   ]
  },
  {
   "cell_type": "code",
   "execution_count": null,
   "metadata": {
    "ExecuteTime": {
     "end_time": "2019-04-24T22:41:19.625452Z",
     "start_time": "2019-04-24T22:41:12.102Z"
    },
    "hidden": true
   },
   "outputs": [],
   "source": [
    "# Salvando novo dataset\n",
    "df_wine.to_csv('C:/Users/thiagoPanini/Downloads/datasets/winequality-cut-edited.csv', index=False)"
   ]
  },
  {
   "cell_type": "markdown",
   "metadata": {
    "hidden": true
   },
   "source": [
    "Respondendo questão:\n",
    "\n",
    "<b>P2: Qual nível de acidez (valor de pH) recebe a classificação média mais alta?</b>"
   ]
  },
  {
   "cell_type": "code",
   "execution_count": null,
   "metadata": {
    "ExecuteTime": {
     "end_time": "2019-04-24T22:41:19.627447Z",
     "start_time": "2019-04-24T22:41:12.116Z"
    },
    "hidden": true
   },
   "outputs": [],
   "source": [
    "df_wine.groupby('acidity_level').mean()['quality']"
   ]
  },
  {
   "cell_type": "code",
   "execution_count": null,
   "metadata": {
    "ExecuteTime": {
     "end_time": "2019-04-24T22:41:19.628444Z",
     "start_time": "2019-04-24T22:41:12.126Z"
    },
    "hidden": true
   },
   "outputs": [],
   "source": [
    "print(f'pHs mais baixos proporcionam maiores notas de Qualidade.')"
   ]
  },
  {
   "cell_type": "code",
   "execution_count": null,
   "metadata": {
    "ExecuteTime": {
     "end_time": "2019-04-24T22:41:19.630439Z",
     "start_time": "2019-04-24T22:41:12.136Z"
    },
    "hidden": true
   },
   "outputs": [],
   "source": [
    "# Plotando gráfico\n",
    "fig, ax = plt.subplots(figsize=(7, 5))\n",
    "ax = df_wine.groupby('acidity_level').mean()['quality'].plot(kind='bar', color='k', alpha=.5)\n",
    "ax.set_title('Qualidade por Níveis de Acidez', fontsize=15)\n",
    "plt.xticks(rotation='horizontal')\n",
    "ax.set_xlabel('Nível de Acidez', fontsize=13)\n",
    "ax.set_ylabel('Qualidade', fontsize=13)\n",
    "ax.set_ylim(5.5, 5.9)\n",
    "plt.show()"
   ]
  },
  {
   "cell_type": "markdown",
   "metadata": {
    "hidden": true
   },
   "source": [
    "**Vinhos com maior teor alcoólico recebem maiores notas?**"
   ]
  },
  {
   "cell_type": "code",
   "execution_count": null,
   "metadata": {
    "ExecuteTime": {
     "end_time": "2019-04-24T22:41:19.631436Z",
     "start_time": "2019-04-24T22:41:12.149Z"
    },
    "hidden": true
   },
   "outputs": [],
   "source": [
    "# Separando DataFrames pela mediana\n",
    "median = df_wine['alcohol'].median()\n",
    "median"
   ]
  },
  {
   "cell_type": "code",
   "execution_count": null,
   "metadata": {
    "ExecuteTime": {
     "end_time": "2019-04-24T22:41:19.633431Z",
     "start_time": "2019-04-24T22:41:12.159Z"
    },
    "hidden": true
   },
   "outputs": [],
   "source": [
    "# Separando dfs\n",
    "low_alc = df_wine.query('alcohol < @median')\n",
    "high_alc = df_wine.query('alcohol >= @median')"
   ]
  },
  {
   "cell_type": "code",
   "execution_count": null,
   "metadata": {
    "ExecuteTime": {
     "end_time": "2019-04-24T22:41:19.634428Z",
     "start_time": "2019-04-24T22:41:12.167Z"
    },
    "hidden": true
   },
   "outputs": [],
   "source": [
    "# Verificando\n",
    "df_wine.shape[0] == (low_alc.shape[0] + high_alc.shape[0])"
   ]
  },
  {
   "cell_type": "code",
   "execution_count": null,
   "metadata": {
    "ExecuteTime": {
     "end_time": "2019-04-24T22:41:19.636425Z",
     "start_time": "2019-04-24T22:41:12.180Z"
    },
    "hidden": true
   },
   "outputs": [],
   "source": [
    "# Separando em variáveis para plotar\n",
    "def bar_plot(tam_x, tam_y, colors, data, title, xlabel, ylabel, ylim):\n",
    "    fig, ax = plt.subplots(figsize=(tam_x, tam_y))\n",
    "    ax = data.plot(kind='bar', color=colors, alpha=.7)\n",
    "    ax.set_title=title\n",
    "    ax.set_xlabel=xlabel\n",
    "    ax.set_ylabel=ylabel\n",
    "    ax.set_ylim=ylim\n",
    "    plt.xticks(rotation='horizontal')\n",
    "    plt.show()"
   ]
  },
  {
   "cell_type": "code",
   "execution_count": null,
   "metadata": {
    "ExecuteTime": {
     "end_time": "2019-04-24T22:41:19.639414Z",
     "start_time": "2019-04-24T22:41:12.188Z"
    },
    "hidden": true
   },
   "outputs": [],
   "source": [
    "def plt_bar_plot(locations, heights, labels, title, xlabel, ylabel):\n",
    "    plt.bar(locations, heights, tick_label=labels)\n",
    "    plt.title(title)\n",
    "    plt.xlabel(xlabel)\n",
    "    plt.ylabel(ylabel);"
   ]
  },
  {
   "cell_type": "code",
   "execution_count": null,
   "metadata": {
    "ExecuteTime": {
     "end_time": "2019-04-24T22:41:19.644401Z",
     "start_time": "2019-04-24T22:41:12.196Z"
    },
    "hidden": true
   },
   "outputs": [],
   "source": [
    "# Especificando variáveis\n",
    "tam_x = 8\n",
    "tam_y = 5\n",
    "colors = 'k'\n",
    "data = [low_alc, high_alc]\n",
    "title='Nível Alcoólico e Qualidade'\n",
    "xlabel='Nível Alcoólico'\n",
    "ylabel='Qualidade'\n",
    "ylim=(0, 10)\n",
    "\n",
    "bar_plot(tam_x, tam_y, colors, data, title, xlabel, ylabel, ylim)"
   ]
  },
  {
   "cell_type": "code",
   "execution_count": null,
   "metadata": {
    "ExecuteTime": {
     "end_time": "2019-04-24T22:41:19.645399Z",
     "start_time": "2019-04-24T22:41:12.205Z"
    },
    "hidden": true
   },
   "outputs": [],
   "source": [
    "locations = [1, 2]\n",
    "heights = [low_alc['quality'].mean(), high_alc['quality'].mean()]\n",
    "labels = ['Baixo Teor', 'Alto Teor']\n",
    "title = 'Índice de Qualidade por Teor Alcoólico'\n",
    "xlabel = 'Teor Alcoólico'\n",
    "ylabel = 'Qualidade'"
   ]
  },
  {
   "cell_type": "code",
   "execution_count": null,
   "metadata": {
    "ExecuteTime": {
     "end_time": "2019-04-24T22:41:19.647394Z",
     "start_time": "2019-04-24T22:41:12.213Z"
    },
    "hidden": true
   },
   "outputs": [],
   "source": [
    "plt_bar_plot(locations, heights, labels, title, xlabel, ylabel)"
   ]
  },
  {
   "cell_type": "markdown",
   "metadata": {
    "hidden": true
   },
   "source": [
    "**Nesta etapa, o desfio é dar continuidade nos testes realizados na sessão 1.3.3 e plotar um gráfico de barras comparando os índices de qualidade dos dois tipos de vinho, dadas as devidas proporções em cada uma das notas atribuídas**"
   ]
  },
  {
   "cell_type": "code",
   "execution_count": null,
   "metadata": {
    "ExecuteTime": {
     "end_time": "2019-04-24T22:41:19.648390Z",
     "start_time": "2019-04-24T22:41:12.228Z"
    },
    "hidden": true
   },
   "outputs": [],
   "source": [
    "# Preparando plotagem - Média de Qualidade por Categoria\n",
    "fig, ax = plt.subplots(figsize=(9, 5))\n",
    "ax.set_title('Média de Qualidade por Categoria de Vinho', fontsize=15)\n",
    "ax.set_xlabel('Categoria', fontsize=15)\n",
    "ax.set_ylabel('Qualidade', fontsize=15)\n",
    "ax.bar([1, 2], df_wine.groupby('color').mean()['quality'], color=['red', 'blue'])\n",
    "ax.set_xticks([1, 2])\n",
    "ax.set_xticklabels(['Tinto', 'Branco'], fontsize=13)\n",
    "ax.set_ylim(5, 6.0)\n",
    "plt.show()"
   ]
  },
  {
   "cell_type": "markdown",
   "metadata": {
    "hidden": true
   },
   "source": [
    "O gráfico acima é bem interessante e consegue evidenciar que vinhos Brancos normalmente atingem notas maiores de qualidade. Entretanto, o objetivo neste ponto é comparar, nota a nota, a porcentagem obtida por cada uma das Categorias."
   ]
  },
  {
   "cell_type": "code",
   "execution_count": null,
   "metadata": {
    "ExecuteTime": {
     "end_time": "2019-04-24T22:41:19.651400Z",
     "start_time": "2019-04-24T22:41:12.240Z"
    },
    "hidden": true
   },
   "outputs": [],
   "source": [
    "# Uma outra forma de deixar o gráfico acima mais apresentável seria através da biblioteca seaborn\n",
    "import seaborn as sns\n",
    "sns.set()\n",
    "fig, ax = plt.subplots(figsize=(9, 5))\n",
    "ax.set_title('Média de Qualidade por Categoria de Vinho', fontsize=15)\n",
    "ax.set_xlabel('Categoria', fontsize=15)\n",
    "ax.set_ylabel('Qualidade', fontsize=15)\n",
    "ax.bar([1, 2], df_wine.groupby('color').mean()['quality'], color=['red', 'white'])\n",
    "ax.set_xticks([1, 2])\n",
    "ax.set_xticklabels(['Tinto', 'Branco'], fontsize=13)\n",
    "ax.set_ylim(5, 6.0)\n",
    "# ax.grid(False)\n",
    "plt.show()"
   ]
  },
  {
   "cell_type": "code",
   "execution_count": null,
   "metadata": {
    "ExecuteTime": {
     "end_time": "2019-04-24T22:41:19.652380Z",
     "start_time": "2019-04-24T22:41:12.250Z"
    },
    "hidden": true
   },
   "outputs": [],
   "source": [
    "# Preparando plotagem de contagem por índice de qualidade por categoria\n",
    "df_wine.groupby(['quality', 'color']).count()"
   ]
  },
  {
   "cell_type": "code",
   "execution_count": null,
   "metadata": {
    "ExecuteTime": {
     "end_time": "2019-04-24T22:41:19.656369Z",
     "start_time": "2019-04-24T22:41:12.260Z"
    },
    "hidden": true
   },
   "outputs": [],
   "source": [
    "# Trabalhando com proporção\n",
    "100 * df_wine.groupby(['quality', 'color']).count() / df_wine.shape[0]"
   ]
  },
  {
   "cell_type": "markdown",
   "metadata": {
    "hidden": true
   },
   "source": [
    "Percebe-se que em TODAS as notas o conjunto de Vinho Branco leva vantagem. Porém isto não representa a realidade, visto que há muito mais amostras classificadas como sendo Vinho Branco do que amostradas classificadas com Vinho Tinto"
   ]
  },
  {
   "cell_type": "code",
   "execution_count": null,
   "metadata": {
    "ExecuteTime": {
     "end_time": "2019-04-24T22:41:19.657367Z",
     "start_time": "2019-04-24T22:41:12.277Z"
    },
    "hidden": true
   },
   "outputs": [],
   "source": [
    "print('Amostras classificadas como Vinho Branco: {}'.format(df_wine.query('color == \"white\"').shape[0]))\n",
    "print('Amostras classificadas como Vinho Tinto: {}'.format(df_wine.query('color == \"red\"').shape[0]))"
   ]
  },
  {
   "cell_type": "code",
   "execution_count": null,
   "metadata": {
    "ExecuteTime": {
     "end_time": "2019-04-24T22:41:19.659361Z",
     "start_time": "2019-04-24T22:41:12.285Z"
    },
    "hidden": true
   },
   "outputs": [],
   "source": [
    "array = np.arange(0, len(data), 1)"
   ]
  },
  {
   "cell_type": "code",
   "execution_count": null,
   "metadata": {
    "ExecuteTime": {
     "end_time": "2019-04-24T22:41:19.660358Z",
     "start_time": "2019-04-24T22:41:12.296Z"
    },
    "hidden": true
   },
   "outputs": [],
   "source": [
    "len(data)"
   ]
  },
  {
   "cell_type": "code",
   "execution_count": null,
   "metadata": {
    "ExecuteTime": {
     "end_time": "2019-04-24T22:41:19.662353Z",
     "start_time": "2019-04-24T22:41:12.306Z"
    },
    "hidden": true
   },
   "outputs": [],
   "source": [
    "# Visualizando em formato gráfico\n",
    "colors = ['red', 'white']\n",
    "title = 'Porcentagem de notas de qualidade por categoria de Vinho'\n",
    "locations = [1, 2]\n",
    "data = 100 * df_wine.groupby(['quality', 'color']).count() / df_wine.shape[0]\n",
    "\n",
    "fig, ax = plt.subplots(figsize=(10, 5))\n",
    "ax = data['ph'].plot(kind='bar', color=colors)\n",
    "ax.set_title(title, fontsize=15)\n",
    "ax.set_xlabel('Qualidade', fontsize=15)\n",
    "ax.set_ylabel('Porcentagem (%)', fontsize=15)\n",
    "plt.show()"
   ]
  },
  {
   "cell_type": "markdown",
   "metadata": {
    "hidden": true
   },
   "source": [
    "Apesar de estar aparentemente OK, o gráfico não reflete a realidade pois há mais amostras de Vinho Branco do que de Vinho Tinto, o que interefere diretamente na contagem. Para resolver este problema, é necessário trabalhar com a <b>proporção</b>, ou seja, realizar a contagem em cada categoria e dividir o valor pelo total."
   ]
  },
  {
   "cell_type": "code",
   "execution_count": null,
   "metadata": {
    "ExecuteTime": {
     "end_time": "2019-04-24T22:41:19.663351Z",
     "start_time": "2019-04-24T22:41:12.323Z"
    },
    "hidden": true
   },
   "outputs": [],
   "source": [
    "df_wine.groupby('color').count()['ph']"
   ]
  },
  {
   "cell_type": "code",
   "execution_count": null,
   "metadata": {
    "ExecuteTime": {
     "end_time": "2019-04-24T22:41:19.665345Z",
     "start_time": "2019-04-24T22:41:12.331Z"
    },
    "hidden": true
   },
   "outputs": [],
   "source": [
    "# Dados\n",
    "colors = ['red', 'white'] * 6\n",
    "title = 'Porcentagem de notas de qualidade por categoria de Vinho'\n",
    "x = 'Qualidade'\n",
    "y = 'Porcentagem (%)'\n",
    "contagem = df_wine.groupby(['quality', 'color']).count()['ph'] # Total de cada uma das categorias\n",
    "total = df_wine.groupby('color').count()['ph']\n",
    "prop = 100 * contagem / total"
   ]
  },
  {
   "cell_type": "code",
   "execution_count": null,
   "metadata": {
    "ExecuteTime": {
     "end_time": "2019-04-24T22:41:19.666343Z",
     "start_time": "2019-04-24T22:41:12.342Z"
    },
    "hidden": true
   },
   "outputs": [],
   "source": [
    "# Melhorando gráfico\n",
    "\n",
    "def plot_wine_quality(dados, eixo_x, eixo_y, titulo, cores):\n",
    "    fig, ax = plt.subplots(figsize=(10, 5))\n",
    "    ax = dados.plot(kind='bar', color=cores)\n",
    "    ax.set_title(titulo, fontsize=15)\n",
    "    ax.set_xlabel(eixo_x, fontsize=15)\n",
    "    ax.set_ylabel(eixo_y, fontsize=15)\n",
    "    plt.show()"
   ]
  },
  {
   "cell_type": "code",
   "execution_count": null,
   "metadata": {
    "ExecuteTime": {
     "end_time": "2019-04-24T22:41:19.668337Z",
     "start_time": "2019-04-24T22:41:12.353Z"
    },
    "hidden": true
   },
   "outputs": [],
   "source": [
    "plot_wine_quality(prop, x, y, title, colors)"
   ]
  },
  {
   "cell_type": "markdown",
   "metadata": {
    "hidden": true
   },
   "source": [
    "Apesar de estar bem melhor, há alguns pontos a se destacar nesse gráfico.\n",
    "\n",
    "<b>Análise</b>\n",
    "\n",
    "* Nas menores classificações (3, 4 e 5), amostras de Vinho Tinto possuem uma maior proporção.\n",
    "* Em contrapartida, em classificações maiores (6, 7, 8 e 9), amostras de Vinho Branca marcam uma maior presença.\n",
    "\n",
    "<b>Melhorias</b>\n",
    "\n",
    "* Rótulos no eixo x se encontram bagunçados\n",
    "* Seria interessante colocar as barras das respectivas categorias umas do lado das outras\n",
    "* Não há espaço para amostras de Vinho Tinto com índice de qualidade = 9 (apesar deste número ser 0, deveria constar no gráfico)\n",
    "\n",
    "*Como há muita customização inclusa, seria muito mais interessante plotar este gráfico diretamente no matplotlib ao invés do pandas*"
   ]
  },
  {
   "cell_type": "code",
   "execution_count": null,
   "metadata": {
    "ExecuteTime": {
     "end_time": "2019-04-24T22:41:19.669334Z",
     "start_time": "2019-04-24T22:41:12.368Z"
    },
    "hidden": true
   },
   "outputs": [],
   "source": [
    "# Contagem para cada avaliação de vinho\n",
    "color_counts = df_wine.groupby(['color', 'quality']).count()['ph']\n",
    "color_counts"
   ]
  },
  {
   "cell_type": "code",
   "execution_count": null,
   "metadata": {
    "ExecuteTime": {
     "end_time": "2019-04-24T22:41:19.671329Z",
     "start_time": "2019-04-24T22:41:12.377Z"
    },
    "hidden": true
   },
   "outputs": [],
   "source": [
    "# Contagem total para cada tipo de vinho\n",
    "color_total = df_wine.groupby('color').count()['ph']\n",
    "color_total"
   ]
  },
  {
   "cell_type": "code",
   "execution_count": null,
   "metadata": {
    "ExecuteTime": {
     "end_time": "2019-04-24T22:41:19.673324Z",
     "start_time": "2019-04-24T22:41:12.386Z"
    },
    "hidden": true
   },
   "outputs": [],
   "source": [
    "# Obtendo proporções de cada um dos tipos de vinhos\n",
    "red_proportion = color_counts['red'] / color_total['red']\n",
    "red_proportion"
   ]
  },
  {
   "cell_type": "code",
   "execution_count": null,
   "metadata": {
    "ExecuteTime": {
     "end_time": "2019-04-24T22:41:19.674322Z",
     "start_time": "2019-04-24T22:41:12.394Z"
    },
    "hidden": true
   },
   "outputs": [],
   "source": [
    "# Repetindo para Vinho Branco\n",
    "white_proportion = color_counts['white'] / color_total['white']\n",
    "white_proportion"
   ]
  },
  {
   "cell_type": "code",
   "execution_count": null,
   "metadata": {
    "ExecuteTime": {
     "end_time": "2019-04-24T22:41:19.675318Z",
     "start_time": "2019-04-24T22:41:12.403Z"
    },
    "hidden": true
   },
   "outputs": [],
   "source": [
    "# Inserindo valor 0 para notas 9 do Vinho Tinto - Isto é necessário para manter igualdade entre os dados\n",
    "red_proportion['9'] = 0\n",
    "red_proportion"
   ]
  },
  {
   "cell_type": "code",
   "execution_count": null,
   "metadata": {
    "ExecuteTime": {
     "end_time": "2019-04-24T22:41:19.677313Z",
     "start_time": "2019-04-24T22:41:12.411Z"
    },
    "hidden": true
   },
   "outputs": [],
   "source": [
    "# Definindo parâmetros do gráfico\n",
    "ind = np.arange(len(red_proportion)) # Localização das barras\n",
    "width = .35 # Largura das barras\n",
    "\n",
    "ind"
   ]
  },
  {
   "cell_type": "code",
   "execution_count": null,
   "metadata": {
    "ExecuteTime": {
     "end_time": "2019-04-24T22:41:19.681303Z",
     "start_time": "2019-04-24T22:41:12.420Z"
    },
    "hidden": true
   },
   "outputs": [],
   "source": [
    "# Plotando barras - Preview\n",
    "red_bars = plt.bar(ind, red_proportion, width)"
   ]
  },
  {
   "cell_type": "code",
   "execution_count": null,
   "metadata": {
    "ExecuteTime": {
     "end_time": "2019-04-24T22:41:19.683297Z",
     "start_time": "2019-04-24T22:41:12.429Z"
    },
    "hidden": true
   },
   "outputs": [],
   "source": [
    "# Continuando\n",
    "sns.set()\n",
    "red_bars = plt.bar(ind, red_proportion, width, color='r', alpha=.7, label='Vinho Tinto')"
   ]
  },
  {
   "cell_type": "code",
   "execution_count": null,
   "metadata": {
    "ExecuteTime": {
     "end_time": "2019-04-24T22:41:19.685296Z",
     "start_time": "2019-04-24T22:41:12.439Z"
    },
    "hidden": true
   },
   "outputs": [],
   "source": [
    "sns.set()\n",
    "red_bars = plt.bar(ind, red_proportion, width, color='r', alpha=.7, label='Vinho Tinto')\n",
    "white_bars = plt.bar(ind + width, white_proportion, width, color='w', alpha=.7, label='Vinho Branco')"
   ]
  },
  {
   "cell_type": "code",
   "execution_count": null,
   "metadata": {
    "ExecuteTime": {
     "end_time": "2019-04-24T22:41:19.687287Z",
     "start_time": "2019-04-24T22:41:12.448Z"
    },
    "hidden": true
   },
   "outputs": [],
   "source": [
    "# Plotagem final\n",
    "sns.set()\n",
    "red_bars = plt.bar(ind, red_proportion, width, color='r', alpha=.7, label='Vinho Tinto')\n",
    "white_bars = plt.bar(ind + width, white_proportion, width, color='w', alpha=.7, label='Vinho Branco')\n",
    "\n",
    "plt.ylabel('Proporção', fontsize=13)\n",
    "plt.xlabel('Qualidade', fontsize=13)\n",
    "plt.title('Proporção por Categoria de Vinho e Índice de Qualidade', fontsize=13)\n",
    "locations = ind + width / 2 # localização dos marcadores no eixo x\n",
    "labels = ['3', '4', '5', '6', '7', '8', '9']\n",
    "plt.xticks(locations, labels)\n",
    "plt.legend()\n",
    "plt.show()"
   ]
  },
  {
   "cell_type": "code",
   "execution_count": null,
   "metadata": {
    "ExecuteTime": {
     "end_time": "2019-04-24T22:41:19.688284Z",
     "start_time": "2019-04-24T22:41:12.457Z"
    },
    "hidden": true
   },
   "outputs": [],
   "source": [
    "# Testando por fig, ax\n",
    "\n",
    "fig, ax = plt.subplots(figsize=(12, 5))\n",
    "ax.bar(ind, red_proportion, width, color='r', alpha=.7, label='Vinho Tinto')\n",
    "ax.bar(ind + width, white_proportion, width, color='w', alpha=.7, label='Vinho Branco')\n",
    "ax.set_title('Proporção de Índice de Qualidade por Categoria de Vinho', fontsize=15)\n",
    "ax.set_xlabel('Qualidade por Categoria', fontsize=13)\n",
    "ax.set_ylabel('Proporção', fontsize=13)\n",
    "locations = ind + width / 2\n",
    "labels = ['3', '4', '5', '6', '7', '8', '9']\n",
    "plt.xticks(locations, labels)\n",
    "plt.legend(fontsize=12)\n",
    "plt.show()"
   ]
  },
  {
   "cell_type": "markdown",
   "metadata": {
    "heading_collapsed": true
   },
   "source": [
    "## Car Test: Economia de Combustível"
   ]
  },
  {
   "cell_type": "markdown",
   "metadata": {
    "hidden": true
   },
   "source": [
    "Em um segundo estudo de caso mais desafiador, a Agência de Proteção Ambiental dos EUA providencia dados relacionados a um estudo de economia de combustível de acordo com diversos modelos de carros, cada qual com seus atributos característicos. Anualmente estes dados são mostrados ao governo e servem como guia para economia de combustívei no geral."
   ]
  },
  {
   "cell_type": "markdown",
   "metadata": {
    "heading_collapsed": true,
    "hidden": true
   },
   "source": [
    "### Entendendo os Dados"
   ]
  },
  {
   "cell_type": "markdown",
   "metadata": {
    "hidden": true
   },
   "source": [
    "A Agência de Proteção Ambiental dos Estados Unidos divulga, periodicamente, dados de economia de combustível coletados a partir de diveresos testes envolvendo diferentes modelos de carros, cada qual com sua característica. Neste estudo de caso, os principais pontos abordados envolvem o tratamento de duas bases, sendo a primeira referente a testes realizados em <b>2008</b> e, a segunda, relacionada a testes realizados em <b>2018</b>.\n",
    "\n",
    "Link para maiores explicações: https://www.epa.gov/compliance-and-fuel-economy-data/data-cars-used-testing-fuel-economy\n",
    "\n",
    "Explicações sobre significado de *SmartVehicle*: https://www.epa.gov/greenvehicles/consider-smartway-vehicle\n",
    "\n",
    "PDF importante a respeito dos atributos tratados: https://www.fueleconomy.gov/feg/EPAGreenGuide/GreenVehicleGuideDocumentation.pdf"
   ]
  },
  {
   "cell_type": "markdown",
   "metadata": {
    "hidden": true
   },
   "source": [
    "<b>Entendendo os dados</b>\n",
    "\n",
    "* *Model* - Fabricante e modelo do veículo\n",
    "* *Displ* - Deslocamento do motor - o tamanho de um motor em litros\n",
    "* *Cyl* - O número de cilindros de um motor específico\n",
    "* *Trans* - Tipo de transmissão e número de marchas\n",
    "* *Drive* -\tTipo de eixo de tração (2WD = tração em 2 rodas, 4WD = tração nas 4 rodas)\n",
    "* *Fuel* - Tipo de combustível\n",
    "* *Cert Region*' - Código da região de certificação\n",
    "* *Área de vendas*'' - Código da região de certificação\n",
    "* *Stnd* - Código de normas para emissões de veículos (veja as normas para emissão de veículos aqui)\n",
    "* *Stnd Description*' -\tDescrição das normas para emissões de veículos\n",
    "* *Underhood ID* -\tNúmero de identificação de 12 dígitos encontrado na etiqueta de emissão sob o capô de todos os veículos. É uma exigência da EPA designar seu “grupo de teste” ou “família do motor”. Isso é explicado em mais detalhes aqui\n",
    "* *Veh Class* -\tClasse do veículo na EPA\n",
    "* *Air Pollution Score* - Pontuação de poluição do ar (classificação de emissão)\n",
    "* *City MPG* - Mpg estimado na cidade (milhas/galão)\n",
    "* *Hwy MPG* - Mpg estimado na estrada (milhas/galão)\n",
    "* *Cmb MPG* - Mpg combinado estimado (milhas/galão)\n",
    "* *Greenhouse Gas Score* - Classificação de emissão de gases do efeito estufa\n",
    "* *SmartWay* - Sim, Não ou Elite\n",
    "* *Comb CO2*' -\tEmissões de CO2 cidade/estrada combinados em gramas por milha\n",
    "\n",
    "*' Não incluídos no conjunto de dados de 2008*\n",
    "\n",
    "*'' Não incluídos no conjunto de dados de 2018*"
   ]
  },
  {
   "attachments": {
    "atributos.png": {
     "image/png": "[encoded data removed]"
    }
   },
   "cell_type": "markdown",
   "metadata": {
    "hidden": true
   },
   "source": [
    "![atributos.png](attachment:atributos.png)"
   ]
  },
  {
   "cell_type": "markdown",
   "metadata": {
    "heading_collapsed": true,
    "hidden": true
   },
   "source": [
    "### Avaliando os Dados\n"
   ]
  },
  {
   "cell_type": "code",
   "execution_count": null,
   "metadata": {
    "ExecuteTime": {
     "end_time": "2019-04-24T22:41:19.690279Z",
     "start_time": "2019-04-24T22:41:12.494Z"
    },
    "hidden": true
   },
   "outputs": [],
   "source": [
    "# Importando pandas e lendo arquivos\n",
    "import pandas as pd\n",
    "\n",
    "df_08 = pd.read_csv('C:/Users/thiagoPanini/Downloads/datasets/all-alpha-08.csv')\n",
    "df_18 = pd.read_csv('C:/Users/thiagoPanini/Downloads/datasets/all-alpha-18.csv')"
   ]
  },
  {
   "cell_type": "code",
   "execution_count": null,
   "metadata": {
    "ExecuteTime": {
     "end_time": "2019-04-24T22:41:19.691276Z",
     "start_time": "2019-04-24T22:41:12.506Z"
    },
    "hidden": true
   },
   "outputs": [],
   "source": [
    "# Dados de análises feitas em 2008\n",
    "df_08.head()"
   ]
  },
  {
   "cell_type": "code",
   "execution_count": null,
   "metadata": {
    "ExecuteTime": {
     "end_time": "2019-04-24T22:41:19.693271Z",
     "start_time": "2019-04-24T22:41:12.515Z"
    },
    "hidden": true
   },
   "outputs": [],
   "source": [
    "# Dados provenientes de análises de 2018\n",
    "df_18.head()"
   ]
  },
  {
   "cell_type": "code",
   "execution_count": null,
   "metadata": {
    "ExecuteTime": {
     "end_time": "2019-04-24T22:41:19.694268Z",
     "start_time": "2019-04-24T22:41:12.528Z"
    },
    "hidden": true
   },
   "outputs": [],
   "source": [
    "# Contagem de linhas e colunas\n",
    "print(f'Estudo de 2008: {df_08.shape[0]} linhas e {df_08.shape[1]} colunas.')\n",
    "print(f'Estudo de 2018: {df_18.shape[0]} linhas e {df_18.shape[1]} colunas.')"
   ]
  },
  {
   "cell_type": "code",
   "execution_count": null,
   "metadata": {
    "ExecuteTime": {
     "end_time": "2019-04-24T22:41:19.695265Z",
     "start_time": "2019-04-24T22:41:12.536Z"
    },
    "hidden": true
   },
   "outputs": [],
   "source": [
    "# Há dados nulos?\n",
    "df_08.isnull().values.sum()"
   ]
  },
  {
   "cell_type": "code",
   "execution_count": null,
   "metadata": {
    "ExecuteTime": {
     "end_time": "2019-04-24T22:41:19.697260Z",
     "start_time": "2019-04-24T22:41:12.546Z"
    },
    "hidden": true
   },
   "outputs": [],
   "source": [
    "df_18.isnull().values.any()"
   ]
  },
  {
   "cell_type": "code",
   "execution_count": null,
   "metadata": {
    "ExecuteTime": {
     "end_time": "2019-04-24T22:41:19.698258Z",
     "start_time": "2019-04-24T22:41:12.555Z"
    },
    "hidden": true
   },
   "outputs": [],
   "source": [
    "# Comunicando\n",
    "print(f'Conjunto de 2008: {df_08.isnull().sum().max()} dados nulos.')\n",
    "print(f'Conjunto de 2018: {df_18.isnull().sum().max()} dados nulos.')"
   ]
  },
  {
   "cell_type": "code",
   "execution_count": null,
   "metadata": {
    "ExecuteTime": {
     "end_time": "2019-04-24T22:41:19.700253Z",
     "start_time": "2019-04-24T22:41:12.579Z"
    },
    "hidden": true
   },
   "outputs": [],
   "source": [
    "# Há dados duplicados?\n",
    "df_08.duplicated().values.any()"
   ]
  },
  {
   "cell_type": "code",
   "execution_count": null,
   "metadata": {
    "ExecuteTime": {
     "end_time": "2019-04-24T22:41:19.701249Z",
     "start_time": "2019-04-24T22:41:12.595Z"
    },
    "hidden": true
   },
   "outputs": [],
   "source": [
    "df_18.duplicated().values.any()"
   ]
  },
  {
   "cell_type": "code",
   "execution_count": null,
   "metadata": {
    "ExecuteTime": {
     "end_time": "2019-04-24T22:41:19.703244Z",
     "start_time": "2019-04-24T22:41:12.617Z"
    },
    "hidden": true
   },
   "outputs": [],
   "source": [
    "# Comunicando\n",
    "print(f'Conjunto de 2008: {df_08.duplicated().values.sum()} dados duplicados.')\n",
    "print(f'Conjunto de 2018: {df_18.duplicated().values.sum()} dados duplicados.')"
   ]
  },
  {
   "cell_type": "code",
   "execution_count": null,
   "metadata": {
    "ExecuteTime": {
     "end_time": "2019-04-24T22:41:19.705239Z",
     "start_time": "2019-04-24T22:41:12.638Z"
    },
    "hidden": true
   },
   "outputs": [],
   "source": [
    "# Verificando tipos de dados\n",
    "print('Conjunto de 2008:')\n",
    "df_08.dtypes"
   ]
  },
  {
   "cell_type": "code",
   "execution_count": null,
   "metadata": {
    "ExecuteTime": {
     "end_time": "2019-04-24T22:41:19.706236Z",
     "start_time": "2019-04-24T22:41:12.657Z"
    },
    "hidden": true
   },
   "outputs": [],
   "source": [
    "print('Conjunto de 2018: ')\n",
    "df_18.dtypes"
   ]
  },
  {
   "cell_type": "markdown",
   "metadata": {
    "hidden": true
   },
   "source": [
    "Há uma grande quantidade de dados salvos como `str` e isso precisa ser modificado. Na sessão de Preparação dos Dados estes casos serão tratados."
   ]
  },
  {
   "cell_type": "code",
   "execution_count": null,
   "metadata": {
    "ExecuteTime": {
     "end_time": "2019-04-24T22:41:19.708231Z",
     "start_time": "2019-04-24T22:41:12.696Z"
    },
    "hidden": true
   },
   "outputs": [],
   "source": [
    "# Verificando pontos adicionais\n",
    "\n",
    "# Dados únicos de algumas colunas\n",
    "df_08.nunique()"
   ]
  },
  {
   "cell_type": "code",
   "execution_count": null,
   "metadata": {
    "ExecuteTime": {
     "end_time": "2019-04-24T22:41:19.709227Z",
     "start_time": "2019-04-24T22:41:12.736Z"
    },
    "hidden": true
   },
   "outputs": [],
   "source": [
    "df_08['Veh Class'].value_counts()"
   ]
  },
  {
   "cell_type": "code",
   "execution_count": null,
   "metadata": {
    "ExecuteTime": {
     "end_time": "2019-04-24T22:41:19.711223Z",
     "start_time": "2019-04-24T22:41:12.755Z"
    },
    "hidden": true
   },
   "outputs": [],
   "source": [
    "df_18['Fuel'].value_counts()"
   ]
  },
  {
   "cell_type": "markdown",
   "metadata": {
    "hidden": true
   },
   "source": [
    "Pontos destacados:\n",
    "* Renomear colunas na forma padrão e excluir excedentes;\n",
    "* Filtrar dados de acordo com objetivo;\n",
    "* Remover dados missing;\n",
    "* Remover dados duplicados;\n",
    "* Transformar tipos de dados;\n",
    "* Garantir que ambos os DataFrames possuam as mesmas colunas com os mesmos nomes;\n",
    "* Excluir colunas (drop) irrelevantes para a análise."
   ]
  },
  {
   "cell_type": "markdown",
   "metadata": {
    "heading_collapsed": true,
    "hidden": true
   },
   "source": [
    "### Preparando Dados"
   ]
  },
  {
   "cell_type": "markdown",
   "metadata": {
    "hidden": true
   },
   "source": [
    "Colocando em prática os tópicos levantados na sessão de Avaliação dos Dados, o primeiro passo é renomear colunas e remover atributos irrelevantes. Para a análise proposta, entende-se por atributos irrelevantes:\n",
    "\n",
    "* Do conjunto de dados de 2008: *'Stnd', 'Underhood ID', 'FE Calc Appr', 'Unadj Cmb MPG'*\n",
    "* Do conjunto de dados de 2018: *'Stnd', 'Stnd Description', 'Underhood ID', 'Comb CO2'*"
   ]
  },
  {
   "cell_type": "code",
   "execution_count": null,
   "metadata": {
    "ExecuteTime": {
     "end_time": "2019-04-24T22:41:19.712220Z",
     "start_time": "2019-04-24T22:41:12.838Z"
    },
    "hidden": true
   },
   "outputs": [],
   "source": [
    "# Verificações antes da exclusão\n",
    "df_08.shape"
   ]
  },
  {
   "cell_type": "code",
   "execution_count": null,
   "metadata": {
    "ExecuteTime": {
     "end_time": "2019-04-24T22:41:19.713217Z",
     "start_time": "2019-04-24T22:41:12.853Z"
    },
    "hidden": true
   },
   "outputs": [],
   "source": [
    "df_08.columns"
   ]
  },
  {
   "cell_type": "code",
   "execution_count": null,
   "metadata": {
    "ExecuteTime": {
     "end_time": "2019-04-24T22:41:19.715212Z",
     "start_time": "2019-04-24T22:41:12.872Z"
    },
    "hidden": true
   },
   "outputs": [],
   "source": [
    "df_08.head(1)"
   ]
  },
  {
   "cell_type": "code",
   "execution_count": null,
   "metadata": {
    "ExecuteTime": {
     "end_time": "2019-04-24T22:41:19.721197Z",
     "start_time": "2019-04-24T22:41:12.891Z"
    },
    "hidden": true
   },
   "outputs": [],
   "source": [
    "# Removendo colunas\n",
    "drop_08 = ['Stnd', 'Underhood ID', 'FE Calc Appr', 'Unadj Cmb MPG']\n",
    "df_08.drop(drop_08, axis=1, inplace=True)"
   ]
  },
  {
   "cell_type": "code",
   "execution_count": null,
   "metadata": {
    "ExecuteTime": {
     "end_time": "2019-04-24T22:41:19.723190Z",
     "start_time": "2019-04-24T22:41:12.930Z"
    },
    "hidden": true
   },
   "outputs": [],
   "source": [
    "# Verificações\n",
    "df_08.shape"
   ]
  },
  {
   "cell_type": "code",
   "execution_count": null,
   "metadata": {
    "ExecuteTime": {
     "end_time": "2019-04-24T22:41:19.725185Z",
     "start_time": "2019-04-24T22:41:12.947Z"
    },
    "hidden": true
   },
   "outputs": [],
   "source": [
    "df_08.head(1)"
   ]
  },
  {
   "cell_type": "code",
   "execution_count": null,
   "metadata": {
    "ExecuteTime": {
     "end_time": "2019-04-24T22:41:19.726183Z",
     "start_time": "2019-04-24T22:41:12.967Z"
    },
    "hidden": true
   },
   "outputs": [],
   "source": [
    "# Realizando mesmo procedimento com dados de 2018\n",
    "df_18.shape"
   ]
  },
  {
   "cell_type": "code",
   "execution_count": null,
   "metadata": {
    "ExecuteTime": {
     "end_time": "2019-04-24T22:41:19.727180Z",
     "start_time": "2019-04-24T22:41:12.996Z"
    },
    "hidden": true
   },
   "outputs": [],
   "source": [
    "df_18.head(1)"
   ]
  },
  {
   "cell_type": "code",
   "execution_count": null,
   "metadata": {
    "ExecuteTime": {
     "end_time": "2019-04-24T22:41:19.729175Z",
     "start_time": "2019-04-24T22:41:13.012Z"
    },
    "hidden": true
   },
   "outputs": [],
   "source": [
    "drop_18 = ['Stnd', 'Stnd Description', 'Underhood ID', 'Comb CO2']\n",
    "df_18.drop(drop_18, axis=1, inplace=True)\n",
    "df_18.shape"
   ]
  },
  {
   "cell_type": "code",
   "execution_count": null,
   "metadata": {
    "ExecuteTime": {
     "end_time": "2019-04-24T22:41:19.730172Z",
     "start_time": "2019-04-24T22:41:13.052Z"
    },
    "hidden": true
   },
   "outputs": [],
   "source": [
    "df_18.head(1)"
   ]
  },
  {
   "cell_type": "code",
   "execution_count": null,
   "metadata": {
    "ExecuteTime": {
     "end_time": "2019-04-24T22:41:19.732166Z",
     "start_time": "2019-04-24T22:41:13.064Z"
    },
    "hidden": true
   },
   "outputs": [],
   "source": [
    "# Renomeando colunas com função .rename()\n",
    "# 1 - Sales Area em 2008 deveria ser Cert Region (assim como em 2018)\n",
    "df_08.rename(columns={'Sales Area': 'Cert Region'}, inplace=True)\n",
    "df_08.head(1)"
   ]
  },
  {
   "cell_type": "code",
   "execution_count": null,
   "metadata": {
    "ExecuteTime": {
     "end_time": "2019-04-24T22:41:19.733164Z",
     "start_time": "2019-04-24T22:41:13.086Z"
    },
    "hidden": true
   },
   "outputs": [],
   "source": [
    "# Agora é possível aplicar o rename em todas as colunas para deixa-las no formato \"padrão\"\n",
    "df_08.columns == df_18.columns"
   ]
  },
  {
   "cell_type": "code",
   "execution_count": null,
   "metadata": {
    "ExecuteTime": {
     "end_time": "2019-04-24T22:41:19.735159Z",
     "start_time": "2019-04-24T22:41:13.103Z"
    },
    "hidden": true
   },
   "outputs": [],
   "source": [
    "# Renomeando\n",
    "df_08.rename(columns=lambda x: x.strip().lower().replace(' ', '_'), inplace=True)\n",
    "df_18.rename(columns=lambda x: x.strip().lower().replace(' ', '_'), inplace=True)"
   ]
  },
  {
   "cell_type": "code",
   "execution_count": null,
   "metadata": {
    "ExecuteTime": {
     "end_time": "2019-04-24T22:41:19.736155Z",
     "start_time": "2019-04-24T22:41:13.115Z"
    },
    "hidden": true
   },
   "outputs": [],
   "source": [
    "df_08.head(1)"
   ]
  },
  {
   "cell_type": "code",
   "execution_count": null,
   "metadata": {
    "ExecuteTime": {
     "end_time": "2019-04-24T22:41:19.738151Z",
     "start_time": "2019-04-24T22:41:13.129Z"
    },
    "hidden": true
   },
   "outputs": [],
   "source": [
    "df_18.head(1)"
   ]
  },
  {
   "cell_type": "markdown",
   "metadata": {
    "hidden": true
   },
   "source": [
    "**Filtrando e removendo dados nulos e duplicados**"
   ]
  },
  {
   "cell_type": "code",
   "execution_count": null,
   "metadata": {
    "ExecuteTime": {
     "end_time": "2019-04-24T22:41:19.739149Z",
     "start_time": "2019-04-24T22:41:13.141Z"
    },
    "hidden": true
   },
   "outputs": [],
   "source": [
    "# Filtro para captar apenas carros certificados na California (cert_region == CA)\n",
    "df_08['cert_region'].value_counts()"
   ]
  },
  {
   "cell_type": "code",
   "execution_count": null,
   "metadata": {
    "ExecuteTime": {
     "end_time": "2019-04-24T22:41:19.741143Z",
     "start_time": "2019-04-24T22:41:13.152Z"
    },
    "hidden": true
   },
   "outputs": [],
   "source": [
    "df_18['cert_region'].value_counts()"
   ]
  },
  {
   "cell_type": "code",
   "execution_count": null,
   "metadata": {
    "ExecuteTime": {
     "end_time": "2019-04-24T22:41:19.742140Z",
     "start_time": "2019-04-24T22:41:13.162Z"
    },
    "hidden": true
   },
   "outputs": [],
   "source": [
    "# Realizando procedimento com .query()\n",
    "df_08.query('cert_region == \"CA\"', inplace=True)\n",
    "df_18.query('cert_region == \"CA\"', inplace=True)"
   ]
  },
  {
   "cell_type": "code",
   "execution_count": null,
   "metadata": {
    "ExecuteTime": {
     "end_time": "2019-04-24T22:41:19.744135Z",
     "start_time": "2019-04-24T22:41:13.171Z"
    },
    "hidden": true
   },
   "outputs": [],
   "source": [
    "# Verificando alterações\n",
    "df_08['cert_region'].unique()"
   ]
  },
  {
   "cell_type": "code",
   "execution_count": null,
   "metadata": {
    "ExecuteTime": {
     "end_time": "2019-04-24T22:41:19.745131Z",
     "start_time": "2019-04-24T22:41:13.180Z"
    },
    "hidden": true
   },
   "outputs": [],
   "source": [
    "df_18['cert_region'].unique()"
   ]
  },
  {
   "cell_type": "code",
   "execution_count": null,
   "metadata": {
    "ExecuteTime": {
     "end_time": "2019-04-24T22:41:19.747126Z",
     "start_time": "2019-04-24T22:41:13.191Z"
    },
    "hidden": true
   },
   "outputs": [],
   "source": [
    "# Removendo nulos\n",
    "df_08.isnull().sum()"
   ]
  },
  {
   "cell_type": "code",
   "execution_count": null,
   "metadata": {
    "ExecuteTime": {
     "end_time": "2019-04-24T22:41:19.748124Z",
     "start_time": "2019-04-24T22:41:13.200Z"
    },
    "hidden": true
   },
   "outputs": [],
   "source": [
    "df_18.isnull().sum()"
   ]
  },
  {
   "cell_type": "code",
   "execution_count": null,
   "metadata": {
    "ExecuteTime": {
     "end_time": "2019-04-24T22:41:19.750118Z",
     "start_time": "2019-04-24T22:41:13.211Z"
    },
    "hidden": true
   },
   "outputs": [],
   "source": [
    "# Aplicando função .dropna\n",
    "df_08.dropna(inplace=True)\n",
    "df_18.dropna(inplace=True)"
   ]
  },
  {
   "cell_type": "code",
   "execution_count": null,
   "metadata": {
    "ExecuteTime": {
     "end_time": "2019-04-24T22:41:19.751116Z",
     "start_time": "2019-04-24T22:41:13.218Z"
    },
    "hidden": true
   },
   "outputs": [],
   "source": [
    "# Verificando\n",
    "print(f'Há dados nulos no conjunto de 2008?\\nR: {df_08.isnull().values.any()}')\n",
    "print(f'Há dados nulos no conjunto de 2018?\\nR: {df_18.isnull().values.any()}')"
   ]
  },
  {
   "cell_type": "code",
   "execution_count": null,
   "metadata": {
    "ExecuteTime": {
     "end_time": "2019-04-24T22:41:19.752113Z",
     "start_time": "2019-04-24T22:41:13.229Z"
    },
    "hidden": true
   },
   "outputs": [],
   "source": [
    "# Removendo dados duplicados\n",
    "df_08.drop_duplicates(inplace=True)\n",
    "df_18.drop_duplicates(inplace=True)"
   ]
  },
  {
   "cell_type": "code",
   "execution_count": null,
   "metadata": {
    "ExecuteTime": {
     "end_time": "2019-04-24T22:41:19.753110Z",
     "start_time": "2019-04-24T22:41:13.237Z"
    },
    "hidden": true
   },
   "outputs": [],
   "source": [
    "# Verificando\n",
    "print(f'Há dados duplicados no conjunto de 2008?\\nR: {df_08.duplicated().any()}')\n",
    "print(f'Há dados duplicados no conjunto de 2018?\\nR: {df_18.duplicated().any()}')"
   ]
  },
  {
   "cell_type": "code",
   "execution_count": null,
   "metadata": {
    "ExecuteTime": {
     "end_time": "2019-04-24T22:41:19.755106Z",
     "start_time": "2019-04-24T22:41:13.246Z"
    },
    "hidden": true
   },
   "outputs": [],
   "source": [
    "# Salvando alterações\n",
    "df_08.to_csv('C:/Users/thiagoPanini/Downloads/datasets/all-alpha-08-edited.csv', index=False)\n",
    "df_18.to_csv('C:/Users/thiagoPanini/Downloads/datasets/all-alpha-18-edited.csv', index=False)"
   ]
  },
  {
   "cell_type": "markdown",
   "metadata": {
    "hidden": true
   },
   "source": [
    "**Modificando tipos de dados**"
   ]
  },
  {
   "cell_type": "code",
   "execution_count": null,
   "metadata": {
    "ExecuteTime": {
     "end_time": "2019-04-24T22:41:19.757100Z",
     "start_time": "2019-04-24T22:41:13.261Z"
    },
    "hidden": true
   },
   "outputs": [],
   "source": [
    "# Verificando tipos de dados em cada um dos datasets\n",
    "df_08.dtypes"
   ]
  },
  {
   "cell_type": "code",
   "execution_count": null,
   "metadata": {
    "ExecuteTime": {
     "end_time": "2019-04-24T22:41:19.761089Z",
     "start_time": "2019-04-24T22:41:13.270Z"
    },
    "hidden": true
   },
   "outputs": [],
   "source": [
    "df_18.dtypes"
   ]
  },
  {
   "cell_type": "markdown",
   "metadata": {
    "hidden": true
   },
   "source": [
    "<b>Tarefas:</b>\n",
    "\n",
    "<b>Ajustando tipo de dados “cyl.”</b>\n",
    "* 2008: extrair int da string.\n",
    "* 2018: transformar float em int.\n",
    "\n",
    "<b>Ajustar tipo de dados “air_pollution_score”</b>\n",
    "* 2008: transformar string em float.\n",
    "* 2018: transformar int em float.\n",
    "\n",
    "<b>Ajustar tipos de dados “city_mpg”, “hwy_mpg” e “cmb_mpg”</b>\n",
    "* 2008 e 2018: transformar string em float.\n",
    "\n",
    "<b>Ajustar tipo de dados “greenhouse_gas_score”</b>\n",
    "* 2008: transformar float em int."
   ]
  },
  {
   "cell_type": "code",
   "execution_count": null,
   "metadata": {
    "ExecuteTime": {
     "end_time": "2019-04-24T22:41:19.763085Z",
     "start_time": "2019-04-24T22:41:13.287Z"
    },
    "hidden": true
   },
   "outputs": [],
   "source": [
    "# Ajustando coluna cyl - 2008\n",
    "df_08['cyl'][0]"
   ]
  },
  {
   "cell_type": "code",
   "execution_count": null,
   "metadata": {
    "ExecuteTime": {
     "end_time": "2019-04-24T22:41:19.764081Z",
     "start_time": "2019-04-24T22:41:13.295Z"
    },
    "hidden": true
   },
   "outputs": [],
   "source": [
    "# Extraindo número inteiro através da função .str.extract\n",
    "df_08['cyl'] = df_08['cyl'].str.extract('(\\d+)').astype(int)"
   ]
  },
  {
   "cell_type": "markdown",
   "metadata": {
    "hidden": true
   },
   "source": [
    "Referência: https://stackoverflow.com/questions/35376387/extract-int-from-string-in-pandas"
   ]
  },
  {
   "cell_type": "code",
   "execution_count": null,
   "metadata": {
    "ExecuteTime": {
     "end_time": "2019-04-24T22:41:19.766076Z",
     "start_time": "2019-04-24T22:41:13.307Z"
    },
    "hidden": true
   },
   "outputs": [],
   "source": [
    "df_08['cyl'][0]"
   ]
  },
  {
   "cell_type": "code",
   "execution_count": null,
   "metadata": {
    "ExecuteTime": {
     "end_time": "2019-04-24T22:41:19.767073Z",
     "start_time": "2019-04-24T22:41:13.318Z"
    },
    "hidden": true
   },
   "outputs": [],
   "source": [
    "type(df_08['cyl'][0])"
   ]
  },
  {
   "cell_type": "code",
   "execution_count": null,
   "metadata": {
    "ExecuteTime": {
     "end_time": "2019-04-24T22:41:19.768071Z",
     "start_time": "2019-04-24T22:41:13.329Z"
    },
    "hidden": true
   },
   "outputs": [],
   "source": [
    "# Ajustando coluna cyl - 2018\n",
    "df_18['cyl'][1]"
   ]
  },
  {
   "cell_type": "code",
   "execution_count": null,
   "metadata": {
    "ExecuteTime": {
     "end_time": "2019-04-24T22:41:19.770065Z",
     "start_time": "2019-04-24T22:41:13.337Z"
    },
    "hidden": true
   },
   "outputs": [],
   "source": [
    "type(df_18['cyl'][1])"
   ]
  },
  {
   "cell_type": "code",
   "execution_count": null,
   "metadata": {
    "ExecuteTime": {
     "end_time": "2019-04-24T22:41:19.771063Z",
     "start_time": "2019-04-24T22:41:13.348Z"
    },
    "hidden": true
   },
   "outputs": [],
   "source": [
    "df_18['cyl'] = df_18['cyl'].astype(int)"
   ]
  },
  {
   "cell_type": "code",
   "execution_count": null,
   "metadata": {
    "ExecuteTime": {
     "end_time": "2019-04-24T22:41:19.773057Z",
     "start_time": "2019-04-24T22:41:13.358Z"
    },
    "hidden": true
   },
   "outputs": [],
   "source": [
    "type(df_18['cyl'][1])"
   ]
  },
  {
   "cell_type": "markdown",
   "metadata": {
    "hidden": true
   },
   "source": [
    "<b>Ajustar tipo de dados “air_pollution_score”</b>\n",
    "* 2008: transformar string em float.\n",
    "* 2018: transformar int em float."
   ]
  },
  {
   "cell_type": "code",
   "execution_count": null,
   "metadata": {
    "ExecuteTime": {
     "end_time": "2019-04-24T22:41:19.774054Z",
     "start_time": "2019-04-24T22:41:13.370Z"
    },
    "hidden": true
   },
   "outputs": [],
   "source": [
    "# Facilitando\n",
    "apc = 'air_pollution_score'\n",
    "print(f'Antes da conversão - Tipo: {type(df_08[apc][0])}')\n",
    "df_08[apc] = df_08[apc].astype(float)\n",
    "print(f'Depois da conversão - Tipo: {type(df_08[apc][0])}')"
   ]
  },
  {
   "cell_type": "markdown",
   "metadata": {
    "hidden": true
   },
   "source": [
    "Aparentemente foi encontrado um erro peculiar. A mensagem diz que não foi possível converter a string \"6/4\" em `float`. Parece que há alguns dados 'estranhos' no Dataset. Investigando..."
   ]
  },
  {
   "cell_type": "code",
   "execution_count": null,
   "metadata": {
    "ExecuteTime": {
     "end_time": "2019-04-24T22:41:19.776050Z",
     "start_time": "2019-04-24T22:41:13.386Z"
    },
    "hidden": true
   },
   "outputs": [],
   "source": [
    "# Como está a coluna air_pollution_score?\n",
    "df_08[apc].value_counts()"
   ]
  },
  {
   "cell_type": "code",
   "execution_count": null,
   "metadata": {
    "ExecuteTime": {
     "end_time": "2019-04-24T22:41:19.778044Z",
     "start_time": "2019-04-24T22:41:13.394Z"
    },
    "hidden": true
   },
   "outputs": [],
   "source": [
    "# Verificando linha do referido elemento\n",
    "x = (df_08[apc] == '6/4').values\n",
    "np.where(x == True)"
   ]
  },
  {
   "cell_type": "markdown",
   "metadata": {
    "hidden": true
   },
   "source": [
    "Referências:\n",
    "* https://docs.scipy.org/doc/numpy/reference/generated/numpy.where.html\n",
    "* https://stackoverflow.com/questions/18079029/index-of-element-in-numpy-array"
   ]
  },
  {
   "cell_type": "code",
   "execution_count": null,
   "metadata": {
    "ExecuteTime": {
     "end_time": "2019-04-24T22:41:19.779041Z",
     "start_time": "2019-04-24T22:41:13.406Z"
    },
    "hidden": true
   },
   "outputs": [],
   "source": [
    "# Verificando a linha em questão\n",
    "df_08.iloc[582]"
   ]
  },
  {
   "cell_type": "markdown",
   "metadata": {
    "hidden": true
   },
   "source": [
    "<b>Não é só o nível de poluição do ar a ter dados \"duplos\"!</b>\n",
    "\n",
    "As colunas mpg e os nível de gases de efeito estufa também parecem ter o mesmo problema - talvez seja por isso que todos eles foram salvos como strings! Segundo [este link](http://www.fueleconomy.gov/feg/findacarhelp.shtml#airPollutionScore), que eu encontrei na documentação em PDF:\n",
    "\n",
    "    \"Se um veículo pode operar com mais de um tipo de combustível, uma estimativa é fornecida para cada tipo de combustível.\"\n",
    "    \n",
    "Ahh.. então todos veículos com mais de um tipo de combustível, ou híbridos, como aquele visto acima (que usa etanol E gás) terão uma string que armazena dois valores - um para cada. Isto é um pouco complicado, então eu vou mostrar como fazê-lo com o conjunto de dados de 2008, para você então tentar fazer o mesmo com o conjunto de dados de 2018."
   ]
  },
  {
   "cell_type": "code",
   "execution_count": null,
   "metadata": {
    "ExecuteTime": {
     "end_time": "2019-04-24T22:41:19.781036Z",
     "start_time": "2019-04-24T22:41:13.420Z"
    },
    "hidden": true
   },
   "outputs": [],
   "source": [
    "# Quando há mais de um combustível, há dados duplos\n",
    "df_08['fuel'].value_counts()"
   ]
  },
  {
   "cell_type": "code",
   "execution_count": null,
   "metadata": {
    "ExecuteTime": {
     "end_time": "2019-04-24T22:41:19.782033Z",
     "start_time": "2019-04-24T22:41:13.430Z"
    },
    "hidden": true
   },
   "outputs": [],
   "source": [
    "# Series a ser usada como máscara para selecionar carros híbridos (mais de um combustível)\n",
    "df_08['fuel'].str.contains('/')"
   ]
  },
  {
   "cell_type": "code",
   "execution_count": null,
   "metadata": {
    "ExecuteTime": {
     "end_time": "2019-04-24T22:41:19.784028Z",
     "start_time": "2019-04-24T22:41:13.441Z"
    },
    "hidden": true
   },
   "outputs": [],
   "source": [
    "# Obtendo carros híbridos de 2008\n",
    "hb_08 = df_08[df_08['fuel'].str.contains('/')]\n",
    "hb_08.head()"
   ]
  },
  {
   "cell_type": "code",
   "execution_count": null,
   "metadata": {
    "ExecuteTime": {
     "end_time": "2019-04-24T22:41:19.785025Z",
     "start_time": "2019-04-24T22:41:13.452Z"
    },
    "hidden": true
   },
   "outputs": [],
   "source": [
    "# Em 2008 há apenas 1 carro híbrido. E em 2018?\n",
    "df_18['fuel'].str.contains('/').values.sum()"
   ]
  },
  {
   "cell_type": "code",
   "execution_count": null,
   "metadata": {
    "ExecuteTime": {
     "end_time": "2019-04-24T22:41:19.787020Z",
     "start_time": "2019-04-24T22:41:13.463Z"
    },
    "hidden": true
   },
   "outputs": [],
   "source": [
    "# Obtendo carros híbridos de 2018\n",
    "hb_18 = df_18[df_18['fuel'].str.contains('/')]\n",
    "hb_18.head()"
   ]
  },
  {
   "cell_type": "markdown",
   "metadata": {
    "hidden": true
   },
   "source": [
    "Neste momento, deve-se **Splitar** ou **Separar** os DataFrames em dois novos conjuntos contendo, cada qual, informações anteriores e posteriores às barras."
   ]
  },
  {
   "cell_type": "code",
   "execution_count": null,
   "metadata": {
    "ExecuteTime": {
     "end_time": "2019-04-24T22:41:19.788017Z",
     "start_time": "2019-04-24T22:41:13.479Z"
    },
    "hidden": true
   },
   "outputs": [],
   "source": [
    "# Criando cópias dos DataFrames para posterior separação\n",
    "df1_08 = hb_08.copy()\n",
    "df2_08 = hb_08.copy()\n",
    "df1_18 = hb_18.copy()\n",
    "df2_18 = hb_18.copy()"
   ]
  },
  {
   "cell_type": "code",
   "execution_count": null,
   "metadata": {
    "ExecuteTime": {
     "end_time": "2019-04-24T22:41:19.790012Z",
     "start_time": "2019-04-24T22:41:13.487Z"
    },
    "hidden": true
   },
   "outputs": [],
   "source": [
    "# Verificando como funciona o split\n",
    "df1_08['fuel']"
   ]
  },
  {
   "cell_type": "code",
   "execution_count": null,
   "metadata": {
    "ExecuteTime": {
     "end_time": "2019-04-24T22:41:19.791009Z",
     "start_time": "2019-04-24T22:41:13.499Z"
    },
    "hidden": true
   },
   "outputs": [],
   "source": [
    "df1_08['fuel'][582]"
   ]
  },
  {
   "cell_type": "code",
   "execution_count": null,
   "metadata": {
    "ExecuteTime": {
     "end_time": "2019-04-24T22:41:19.793004Z",
     "start_time": "2019-04-24T22:41:13.507Z"
    },
    "hidden": true
   },
   "outputs": [],
   "source": [
    "df1_08['fuel'][582].split('/')"
   ]
  },
  {
   "cell_type": "code",
   "execution_count": null,
   "metadata": {
    "ExecuteTime": {
     "end_time": "2019-04-24T22:41:19.794001Z",
     "start_time": "2019-04-24T22:41:13.518Z"
    },
    "hidden": true
   },
   "outputs": [],
   "source": [
    "print(f'Primeiro elemento: {df1_08[\"fuel\"][582].split(\"/\")[0]}')\n",
    "print(f'Segundo elemento: {df1_08[\"fuel\"][582].split(\"/\")[1]}')"
   ]
  },
  {
   "cell_type": "markdown",
   "metadata": {
    "hidden": true
   },
   "source": [
    "Repetir a ideia do procedimento acima para as demais colunas."
   ]
  },
  {
   "cell_type": "code",
   "execution_count": null,
   "metadata": {
    "ExecuteTime": {
     "end_time": "2019-04-24T22:41:19.796993Z",
     "start_time": "2019-04-24T22:41:13.534Z"
    },
    "hidden": true
   },
   "outputs": [],
   "source": [
    "# Função para separar os dados\n",
    "def spliting_df(df1, df2, columns):\n",
    "    for col in columns:\n",
    "        df1[col] = df1[col].apply(lambda x: x.split('/')[0])\n",
    "        df2[col] = df2[col].apply(lambda x: x.split('/')[1])"
   ]
  },
  {
   "cell_type": "code",
   "execution_count": null,
   "metadata": {
    "ExecuteTime": {
     "end_time": "2019-04-24T22:41:19.798989Z",
     "start_time": "2019-04-24T22:41:13.543Z"
    },
    "hidden": true
   },
   "outputs": [],
   "source": [
    "# Verificando colunas a serem splitadas no DataFrame de 2008\n",
    "hb_08.head(1)"
   ]
  },
  {
   "cell_type": "code",
   "execution_count": null,
   "metadata": {
    "ExecuteTime": {
     "end_time": "2019-04-24T22:41:19.800986Z",
     "start_time": "2019-04-24T22:41:13.554Z"
    },
    "hidden": true
   },
   "outputs": [],
   "source": [
    "# Salvando colunas\n",
    "columns_08 = ['fuel', 'air_pollution_score', 'city_mpg', 'hwy_mpg', 'cmb_mpg', 'greenhouse_gas_score']"
   ]
  },
  {
   "cell_type": "code",
   "execution_count": null,
   "metadata": {
    "ExecuteTime": {
     "end_time": "2019-04-24T22:41:19.802994Z",
     "start_time": "2019-04-24T22:41:13.562Z"
    },
    "hidden": true
   },
   "outputs": [],
   "source": [
    "# Verificando colunas a serem splitadas no DataFrame de 2018\n",
    "hb_18.head(1)"
   ]
  },
  {
   "cell_type": "code",
   "execution_count": null,
   "metadata": {
    "ExecuteTime": {
     "end_time": "2019-04-24T22:41:19.803975Z",
     "start_time": "2019-04-24T22:41:13.574Z"
    },
    "hidden": true
   },
   "outputs": [],
   "source": [
    "# Salvando colunas\n",
    "columns_18 = ['fuel', 'city_mpg', 'hwy_mpg', 'cmb_mpg']"
   ]
  },
  {
   "cell_type": "code",
   "execution_count": null,
   "metadata": {
    "ExecuteTime": {
     "end_time": "2019-04-24T22:41:19.805969Z",
     "start_time": "2019-04-24T22:41:13.583Z"
    },
    "hidden": true
   },
   "outputs": [],
   "source": [
    "# Aplicando função aos Datasets (2008)\n",
    "spliting_df(df1_08, df2_08, columns_08)"
   ]
  },
  {
   "cell_type": "code",
   "execution_count": null,
   "metadata": {
    "ExecuteTime": {
     "end_time": "2019-04-24T22:41:19.807965Z",
     "start_time": "2019-04-24T22:41:13.594Z"
    },
    "hidden": true
   },
   "outputs": [],
   "source": [
    "# Verificando resultado\n",
    "df1_08.head()"
   ]
  },
  {
   "cell_type": "code",
   "execution_count": null,
   "metadata": {
    "ExecuteTime": {
     "end_time": "2019-04-24T22:41:19.808961Z",
     "start_time": "2019-04-24T22:41:13.603Z"
    },
    "hidden": true
   },
   "outputs": [],
   "source": [
    "df2_08.head()"
   ]
  },
  {
   "cell_type": "code",
   "execution_count": null,
   "metadata": {
    "ExecuteTime": {
     "end_time": "2019-04-24T22:41:19.810956Z",
     "start_time": "2019-04-24T22:41:13.614Z"
    },
    "hidden": true
   },
   "outputs": [],
   "source": [
    "hb_08.head()"
   ]
  },
  {
   "cell_type": "markdown",
   "metadata": {
    "hidden": true
   },
   "source": [
    "Perfeito! Repetindo processo para o conjunto de 2018."
   ]
  },
  {
   "cell_type": "code",
   "execution_count": null,
   "metadata": {
    "ExecuteTime": {
     "end_time": "2019-04-24T22:41:19.811953Z",
     "start_time": "2019-04-24T22:41:13.626Z"
    },
    "hidden": true
   },
   "outputs": [],
   "source": [
    "spliting_df(df1_18, df2_18, columns_18)"
   ]
  },
  {
   "cell_type": "code",
   "execution_count": null,
   "metadata": {
    "ExecuteTime": {
     "end_time": "2019-04-24T22:41:19.813948Z",
     "start_time": "2019-04-24T22:41:13.636Z"
    },
    "hidden": true
   },
   "outputs": [],
   "source": [
    "# Verificando\n",
    "df1_18.head(1)"
   ]
  },
  {
   "cell_type": "code",
   "execution_count": null,
   "metadata": {
    "ExecuteTime": {
     "end_time": "2019-04-24T22:41:19.814946Z",
     "start_time": "2019-04-24T22:41:13.646Z"
    },
    "hidden": true
   },
   "outputs": [],
   "source": [
    "df2_18.head(1)"
   ]
  },
  {
   "cell_type": "code",
   "execution_count": null,
   "metadata": {
    "ExecuteTime": {
     "end_time": "2019-04-24T22:41:19.816940Z",
     "start_time": "2019-04-24T22:41:13.655Z"
    },
    "hidden": true
   },
   "outputs": [],
   "source": [
    "hb_18.head(1)"
   ]
  },
  {
   "cell_type": "markdown",
   "metadata": {
    "hidden": true
   },
   "source": [
    "Muito bem. O próximo passo é unir os DataFrames para depois colocá-los novamente ao conjunto original."
   ]
  },
  {
   "cell_type": "code",
   "execution_count": null,
   "metadata": {
    "ExecuteTime": {
     "end_time": "2019-04-24T22:41:19.817937Z",
     "start_time": "2019-04-24T22:41:13.672Z"
    },
    "hidden": true
   },
   "outputs": [],
   "source": [
    "# Novas linhas splitadas\n",
    "df_08_new_rows = df1_08.append(df2_08)\n",
    "df_18_new_rows = df1_18.append(df2_18)"
   ]
  },
  {
   "cell_type": "code",
   "execution_count": null,
   "metadata": {
    "ExecuteTime": {
     "end_time": "2019-04-24T22:41:19.820930Z",
     "start_time": "2019-04-24T22:41:13.681Z"
    },
    "hidden": true
   },
   "outputs": [],
   "source": [
    "# Verificando append por quantidade de linhas\n",
    "print(f'Conjunto de 2008 - Número de linhas batem?\\nR: {df_08_new_rows.shape[0] == df1_08.shape[0] + df2_08.shape[0]}')\n",
    "print(f'Conjunto de 2018 - Número de linhas batem?\\nR: {df_18_new_rows.shape[0] == df1_18.shape[0] + df2_18.shape[0]}')"
   ]
  },
  {
   "cell_type": "code",
   "execution_count": null,
   "metadata": {
    "ExecuteTime": {
     "end_time": "2019-04-24T22:41:19.821927Z",
     "start_time": "2019-04-24T22:41:13.689Z"
    },
    "hidden": true
   },
   "outputs": [],
   "source": [
    "# Antes de conerter, é necessário eliminar as linhas originais que causavam problema\n",
    "df_08.drop(hb_08.index, inplace=True)\n",
    "df_18.drop(hb_18.index, inplace=True)"
   ]
  },
  {
   "cell_type": "code",
   "execution_count": null,
   "metadata": {
    "ExecuteTime": {
     "end_time": "2019-04-24T22:41:19.822924Z",
     "start_time": "2019-04-24T22:41:13.698Z"
    },
    "hidden": true
   },
   "outputs": [],
   "source": [
    "# Verificando linhas dos conjuntos originais antes da junção\n",
    "print(f'2008: {df_08.shape[0]} linhas.\\n2018: {df_18.shape[0]} linhas.')"
   ]
  },
  {
   "cell_type": "code",
   "execution_count": null,
   "metadata": {
    "ExecuteTime": {
     "end_time": "2019-04-24T22:41:19.824918Z",
     "start_time": "2019-04-24T22:41:13.707Z"
    },
    "hidden": true
   },
   "outputs": [],
   "source": [
    "# Realizando junção com os conjuntos originais.\n",
    "df_08 = df_08.append(df_08_new_rows)\n",
    "df_18 = df_18.append(df_18_new_rows)"
   ]
  },
  {
   "cell_type": "code",
   "execution_count": null,
   "metadata": {
    "ExecuteTime": {
     "end_time": "2019-04-24T22:41:19.825916Z",
     "start_time": "2019-04-24T22:41:13.715Z"
    },
    "hidden": true
   },
   "outputs": [],
   "source": [
    "# Verificando linhas após a junção\n",
    "print(f'2008: {df_08.shape[0]} linhas.\\n2018: {df_18.shape[0]} linhas.')"
   ]
  },
  {
   "cell_type": "code",
   "execution_count": null,
   "metadata": {
    "ExecuteTime": {
     "end_time": "2019-04-24T22:41:19.826913Z",
     "start_time": "2019-04-24T22:41:13.723Z"
    },
    "hidden": true
   },
   "outputs": [],
   "source": [
    "# Verificando 2018 - linhas de df_18_new_rows devem ser iguais a 870 - 784\n",
    "(870-794) == df_18_new_rows.shape[0]"
   ]
  },
  {
   "cell_type": "code",
   "execution_count": null,
   "metadata": {
    "ExecuteTime": {
     "end_time": "2019-04-24T22:41:19.828908Z",
     "start_time": "2019-04-24T22:41:13.731Z"
    },
    "hidden": true
   },
   "outputs": [],
   "source": [
    "# Por fim, voltando à tarefa original, pode-se converter air_pollution_score tranquilamente\n",
    "type(df_08[apc][0])"
   ]
  },
  {
   "cell_type": "code",
   "execution_count": null,
   "metadata": {
    "ExecuteTime": {
     "end_time": "2019-04-24T22:41:19.830903Z",
     "start_time": "2019-04-24T22:41:13.739Z"
    },
    "hidden": true
   },
   "outputs": [],
   "source": [
    "# Convertendo \n",
    "df_08[apc] = df_08[apc].astype(float)\n",
    "df_18[apc] = df_18[apc].astype(float)"
   ]
  },
  {
   "cell_type": "markdown",
   "metadata": {
    "hidden": true
   },
   "source": [
    "**Ajustar tipos de dado “city_mpg”, “hwy_mpg” e “cmb_mpg”**\n",
    "\n",
    "* 2008 e 2018: transformar string em float."
   ]
  },
  {
   "cell_type": "code",
   "execution_count": null,
   "metadata": {
    "ExecuteTime": {
     "end_time": "2019-04-24T22:41:19.831900Z",
     "start_time": "2019-04-24T22:41:13.751Z"
    },
    "hidden": true
   },
   "outputs": [],
   "source": [
    "# Convertendo\n",
    "convert_columns = ['city_mpg', 'hwy_mpg', 'cmb_mpg']\n",
    "\n",
    "def string_to_float(df, cols):\n",
    "    for c in cols:\n",
    "        df[c] = df[c].astype(float)\n",
    "\n",
    "string_to_float(df_08, convert_columns)\n",
    "string_to_float(df_18, convert_columns)"
   ]
  },
  {
   "cell_type": "code",
   "execution_count": null,
   "metadata": {
    "ExecuteTime": {
     "end_time": "2019-04-24T22:41:19.837885Z",
     "start_time": "2019-04-24T22:41:13.759Z"
    },
    "hidden": true
   },
   "outputs": [],
   "source": [
    "# Verificando\n",
    "df_08.dtypes"
   ]
  },
  {
   "cell_type": "code",
   "execution_count": null,
   "metadata": {
    "ExecuteTime": {
     "end_time": "2019-04-24T22:41:19.838881Z",
     "start_time": "2019-04-24T22:41:13.766Z"
    },
    "hidden": true
   },
   "outputs": [],
   "source": [
    "df_18.dtypes"
   ]
  },
  {
   "cell_type": "markdown",
   "metadata": {
    "hidden": true
   },
   "source": [
    "**Ajustar tipo de dado “greenhouse_gas_score”**\n",
    "* 2008: transformar float em int."
   ]
  },
  {
   "cell_type": "code",
   "execution_count": null,
   "metadata": {
    "ExecuteTime": {
     "end_time": "2019-04-24T22:41:19.840876Z",
     "start_time": "2019-04-24T22:41:13.778Z"
    },
    "hidden": true
   },
   "outputs": [],
   "source": [
    "ggc = 'greenhouse_gas_score'\n",
    "df_08[ggc] = df_08[ggc].astype(int)\n",
    "df_18[ggc] = df_18[ggc].astype(int)"
   ]
  },
  {
   "cell_type": "code",
   "execution_count": null,
   "metadata": {
    "ExecuteTime": {
     "end_time": "2019-04-24T22:41:19.841873Z",
     "start_time": "2019-04-24T22:41:13.786Z"
    },
    "hidden": true
   },
   "outputs": [],
   "source": [
    "print(f'Tipo ggc 2008: {type(df_08[ggc][0])}')\n",
    "print(f'Tipo ggc 2018: {type(df_18[ggc][1])}')"
   ]
  },
  {
   "cell_type": "code",
   "execution_count": null,
   "metadata": {
    "ExecuteTime": {
     "end_time": "2019-04-24T22:41:19.843868Z",
     "start_time": "2019-04-24T22:41:13.795Z"
    },
    "hidden": true
   },
   "outputs": [],
   "source": [
    "# Verificações finais\n",
    "df_08.dtypes"
   ]
  },
  {
   "cell_type": "code",
   "execution_count": null,
   "metadata": {
    "ExecuteTime": {
     "end_time": "2019-04-24T22:41:19.844865Z",
     "start_time": "2019-04-24T22:41:13.803Z"
    },
    "hidden": true
   },
   "outputs": [],
   "source": [
    "df_18.dtypes"
   ]
  },
  {
   "cell_type": "code",
   "execution_count": null,
   "metadata": {
    "ExecuteTime": {
     "end_time": "2019-04-24T22:41:19.846860Z",
     "start_time": "2019-04-24T22:41:13.811Z"
    },
    "hidden": true
   },
   "outputs": [],
   "source": [
    "# Salvando alterações\n",
    "df_08.to_csv('C:/Users/thiagoPanini/Downloads/datasets/all-alpha-08-editedtypes.csv', index=False)\n",
    "df_18.to_csv('C:/Users/thiagoPanini/Downloads/datasets/all-alpha-18-editedtypes.csv', index=False)"
   ]
  },
  {
   "cell_type": "markdown",
   "metadata": {
    "heading_collapsed": true,
    "hidden": true
   },
   "source": [
    "### Exploração Gráfica"
   ]
  },
  {
   "cell_type": "code",
   "execution_count": null,
   "metadata": {
    "ExecuteTime": {
     "end_time": "2019-04-24T22:41:19.847857Z",
     "start_time": "2019-04-24T22:41:13.822Z"
    },
    "hidden": true
   },
   "outputs": [],
   "source": [
    "# Importando bibliotecas e lendo arquivos\n",
    "import pandas as pd\n",
    "import numpy as np\n",
    "import matplotlib.pyplot as plt\n",
    "import seaborn as sns\n",
    "% matplotlib inline\n",
    "\n",
    "df_08 = pd.read_csv('C:/Users/thiagoPanini/Downloads/datasets/all-alpha-08-editedtypes.csv')\n",
    "df_18 = pd.read_csv('C:/Users/thiagoPanini/Downloads/datasets/all-alpha-18-editedtypes.csv')"
   ]
  },
  {
   "cell_type": "markdown",
   "metadata": {
    "hidden": true
   },
   "source": [
    "Link essencial: https://www.kdnuggets.com/2017/06/7-steps-mastering-data-preparation-python.html"
   ]
  },
  {
   "cell_type": "markdown",
   "metadata": {
    "hidden": true
   },
   "source": [
    "**Visão 1:** Distribuição de emissão de Gases Efeito Estufa (ggc) nos dois anos alvos da análise"
   ]
  },
  {
   "cell_type": "code",
   "execution_count": null,
   "metadata": {
    "ExecuteTime": {
     "end_time": "2019-04-24T22:41:19.848855Z",
     "start_time": "2019-04-24T22:41:13.837Z"
    },
    "hidden": true
   },
   "outputs": [],
   "source": [
    "# Plotando 2008\n",
    "ggc = 'greenhouse_gas_score'\n",
    "sns.set()\n",
    "sns.distplot(df_08[ggc], bins=10);"
   ]
  },
  {
   "cell_type": "code",
   "execution_count": null,
   "metadata": {
    "ExecuteTime": {
     "end_time": "2019-04-24T22:41:19.850850Z",
     "start_time": "2019-04-24T22:41:13.846Z"
    },
    "hidden": true
   },
   "outputs": [],
   "source": [
    "# Plotando gráficos com Seaborn - KDE\n",
    "fig, ax = plt.subplots(1, 1, figsize=(8, 5))\n",
    "sns.kdeplot(df_08[ggc], shade=True, label='2008');\n",
    "sns.kdeplot(df_18[ggc], shade=True, label='2018', color='g');\n",
    "ax.set_title('Distribuição de Nível de Emissão de Gases', fontsize=15)\n",
    "ax.set_xlabel('Índice de Emissão', fontsize=12)\n",
    "ax.set_ylabel('Frequência', fontsize=12)\n",
    "plt.show()"
   ]
  },
  {
   "cell_type": "markdown",
   "metadata": {
    "hidden": true
   },
   "source": [
    "Explicações sobre kde (distribuição não parametrizada): http://seaborn.pydata.org/tutorial/distributions.html"
   ]
  },
  {
   "cell_type": "markdown",
   "metadata": {
    "hidden": true
   },
   "source": [
    "*Conclusão*: A partir da distribuição kde não parametrizada plotada acima, é possível inferir que os veículos de 2018 submetidos ao teste geralmente emitem menos gases de efeito estufa."
   ]
  },
  {
   "cell_type": "markdown",
   "metadata": {
    "hidden": true
   },
   "source": [
    "**Visão 2:** Distribuição de economia de combustível (comb_mpg) nos dois anos alvos da análise. Lembrando que a variável `comb_mpg` representa um gasto combinado de *milhas por galão*, o que seria, traduzindo à realidade brasileira, seria uma espécie de *km por litro* de combustível."
   ]
  },
  {
   "cell_type": "code",
   "execution_count": null,
   "metadata": {
    "ExecuteTime": {
     "end_time": "2019-04-24T22:41:19.851847Z",
     "start_time": "2019-04-24T22:41:13.867Z"
    },
    "hidden": true
   },
   "outputs": [],
   "source": [
    "# Plotando visões com seaborn\n",
    "sns.distplot(df_08['cmb_mpg']);\n",
    "sns.distplot(df_18['cmb_mpg']);"
   ]
  },
  {
   "cell_type": "code",
   "execution_count": null,
   "metadata": {
    "ExecuteTime": {
     "end_time": "2019-04-24T22:41:19.853841Z",
     "start_time": "2019-04-24T22:41:13.876Z"
    },
    "hidden": true
   },
   "outputs": [],
   "source": [
    "# Aprimorando plot\n",
    "fig, ax = plt.subplots(figsize=(10, 5))\n",
    "sns.distplot(df_08['cmb_mpg'], kde=False, bins=15, label='2008')\n",
    "sns.distplot(df_18['cmb_mpg'], kde=False, bins=15, label='2018')\n",
    "ax.set_title('Distribuição de MPG em 2008 e 2018', fontsize=15)\n",
    "ax.set_ylabel('Frequência')\n",
    "ax.set_xlabel('Gasto MPG de veículos')\n",
    "plt.legend(fontsize=13)\n",
    "plt.show()"
   ]
  },
  {
   "cell_type": "markdown",
   "metadata": {
    "hidden": true
   },
   "source": [
    "*Conclusões:* Veículos de 2018 conseguem realizar trajetos maiores com uma menor quantidade de combustível, ou seja, possuem um maior índice de MPG (Km/L). Isso pode ser explicado pelo surgimento e adaptação de uma grande quantidade de veículos elétricos e movidos a fontes alternativas de energia, fato que, em 2008, era pouco presente."
   ]
  },
  {
   "cell_type": "markdown",
   "metadata": {
    "hidden": true
   },
   "source": [
    "**Visão 3:** Há correlação entre as variáveis `cyl` (cilindradas do veículo) e `greenhouse_gas_score` (índice de emissão de gases efeito estufa)?"
   ]
  },
  {
   "cell_type": "code",
   "execution_count": null,
   "metadata": {
    "ExecuteTime": {
     "end_time": "2019-04-24T22:41:19.854838Z",
     "start_time": "2019-04-24T22:41:13.897Z"
    },
    "hidden": true
   },
   "outputs": [],
   "source": [
    "ggc = 'greenhouse_gas_score'\n",
    "\n",
    "# Plotando via matplotlib\n",
    "fig, ax = plt.subplots(figsize=(5, 5))\n",
    "ax.scatter(x=df_18[ggc], y=df_18['cyl'])\n",
    "ax.set_title('Correlação entre Cilindradas e Emissão de Gases', fontsize=13)\n",
    "ax.set_xlabel('Emissão de Gases Efeito Estufa')\n",
    "ax.set_ylabel('Cilindradas')"
   ]
  },
  {
   "cell_type": "code",
   "execution_count": null,
   "metadata": {
    "ExecuteTime": {
     "end_time": "2019-04-24T22:41:19.856833Z",
     "start_time": "2019-04-24T22:41:13.906Z"
    },
    "hidden": true
   },
   "outputs": [],
   "source": [
    "# PLotando via Seaborn\n",
    "sns.jointplot(x=ggc, y='cyl', data=df_18, kind='reg', marginal_kws=dict(bins=6, rug=True));\n",
    "plt.ylabel('Cilindradas', fontsize=15)\n",
    "plt.xlabel('Nível de Emissão de Gases', fontsize=15)\n",
    "#plt.yticks(np.arange(0, 11, 2.5))\n",
    "plt.show()"
   ]
  },
  {
   "cell_type": "markdown",
   "metadata": {
    "hidden": true
   },
   "source": [
    "*Conclusão*: Há uma correlação negativa entre o Nível de Emissão de Gases Efeito Estuda e o valor de Cilindradas do veículo. Quanto maior o valor de Cilindradas, menor o nível de emissão de gases."
   ]
  },
  {
   "cell_type": "markdown",
   "metadata": {
    "heading_collapsed": true,
    "hidden": true
   },
   "source": [
    "### Conclusões Definitivas"
   ]
  },
  {
   "cell_type": "markdown",
   "metadata": {
    "hidden": true
   },
   "source": [
    "Após a visualização de algumas relações através de funcionalidades gráficas, entende-se por Conclusões Definitivas o caminho para resposta de algumas perguntas"
   ]
  },
  {
   "cell_type": "code",
   "execution_count": null,
   "metadata": {
    "ExecuteTime": {
     "end_time": "2019-04-24T22:41:19.857831Z",
     "start_time": "2019-04-24T22:41:13.930Z"
    },
    "hidden": true
   },
   "outputs": [],
   "source": [
    "# Importando bibliotecas e lendo arquivos\n",
    "import pandas as pd\n",
    "import numpy as np\n",
    "import matplotlib.pyplot as plt\n",
    "import seaborn as sns\n",
    "% matplotlib inline\n",
    "\n",
    "df_08 = pd.read_csv('C:/Users/thiagoPanini/Downloads/datasets/all-alpha-08-editedtypes.csv')\n",
    "df_18 = pd.read_csv('C:/Users/thiagoPanini/Downloads/datasets/all-alpha-18-editedtypes.csv')"
   ]
  },
  {
   "cell_type": "markdown",
   "metadata": {
    "hidden": true
   },
   "source": [
    "<b>Q1: Existem mais modelos únicos usando fontes alternativas de combustível? Em qual proporção?</b> "
   ]
  },
  {
   "cell_type": "code",
   "execution_count": null,
   "metadata": {
    "ExecuteTime": {
     "end_time": "2019-04-24T22:41:19.859827Z",
     "start_time": "2019-04-24T22:41:13.947Z"
    },
    "hidden": true
   },
   "outputs": [],
   "source": [
    "# Realizando testes com veículos e tipos de combustível\n",
    "df_08['fuel'].unique()"
   ]
  },
  {
   "cell_type": "code",
   "execution_count": null,
   "metadata": {
    "ExecuteTime": {
     "end_time": "2019-04-24T22:41:19.860823Z",
     "start_time": "2019-04-24T22:41:13.957Z"
    },
    "hidden": true
   },
   "outputs": [],
   "source": [
    "df_08['fuel'].value_counts()"
   ]
  },
  {
   "cell_type": "code",
   "execution_count": null,
   "metadata": {
    "ExecuteTime": {
     "end_time": "2019-04-24T22:41:19.862817Z",
     "start_time": "2019-04-24T22:41:13.967Z"
    },
    "hidden": true
   },
   "outputs": [],
   "source": [
    "df_18['fuel'].value_counts()"
   ]
  },
  {
   "cell_type": "code",
   "execution_count": null,
   "metadata": {
    "ExecuteTime": {
     "end_time": "2019-04-24T22:41:19.863815Z",
     "start_time": "2019-04-24T22:41:13.978Z"
    },
    "hidden": true
   },
   "outputs": [],
   "source": [
    "def calc_fuel_prop(df):\n",
    "    total = df.shape[0]\n",
    "    for fuel in df['fuel'].unique():\n",
    "        print('Combustível: {} - Quantidade: {:.5f}%'.format(\n",
    "                        fuel, 100*df.query('fuel == @fuel')['fuel'].count()/total))"
   ]
  },
  {
   "cell_type": "code",
   "execution_count": null,
   "metadata": {
    "ExecuteTime": {
     "end_time": "2019-04-24T22:41:19.864813Z",
     "start_time": "2019-04-24T22:41:13.988Z"
    },
    "hidden": true
   },
   "outputs": [],
   "source": [
    "print('Proporções em 2008:')\n",
    "calc_fuel_prop(df_08)\n",
    "print()\n",
    "print('Proporções em 2018:')\n",
    "calc_fuel_prop(df_18)"
   ]
  },
  {
   "cell_type": "markdown",
   "metadata": {
    "hidden": true
   },
   "source": [
    "Resposta: Houve um aumento efetivo na utilização de fontes renováveis de combustível em 10 anos."
   ]
  },
  {
   "cell_type": "markdown",
   "metadata": {
    "hidden": true
   },
   "source": [
    "<b>Q2: Qual foi o nível de melhoria das classes de veículo no quesito \"economia de combustível\"?</b>"
   ]
  },
  {
   "cell_type": "code",
   "execution_count": null,
   "metadata": {
    "ExecuteTime": {
     "end_time": "2019-04-24T22:41:19.866807Z",
     "start_time": "2019-04-24T22:41:14.008Z"
    },
    "hidden": true
   },
   "outputs": [],
   "source": [
    "# Economia de combustível = cmb_mpg\n",
    "df_08['cmb_mpg'].mean()"
   ]
  },
  {
   "cell_type": "code",
   "execution_count": null,
   "metadata": {
    "ExecuteTime": {
     "end_time": "2019-04-24T22:41:19.867804Z",
     "start_time": "2019-04-24T22:41:14.016Z"
    },
    "hidden": true
   },
   "outputs": [],
   "source": [
    "df_18['cmb_mpg'].mean()"
   ]
  },
  {
   "cell_type": "code",
   "execution_count": null,
   "metadata": {
    "ExecuteTime": {
     "end_time": "2019-04-24T22:41:19.869799Z",
     "start_time": "2019-04-24T22:41:14.026Z"
    },
    "hidden": true
   },
   "outputs": [],
   "source": [
    "# Referendando por classe\n",
    "df_08['veh_class'].unique()"
   ]
  },
  {
   "cell_type": "code",
   "execution_count": null,
   "metadata": {
    "ExecuteTime": {
     "end_time": "2019-04-24T22:41:19.873788Z",
     "start_time": "2019-04-24T22:41:14.036Z"
    },
    "hidden": true
   },
   "outputs": [],
   "source": [
    "# Talvez o groupby ajude\n",
    "df_08.groupby('veh_class').mean()['cmb_mpg']"
   ]
  },
  {
   "cell_type": "code",
   "execution_count": null,
   "metadata": {
    "ExecuteTime": {
     "end_time": "2019-04-24T22:41:19.875783Z",
     "start_time": "2019-04-24T22:41:14.046Z"
    },
    "hidden": true
   },
   "outputs": [],
   "source": [
    "# Em 2018...\n",
    "df_18.groupby('veh_class').mean()['cmb_mpg']"
   ]
  },
  {
   "cell_type": "code",
   "execution_count": null,
   "metadata": {
    "ExecuteTime": {
     "end_time": "2019-04-24T22:41:19.876780Z",
     "start_time": "2019-04-24T22:41:14.056Z"
    },
    "hidden": true
   },
   "outputs": [],
   "source": [
    "# Entretanto, deve-se comparar apenas classes de 2018 que TAMBÉM estão presentes em 2008\n",
    "columns = [x for x in df_18['veh_class'].unique() if x in df_08['veh_class'].unique()]\n",
    "columns"
   ]
  },
  {
   "cell_type": "code",
   "execution_count": null,
   "metadata": {
    "ExecuteTime": {
     "end_time": "2019-04-24T22:41:19.878775Z",
     "start_time": "2019-04-24T22:41:14.066Z"
    },
    "hidden": true
   },
   "outputs": [],
   "source": [
    "df_08_vclass = df_08.query('veh_class == @columns').groupby('veh_class').mean()['cmb_mpg']\n",
    "df_08_vclass"
   ]
  },
  {
   "cell_type": "code",
   "execution_count": null,
   "metadata": {
    "ExecuteTime": {
     "end_time": "2019-04-24T22:41:19.879772Z",
     "start_time": "2019-04-24T22:41:14.077Z"
    },
    "hidden": true
   },
   "outputs": [],
   "source": [
    "df_18_vclass = df_18.query('veh_class == @columns').groupby('veh_class').mean()['cmb_mpg']\n",
    "df_18_vclass"
   ]
  },
  {
   "cell_type": "code",
   "execution_count": null,
   "metadata": {
    "ExecuteTime": {
     "end_time": "2019-04-24T22:41:19.881766Z",
     "start_time": "2019-04-24T22:41:14.088Z"
    },
    "hidden": true
   },
   "outputs": [],
   "source": [
    "for i, v in df_18_vclass.items():\n",
    "    print(i, v)"
   ]
  },
  {
   "cell_type": "code",
   "execution_count": null,
   "metadata": {
    "ExecuteTime": {
     "end_time": "2019-04-24T22:41:19.882764Z",
     "start_time": "2019-04-24T22:41:14.098Z"
    },
    "hidden": true
   },
   "outputs": [],
   "source": [
    "len(df_18_vclass.index)"
   ]
  },
  {
   "cell_type": "code",
   "execution_count": null,
   "metadata": {
    "ExecuteTime": {
     "end_time": "2019-04-24T22:41:19.884759Z",
     "start_time": "2019-04-24T22:41:14.106Z"
    },
    "hidden": true
   },
   "outputs": [],
   "source": [
    "# Agora a função já pode ser preparada\n",
    "def compare_vclass(df1, df2):\n",
    "    print('Evolução do índice Km/L em 10 anos.\\n')\n",
    "    i = 0\n",
    "    while i < len(df1.index):\n",
    "        print('Modelo: {}'.format(df1.index[i]))\n",
    "        print('2008: {:.2f}\\n2018: {:.2f}'.format(df1[i], df2[i]))\n",
    "        i += 1\n",
    "\n",
    "compare_vclass(df_08_vclass, df_18_vclass)"
   ]
  },
  {
   "cell_type": "code",
   "execution_count": null,
   "metadata": {
    "ExecuteTime": {
     "end_time": "2019-04-24T22:41:19.885756Z",
     "start_time": "2019-04-24T22:41:14.115Z"
    },
    "hidden": true
   },
   "outputs": [],
   "source": [
    "# É possível plotar isso graficamente\n",
    "ind = np.arange(len(df_18_vclass))\n",
    "width = .35\n",
    "\n",
    "fig, ax = plt.subplots(figsize=(10, 5))\n",
    "ax.bar(ind, df_08_vclass, width, alpha=.7, label='2008')\n",
    "ax.bar(ind+width, df_18_vclass, width, alpha=.7, label='2018')\n",
    "ax.set_title('Melhora na Economia de Combustível ao Longo dos Anos', fontsize=16)\n",
    "ax.set_xlabel('Categoria de Veículo', fontsize=13)\n",
    "ax.set_ylabel('Milhas por Galão de Combustível', fontsize=13)\n",
    "locations = ind + width / 2\n",
    "labels = df_18_vclass.index\n",
    "plt.xticks(locations, labels)\n",
    "plt.legend()\n",
    "plt.show()"
   ]
  },
  {
   "cell_type": "markdown",
   "metadata": {
    "heading_collapsed": true
   },
   "source": [
    "# Data Science Academy"
   ]
  },
  {
   "cell_type": "markdown",
   "metadata": {
    "hidden": true
   },
   "source": [
    "Os estudos não podem parar! De acordo com o avanço no curso de Python Fundamentos para Análise de Dados na plataforma DSA, chegou o momento de documentar as análises exploratórias em um Jupyter Notebook. Muito provavelmente, poucos estudos de casos serão utilizados com EDA puro, uma vez que a DSA introduz rapidamente conceitos de Machine Learning."
   ]
  },
  {
   "cell_type": "markdown",
   "metadata": {
    "heading_collapsed": true,
    "hidden": true
   },
   "source": [
    "## Mercado de Trabalho: Programadores de Softwares"
   ]
  },
  {
   "cell_type": "markdown",
   "metadata": {
    "hidden": true
   },
   "source": [
    "Neste tópico, são apresentados dados reais de uma pesquisa recente nos EUA sobre o mercado de trabalho para Programadores de Softwares. O objetivo é investigar a base e verificar as operações necessárias para limpeza e preparação dos dados. Posteriormente, serão aplicadas algumas técnicas para retiradas de insights."
   ]
  },
  {
   "cell_type": "markdown",
   "metadata": {
    "heading_collapsed": true,
    "hidden": true
   },
   "source": [
    "### Avaliando os Dados"
   ]
  },
  {
   "cell_type": "code",
   "execution_count": null,
   "metadata": {
    "ExecuteTime": {
     "end_time": "2019-04-24T22:41:19.887750Z",
     "start_time": "2019-04-24T22:41:14.150Z"
    },
    "hidden": true
   },
   "outputs": [],
   "source": [
    "# Importando bibliotecas necessárias e lendo arquivo\n",
    "import pandas as pd\n",
    "import numpy as np\n",
    "import matplotlib.pyplot as plt\n",
    "import seaborn as sns\n",
    "import colorsys # Ajuda a criar cores para os gráficos\n",
    "%matplotlib inline\n",
    "\n",
    "df = pd.read_csv('C:/Users/thiagoPanini/Downloads/datasets/dados-pesquisa.csv')"
   ]
  },
  {
   "cell_type": "code",
   "execution_count": null,
   "metadata": {
    "ExecuteTime": {
     "end_time": "2019-04-24T22:41:19.889745Z",
     "start_time": "2019-04-24T22:41:14.161Z"
    },
    "hidden": true
   },
   "outputs": [],
   "source": [
    "# Aparentemente será necessário especificar mais alguns parâmetros\n",
    "df = pd.read_csv('C:/Users/thiagoPanini/Downloads/datasets/dados-pesquisa.csv', low_memory=False)"
   ]
  },
  {
   "cell_type": "code",
   "execution_count": null,
   "metadata": {
    "ExecuteTime": {
     "end_time": "2019-04-24T22:41:19.890743Z",
     "start_time": "2019-04-24T22:41:14.170Z"
    },
    "hidden": true
   },
   "outputs": [],
   "source": [
    "# Verificando cabeçalho\n",
    "df.head()"
   ]
  },
  {
   "cell_type": "markdown",
   "metadata": {
    "hidden": true
   },
   "source": [
    "Pela descrição acima, há 113 colunas no Dataset! "
   ]
  },
  {
   "cell_type": "code",
   "execution_count": null,
   "metadata": {
    "ExecuteTime": {
     "end_time": "2019-04-24T22:41:19.892739Z",
     "start_time": "2019-04-24T22:41:14.184Z"
    },
    "hidden": true
   },
   "outputs": [],
   "source": [
    "# Verificando linhas e colunas do Dataset\n",
    "print(f'O Dataset possui {df.shape[0]} linhas e {df.shape[1]} colunas.')"
   ]
  },
  {
   "cell_type": "markdown",
   "metadata": {
    "hidden": true
   },
   "source": [
    "**Ponto:** Como trata-se de um Dataset gigantesco, muito provavelmente serão encontrados Dados Nulos e qualquer outro tipo de incoerência. Ademais, é relativamente difícil entender o significado de 113 colunas! Dessa forma, serão analisados apenas aspectos pontuais em algumas colunas. Apenas alguns atributos serão avaliados, sendo estes:\n",
    "\n",
    "* **Age** - Define a idade dos pesquisados;\n",
    "* **Gender** - Define o gênero dos pesquisados;\n",
    "* **JobRoleInterest** - Define a área de trabalho de desejo dos pesquisados;\n",
    "* **EmploymentField** - Define a área na qual o pesquisado está empregado;\n",
    "* **JobPref** - Define o tipo preferido de trabalho dos pesquisados;\n",
    "* **JobRealocateYesNo** - Define se o pesquisado tem interesse em ser realocado de área;\n",
    "* **HoursLearning** - Define a quantidade de horas em que cada pesquisado dedica para cursos/estudos;\n",
    "* **ExpectedEarning** - Define quanto os pesquisados esperam ganhar no futuro;"
   ]
  },
  {
   "cell_type": "code",
   "execution_count": null,
   "metadata": {
    "ExecuteTime": {
     "end_time": "2019-04-24T22:41:19.894732Z",
     "start_time": "2019-04-24T22:41:14.199Z"
    },
    "hidden": true
   },
   "outputs": [],
   "source": [
    "# Printando colunas\n",
    "for col in df.columns:\n",
    "    print(col, end=', ')"
   ]
  },
  {
   "cell_type": "code",
   "execution_count": null,
   "metadata": {
    "ExecuteTime": {
     "end_time": "2019-04-24T22:41:19.895730Z",
     "start_time": "2019-04-24T22:41:14.209Z"
    },
    "hidden": true
   },
   "outputs": [],
   "source": [
    "# Verificando estatísticas\n",
    "df.describe()"
   ]
  },
  {
   "cell_type": "code",
   "execution_count": null,
   "metadata": {
    "ExecuteTime": {
     "end_time": "2019-04-24T22:41:19.897724Z",
     "start_time": "2019-04-24T22:41:14.217Z"
    },
    "hidden": true
   },
   "outputs": [],
   "source": [
    "# Verificando média de idade\n",
    "print(f'A média de idade dos pesquisados é de aproximadamente {round(df[\"Age\"].mean())} anos.')"
   ]
  },
  {
   "cell_type": "code",
   "execution_count": null,
   "metadata": {
    "ExecuteTime": {
     "end_time": "2019-04-24T22:41:19.898722Z",
     "start_time": "2019-04-24T22:41:14.226Z"
    },
    "hidden": true
   },
   "outputs": [],
   "source": [
    "# Função para retornar quantidade de valores em uma coluna em específico\n",
    "def col_describe(df, col_name):\n",
    "    spacing = 0\n",
    "    column_values = df[col_name.strip()].value_counts()\n",
    "    if column_values.index.dtype == 'O':\n",
    "        for instance in column_values.index:\n",
    "            if len(instance) > spacing:\n",
    "                spacing = len(instance) + 5\n",
    "    for instance in column_values.index:\n",
    "        print(f'{instance:<{spacing}} - {column_values[instance]}')"
   ]
  },
  {
   "cell_type": "code",
   "execution_count": null,
   "metadata": {
    "ExecuteTime": {
     "end_time": "2019-04-24T22:41:19.900716Z",
     "start_time": "2019-04-24T22:41:14.236Z"
    },
    "hidden": true
   },
   "outputs": [],
   "source": [
    "# Verificando dados sobre atributo Gender\n",
    "col_describe(df, 'Gender')"
   ]
  },
  {
   "cell_type": "code",
   "execution_count": null,
   "metadata": {
    "ExecuteTime": {
     "end_time": "2019-04-24T22:41:19.901713Z",
     "start_time": "2019-04-24T22:41:14.245Z"
    },
    "hidden": true
   },
   "outputs": [],
   "source": [
    "# Verificando dados sobre atributo SchoolDegree\n",
    "col_describe(df, 'SchoolDegree')"
   ]
  },
  {
   "cell_type": "code",
   "execution_count": null,
   "metadata": {
    "ExecuteTime": {
     "end_time": "2019-04-24T22:41:19.903708Z",
     "start_time": "2019-04-24T22:41:14.254Z"
    },
    "hidden": true
   },
   "outputs": [],
   "source": [
    "# Verificando dados sobre JobRoleInterest\n",
    "col_describe(df, 'JobRoleInterest')"
   ]
  },
  {
   "cell_type": "code",
   "execution_count": null,
   "metadata": {
    "ExecuteTime": {
     "end_time": "2019-04-24T22:41:19.905704Z",
     "start_time": "2019-04-24T22:41:14.264Z"
    },
    "hidden": true
   },
   "outputs": [],
   "source": [
    "# Verificando dados sobre EmploymentField\n",
    "col_describe(df, 'EmploymentField')"
   ]
  },
  {
   "cell_type": "code",
   "execution_count": null,
   "metadata": {
    "ExecuteTime": {
     "end_time": "2019-04-24T22:41:19.906701Z",
     "start_time": "2019-04-24T22:41:14.274Z"
    },
    "hidden": true
   },
   "outputs": [],
   "source": [
    "# Verificando dados sobre JobPref\n",
    "col_describe(df, 'JobPref')"
   ]
  },
  {
   "cell_type": "code",
   "execution_count": null,
   "metadata": {
    "ExecuteTime": {
     "end_time": "2019-04-24T22:41:19.908695Z",
     "start_time": "2019-04-24T22:41:14.285Z"
    },
    "hidden": true
   },
   "outputs": [],
   "source": [
    "# Verificando dados sobre MoneyForLearning (atributo numérico)\n",
    "col_describe(df, 'MoneyForLearning')"
   ]
  },
  {
   "cell_type": "markdown",
   "metadata": {
    "heading_collapsed": true,
    "hidden": true
   },
   "source": [
    "### Preparando os Dados"
   ]
  },
  {
   "cell_type": "markdown",
   "metadata": {
    "hidden": true
   },
   "source": [
    "A primeira coisa que poderia ser feita neste Dataset é criar uma nova coluna com os _Ranges de Idades_, ou seja, aplicar uma regra que classifica os pesquisados de acordo com a idade, utilizando para isso, a função ```cut()``` do Pandas."
   ]
  },
  {
   "cell_type": "code",
   "execution_count": null,
   "metadata": {
    "ExecuteTime": {
     "end_time": "2019-04-24T22:41:19.909692Z",
     "start_time": "2019-04-24T22:41:14.303Z"
    },
    "hidden": true,
    "scrolled": true
   },
   "outputs": [],
   "source": [
    "# Para facilitar a vida, vamos criar um novo DataFrame apenas com as colunas desejadas\n",
    "df = df.loc[:, ['Age', 'Gender', 'JobRoleInterest', 'EmploymentField', 'JobPref', 'JobRelocateYesNo', 'HoursLearning', 'ExcepectedEarning', 'SchoolDegree']]\n",
    "df.head()"
   ]
  },
  {
   "cell_type": "code",
   "execution_count": null,
   "metadata": {
    "ExecuteTime": {
     "end_time": "2019-04-24T22:41:19.913681Z",
     "start_time": "2019-04-24T22:41:14.312Z"
    },
    "hidden": true
   },
   "outputs": [],
   "source": [
    "# Verificando tipos primitivos\n",
    "df.dtypes"
   ]
  },
  {
   "cell_type": "code",
   "execution_count": null,
   "metadata": {
    "ExecuteTime": {
     "end_time": "2019-04-24T22:41:19.915675Z",
     "start_time": "2019-04-24T22:41:14.320Z"
    },
    "hidden": true
   },
   "outputs": [],
   "source": [
    "# JobRealocateYesNo = float64?\n",
    "print(f'Total de linhas do df: {df.shape[0]}')\n",
    "print(f'Linhas nulas em JobRealocateYesNo: {df[\"JobRelocateYesNo\"].isnull().values.sum()}')"
   ]
  },
  {
   "cell_type": "code",
   "execution_count": null,
   "metadata": {
    "ExecuteTime": {
     "end_time": "2019-04-24T22:41:19.917671Z",
     "start_time": "2019-04-24T22:41:14.331Z"
    },
    "hidden": true
   },
   "outputs": [],
   "source": [
    "# Verificando exemplos de dados não nulos\n",
    "df[df['JobRelocateYesNo'].isnull() == False].head()"
   ]
  },
  {
   "cell_type": "code",
   "execution_count": null,
   "metadata": {
    "ExecuteTime": {
     "end_time": "2019-04-24T22:41:19.918668Z",
     "start_time": "2019-04-24T22:41:14.340Z"
    },
    "hidden": true
   },
   "outputs": [],
   "source": [
    "# Quais as entradas possíveis para JobRelocateYesNo?\n",
    "df['JobRelocateYesNo'].value_counts()"
   ]
  },
  {
   "cell_type": "markdown",
   "metadata": {
    "hidden": true
   },
   "source": [
    "**Avaliando coluna Age**"
   ]
  },
  {
   "cell_type": "code",
   "execution_count": null,
   "metadata": {
    "ExecuteTime": {
     "end_time": "2019-04-24T22:41:19.920663Z",
     "start_time": "2019-04-24T22:41:14.354Z"
    },
    "hidden": true
   },
   "outputs": [],
   "source": [
    "# Dados sobre a coluna Age\n",
    "df['Age'].describe()"
   ]
  },
  {
   "cell_type": "markdown",
   "metadata": {
    "hidden": true
   },
   "source": [
    "Antes, vamos testar a função ```apply()``` do Pandas."
   ]
  },
  {
   "cell_type": "code",
   "execution_count": null,
   "metadata": {
    "ExecuteTime": {
     "end_time": "2019-04-24T22:41:19.921660Z",
     "start_time": "2019-04-24T22:41:14.367Z"
    },
    "hidden": true
   },
   "outputs": [],
   "source": [
    "# Verificando idades antes do apply\n",
    "df['Age'].head()"
   ]
  },
  {
   "cell_type": "code",
   "execution_count": null,
   "metadata": {
    "ExecuteTime": {
     "end_time": "2019-04-24T22:41:19.923655Z",
     "start_time": "2019-04-24T22:41:14.375Z"
    },
    "hidden": true
   },
   "outputs": [],
   "source": [
    "# Somando um inteiro em todas as idades\n",
    "df_teste = df.copy()\n",
    "df_teste['Age'] = df_teste['Age'].apply(lambda x: x+10)"
   ]
  },
  {
   "cell_type": "code",
   "execution_count": null,
   "metadata": {
    "ExecuteTime": {
     "end_time": "2019-04-24T22:41:19.924652Z",
     "start_time": "2019-04-24T22:41:14.383Z"
    },
    "hidden": true
   },
   "outputs": [],
   "source": [
    "# Verificando idades após o apply\n",
    "df_teste['Age'].head()"
   ]
  },
  {
   "cell_type": "code",
   "execution_count": null,
   "metadata": {
    "ExecuteTime": {
     "end_time": "2019-04-24T22:41:19.926647Z",
     "start_time": "2019-04-24T22:41:14.393Z"
    },
    "hidden": true
   },
   "outputs": [],
   "source": [
    "# A média teria que ter sido acrescida em 10 unidades\n",
    "print(f'Média de idades anterior: {df[\"Age\"].mean():.2f} anos.')\n",
    "print(f'Média de idades após o apply: {df_teste[\"Age\"].mean():.2f} anos.')\n",
    "print(f'Diferença: {(df_teste[\"Age\"].mean() - df[\"Age\"].mean()):.2f} anos')"
   ]
  },
  {
   "cell_type": "code",
   "execution_count": null,
   "metadata": {
    "ExecuteTime": {
     "end_time": "2019-04-24T22:41:19.927644Z",
     "start_time": "2019-04-24T22:41:14.403Z"
    },
    "hidden": true
   },
   "outputs": [],
   "source": [
    "# Aplicando cut e criando uma nova coluna\n",
    "bins = [0, 20, 30, 40, 50, 60, 90]\n",
    "labels = ['< 20', '20-30', '30-40', '40-50', '50-60', '> 60']\n",
    "\n",
    "df['AgeRange'] = pd.cut(df['Age'], bins, labels=labels)"
   ]
  },
  {
   "cell_type": "code",
   "execution_count": null,
   "metadata": {
    "ExecuteTime": {
     "end_time": "2019-04-24T22:41:19.929638Z",
     "start_time": "2019-04-24T22:41:14.412Z"
    },
    "hidden": true
   },
   "outputs": [],
   "source": [
    "# Verificando resultado\n",
    "df.iloc[:, np.r_[0, -1]].head()"
   ]
  },
  {
   "cell_type": "code",
   "execution_count": null,
   "metadata": {
    "ExecuteTime": {
     "end_time": "2019-04-24T22:41:19.930636Z",
     "start_time": "2019-04-24T22:41:14.422Z"
    },
    "hidden": true
   },
   "outputs": [],
   "source": [
    "# Há dados nulos em ambas as colunas?\n",
    "df['Age'].isnull().values.sum()"
   ]
  },
  {
   "cell_type": "code",
   "execution_count": null,
   "metadata": {
    "ExecuteTime": {
     "end_time": "2019-04-24T22:41:19.932631Z",
     "start_time": "2019-04-24T22:41:14.431Z"
    },
    "hidden": true
   },
   "outputs": [],
   "source": [
    "df['AgeRange'].isnull().any()"
   ]
  },
  {
   "cell_type": "code",
   "execution_count": null,
   "metadata": {
    "ExecuteTime": {
     "end_time": "2019-04-24T22:41:19.933628Z",
     "start_time": "2019-04-24T22:41:14.441Z"
    },
    "hidden": true
   },
   "outputs": [],
   "source": [
    "# O que será que aconteceu na coluna AgeRange nestes 2007 dados nulos?\n",
    "df[df['Age'].isnull()].iloc[:5, np.r_[0, -1]]"
   ]
  },
  {
   "cell_type": "code",
   "execution_count": null,
   "metadata": {
    "ExecuteTime": {
     "end_time": "2019-04-24T22:41:19.935623Z",
     "start_time": "2019-04-24T22:41:14.449Z"
    },
    "hidden": true
   },
   "outputs": [],
   "source": [
    "# Testando crosstab\n",
    "agerange_jobpref = pd.crosstab(df['AgeRange'], df['JobPref'])"
   ]
  },
  {
   "cell_type": "code",
   "execution_count": null,
   "metadata": {
    "ExecuteTime": {
     "end_time": "2019-04-24T22:41:19.938615Z",
     "start_time": "2019-04-24T22:41:14.458Z"
    },
    "hidden": true
   },
   "outputs": [],
   "source": [
    "agerange_jobpref.head()"
   ]
  },
  {
   "cell_type": "code",
   "execution_count": null,
   "metadata": {
    "ExecuteTime": {
     "end_time": "2019-04-24T22:41:19.939612Z",
     "start_time": "2019-04-24T22:41:14.469Z"
    },
    "hidden": true
   },
   "outputs": [],
   "source": [
    "# Cruzando dados e inserindo as médias\n",
    "agerange_jobpref = pd.crosstab(df['AgeRange'], df['JobPref']).apply(lambda x: x/x.sum(), axis=1)"
   ]
  },
  {
   "cell_type": "code",
   "execution_count": null,
   "metadata": {
    "ExecuteTime": {
     "end_time": "2019-04-24T22:41:19.941607Z",
     "start_time": "2019-04-24T22:41:14.481Z"
    },
    "hidden": true
   },
   "outputs": [],
   "source": [
    "agerange_jobpref"
   ]
  },
  {
   "cell_type": "code",
   "execution_count": null,
   "metadata": {
    "ExecuteTime": {
     "end_time": "2019-04-24T22:41:19.943602Z",
     "start_time": "2019-04-24T22:41:14.490Z"
    },
    "hidden": true
   },
   "outputs": [],
   "source": [
    "# Verificando suspeita de proporcionalidade\n",
    "agerange_jobpref.iloc[1, :].sum()"
   ]
  },
  {
   "cell_type": "code",
   "execution_count": null,
   "metadata": {
    "ExecuteTime": {
     "end_time": "2019-04-24T22:41:19.944599Z",
     "start_time": "2019-04-24T22:41:14.499Z"
    },
    "hidden": true
   },
   "outputs": [],
   "source": [
    "# Verificando suspeita de não proporcionalidade\n",
    "agerange_jobpref['freelance '].sum()"
   ]
  },
  {
   "cell_type": "markdown",
   "metadata": {
    "hidden": true
   },
   "source": [
    "O novo DataFrame agerange_jobpref criado será útil para plotagens gráficas futuras."
   ]
  },
  {
   "cell_type": "code",
   "execution_count": null,
   "metadata": {
    "ExecuteTime": {
     "end_time": "2019-04-24T22:41:19.946594Z",
     "start_time": "2019-04-24T22:41:14.512Z"
    },
    "hidden": true
   },
   "outputs": [],
   "source": [
    "# Testando crosstab entre AgeRange e JobRelocateYesNo\n",
    "agerange_jobrelocate = pd.crosstab(df['AgeRange'], df['JobRelocateYesNo']).apply(lambda x: x/x.sum())\n",
    "agerange_jobrelocate"
   ]
  },
  {
   "cell_type": "markdown",
   "metadata": {
    "heading_collapsed": true,
    "hidden": true
   },
   "source": [
    "### Exploração Gráfica"
   ]
  },
  {
   "cell_type": "markdown",
   "metadata": {
    "hidden": true
   },
   "source": [
    "**Distribuição de gêneros entre os participantes da pesquisa**"
   ]
  },
  {
   "cell_type": "code",
   "execution_count": null,
   "metadata": {
    "ExecuteTime": {
     "end_time": "2019-04-24T22:41:19.947591Z",
     "start_time": "2019-04-24T22:41:14.531Z"
    },
    "hidden": true
   },
   "outputs": [],
   "source": [
    "# Importando bibliotecas necessárias e lendo arquivo\n",
    "import pandas as pd\n",
    "import numpy as np\n",
    "import matplotlib.pyplot as plt\n",
    "import seaborn as sns\n",
    "import colorsys # Ajuda a criar cores para os gráficos\n",
    "%matplotlib inline\n",
    "\n",
    "df = pd.read_csv('C:/Users/thiagoPanini/Downloads/datasets/dados-pesquisa.csv')\n",
    "df.head()"
   ]
  },
  {
   "cell_type": "code",
   "execution_count": null,
   "metadata": {
    "ExecuteTime": {
     "end_time": "2019-04-24T22:41:19.949585Z",
     "start_time": "2019-04-24T22:41:14.541Z"
    },
    "hidden": true
   },
   "outputs": [],
   "source": [
    "# Definindo quantidades e labels\n",
    "values = df['Gender'].value_counts()\n",
    "labels = values.index\n",
    "num = len(labels)\n",
    "\n",
    "# Criando lista de cores\n",
    "listaHSV = [(x*3/num, 0.5, 0.5) for x in range(num)]\n",
    "listaRGB = list(map(lambda x: colorsys.hsv_to_rgb(*x), listaHSV))\n",
    "\n",
    "# Gráfico de pizza\n",
    "explode = (0.05, 0.05, 0.05, 0.05, 0.05)\n",
    "fig, ax = plt.subplots(figsize=(8, 8))\n",
    "wedges, texts, autotexts = ax.pie(values, colors=listaRGB, startangle=90, labels=labels, explode=explode, autopct='%1.1f%%')\n",
    "plt.legend(bbox_to_anchor = (0.95,0.90), fontsize=12)\n",
    "ax.axis('equal')\n",
    "ax.set_title('Proporção de Gêneros na Pesquisa', fontsize=17)\n",
    "plt.setp(texts, size=0)\n",
    "plt.setp(autotexts[2:], size=0)\n",
    "plt.setp(autotexts[:2], size=23, color='w', weight='bold')\n",
    "plt.show()"
   ]
  },
  {
   "cell_type": "markdown",
   "metadata": {
    "hidden": true
   },
   "source": [
    "\"\"\" **Distribuição de Carreiras de Interesse entre os entrevistados** \"\"\""
   ]
  },
  {
   "cell_type": "code",
   "execution_count": null,
   "metadata": {
    "ExecuteTime": {
     "end_time": "2019-04-24T22:41:19.952578Z",
     "start_time": "2019-04-24T22:41:14.557Z"
    },
    "hidden": true
   },
   "outputs": [],
   "source": [
    "# Definindo labels e quantidades\n",
    "qtds = df['JobRoleInterest'].value_counts()\n",
    "labels = qtds.index\n",
    "\n",
    "# Lista de cores\n",
    "listaHSV = [(x*2/num, 0.4, 0.5) for x in range(num)]\n",
    "listaRGB = list(map(lambda x: colorsys.hsv_to_rgb(*x), listaHSV))\n",
    "\n",
    "# Gráfico de pizza\n",
    "fig, ax = plt.subplots(figsize=(7, 7))\n",
    "wedges, texts, autotexts = ax.pie(qtds, labels=labels, startangle=90, autopct='%1.1f%%', colors=listaRGB, shadow=False)\n",
    "plt.legend(bbox_to_anchor = (0.95,0.90), fontsize=12)\n",
    "plt.setp(texts, visible=False)\n",
    "plt.title('Carreiras de Interesse', fontsize=18, weight='bold')\n",
    "plt.setp(autotexts[-4:], visible=False)\n",
    "plt.setp(autotexts[:-4], size=15, color='w')\n",
    "plt.show()"
   ]
  },
  {
   "cell_type": "markdown",
   "metadata": {
    "hidden": true
   },
   "source": [
    "** Carreiras dos entrevistados **"
   ]
  },
  {
   "cell_type": "code",
   "execution_count": null,
   "metadata": {
    "ExecuteTime": {
     "end_time": "2019-04-24T22:41:19.953575Z",
     "start_time": "2019-04-24T22:41:14.569Z"
    },
    "hidden": true
   },
   "outputs": [],
   "source": [
    "# Testando - Labels\n",
    "labels = df['EmploymentField'].value_counts().index\n",
    "labels"
   ]
  },
  {
   "cell_type": "code",
   "execution_count": null,
   "metadata": {
    "ExecuteTime": {
     "end_time": "2019-04-24T22:41:19.955570Z",
     "start_time": "2019-04-24T22:41:14.580Z"
    },
    "hidden": true
   },
   "outputs": [],
   "source": [
    "# Testando - Valores\n",
    "values = df['EmploymentField'].value_counts()\n",
    "values"
   ]
  },
  {
   "cell_type": "code",
   "execution_count": null,
   "metadata": {
    "ExecuteTime": {
     "end_time": "2019-04-24T22:41:19.956567Z",
     "start_time": "2019-04-24T22:41:14.588Z"
    },
    "hidden": true
   },
   "outputs": [],
   "source": [
    "print(plt.style.available)"
   ]
  },
  {
   "cell_type": "code",
   "execution_count": null,
   "metadata": {
    "ExecuteTime": {
     "end_time": "2019-04-24T22:41:19.958562Z",
     "start_time": "2019-04-24T22:41:14.599Z"
    },
    "hidden": true
   },
   "outputs": [],
   "source": [
    "# Gráfico de pizza - 5 primeiras áreas\n",
    "\n",
    "# Criando figure do matplotlib\n",
    "fig, ax = plt.subplots(figsize=(7, 7))\n",
    "\n",
    "# Customizando parâmetros gráficos\n",
    "cmap = plt.get_cmap('Spectral')\n",
    "colors = [cmap(i) for i in np.linspace(0, 1, 10)]\n",
    "\n",
    "# Plotando gráfico\n",
    "ax.pie(values, labels=labels, startangle=90, colors=colors)\n",
    "plt.show()"
   ]
  },
  {
   "cell_type": "markdown",
   "metadata": {
    "hidden": true
   },
   "source": [
    "**Avaliação**: O gráfico possui muitos labels e, portanto, resulta em uma imagem de difícil interpretação. É possível criar um label chamado _Other_ e somar aquilo que não é tão importante."
   ]
  },
  {
   "cell_type": "markdown",
   "metadata": {
    "hidden": true
   },
   "source": [
    "Fonte útil: https://blog.algorexhealth.com/2018/03/almost-10-pie-charts-in-10-python-libraries/"
   ]
  },
  {
   "cell_type": "code",
   "execution_count": null,
   "metadata": {
    "ExecuteTime": {
     "end_time": "2019-04-24T22:41:19.959559Z",
     "start_time": "2019-04-24T22:41:14.621Z"
    },
    "hidden": true
   },
   "outputs": [],
   "source": [
    "# Lendo valores e labels\n",
    "values = df['EmploymentField'].value_counts()\n",
    "labels = values.index\n",
    "values"
   ]
  },
  {
   "cell_type": "code",
   "execution_count": null,
   "metadata": {
    "ExecuteTime": {
     "end_time": "2019-04-24T22:41:19.961554Z",
     "start_time": "2019-04-24T22:41:14.630Z"
    },
    "hidden": true
   },
   "outputs": [],
   "source": [
    "# Testando agrupamento\n",
    "df_grouped = df.groupby('EmploymentField').count()\n",
    "df_grouped"
   ]
  },
  {
   "cell_type": "code",
   "execution_count": null,
   "metadata": {
    "ExecuteTime": {
     "end_time": "2019-04-24T22:41:19.962551Z",
     "start_time": "2019-04-24T22:41:14.640Z"
    },
    "hidden": true
   },
   "outputs": [],
   "source": [
    "# Testando limite de corte pct_value\n",
    "pct_value = df_grouped[lambda df: df.columns[0]].quantile(.65)\n",
    "pct_value"
   ]
  },
  {
   "cell_type": "code",
   "execution_count": null,
   "metadata": {
    "ExecuteTime": {
     "end_time": "2019-04-24T22:41:19.964546Z",
     "start_time": "2019-04-24T22:41:14.648Z"
    },
    "hidden": true
   },
   "outputs": [],
   "source": [
    "# Valores abaixo do limite de corte\n",
    "values_below_pct_value = df_grouped[lambda df: df.columns[0]].loc[lambda s: s < pct_value]\n",
    "values_below_pct_value"
   ]
  },
  {
   "cell_type": "code",
   "execution_count": null,
   "metadata": {
    "ExecuteTime": {
     "end_time": "2019-04-24T22:41:19.965543Z",
     "start_time": "2019-04-24T22:41:14.659Z"
    },
    "hidden": true
   },
   "outputs": [],
   "source": [
    "# Criando coluna Other\n",
    "def fix_values(row):\n",
    "    if row['EmploymentField'] in values_below_pct_value:\n",
    "        row['EmploymentField'] = 'Other'\n",
    "    return row\n",
    "df_ok = df.apply(fix_values, axis=1).groupby('EmploymentField').count()\n",
    "df_ok"
   ]
  },
  {
   "cell_type": "code",
   "execution_count": null,
   "metadata": {
    "ExecuteTime": {
     "end_time": "2019-04-24T22:41:19.967537Z",
     "start_time": "2019-04-24T22:41:14.670Z"
    },
    "hidden": true
   },
   "outputs": [],
   "source": [
    "# Criando função detalhada para somar valores pequenos em coluna \"Outros\"\n",
    "def agrupando_menores_valores(df, atributo, percent_corte):\n",
    "    contagem_valores = df.groupby(atributo).count()[df.columns[0]]\n",
    "    limiar = contagem_valores.quantile(percent_corte)\n",
    "    abaixo_do_limiar = contagem_valores.loc[lambda s: s < limiar].index.values\n",
    "    def fixar_valores(linha):\n",
    "        if linha[atributo] in abaixo_do_limiar:\n",
    "            linha[atributo] = 'Other'\n",
    "        return linha\n",
    "    df_grouped = df.apply(fixar_valores, axis=1).groupby(atributo).count()\n",
    "    return df_grouped"
   ]
  },
  {
   "cell_type": "code",
   "execution_count": null,
   "metadata": {
    "ExecuteTime": {
     "end_time": "2019-04-24T22:41:19.968535Z",
     "start_time": "2019-04-24T22:41:14.679Z"
    },
    "hidden": true
   },
   "outputs": [],
   "source": [
    "df_limiar = agrupando_menores_valores(df, 'EmploymentField', .65)\n",
    "df_limiar"
   ]
  },
  {
   "cell_type": "code",
   "execution_count": null,
   "metadata": {
    "ExecuteTime": {
     "end_time": "2019-04-24T22:41:19.970529Z",
     "start_time": "2019-04-24T22:41:14.687Z"
    },
    "hidden": true
   },
   "outputs": [],
   "source": [
    "# Refazendo gráfico\n",
    "fig, ax = plt.subplots(figsize=(7, 7))\n",
    "values = df_limiar[df.columns[0]]\n",
    "labels = values.index\n",
    "\n",
    "# Customizando parâmetros colorimétricos\n",
    "cmap = plt.get_cmap('Spectral')\n",
    "colors = [cmap(i) for i in np.linspace(0, 1, 11)]\n",
    "\n",
    "# Plotando gráfico\n",
    "wedge, texts, autotexts = ax.pie(values, labels=labels, startangle=90, colors=colors, autopct='%1.1f%%')\n",
    "\n",
    "# Customizando parâmetros gráficos\n",
    "plt.title('Área de Atuação dos Entrevistados', fontsize=19)\n",
    "plt.legend(bbox_to_anchor = (0.95,0.90), fontsize=10)\n",
    "plt.setp(autotexts, color='black')\n",
    "plt.show()"
   ]
  },
  {
   "cell_type": "markdown",
   "metadata": {
    "hidden": true
   },
   "source": [
    "**Plotando dois gráficos em uma única figure**"
   ]
  },
  {
   "cell_type": "code",
   "execution_count": null,
   "metadata": {
    "ExecuteTime": {
     "start_time": "2019-04-24T22:41:14.701Z"
    },
    "hidden": true
   },
   "outputs": [],
   "source": [
    "# Aprimorando função para retornar valores e labels\n",
    "def agrupando_menores_valores(df, atributo, percent_corte):\n",
    "    if percent_corte == 0:\n",
    "        values = df.groupby(atributo).count()[df.columns[0]]\n",
    "        labels = values.index\n",
    "        return values, labels\n",
    "    contagem_valores = df.groupby(atributo).count()[df.columns[0]]\n",
    "    limiar = contagem_valores.quantile(percent_corte)\n",
    "    abaixo_do_limiar = contagem_valores.loc[lambda s: s < limiar].index.values\n",
    "    def fixar_valores(linha):\n",
    "        if linha[atributo] in abaixo_do_limiar:\n",
    "            linha[atributo] = 'Other'\n",
    "        return linha\n",
    "    values = df.apply(fixar_valores, axis=1).groupby(atributo).count()[df.columns[0]]\n",
    "    labels = values.index \n",
    "    return values, labels"
   ]
  },
  {
   "cell_type": "code",
   "execution_count": null,
   "metadata": {
    "ExecuteTime": {
     "start_time": "2019-04-24T22:41:14.711Z"
    },
    "hidden": true
   },
   "outputs": [],
   "source": [
    "def df_pie_plot(axe, atributo, titulo, percent):\n",
    "    # Parâmetros\n",
    "    values, labels = agrupando_menores_valores(df, atributo, percent)\n",
    "    cmap = plt.get_cmap('Spectral')\n",
    "    colors = [cmap(i) for i in np.linspace(0, 1, 11)]\n",
    "\n",
    "    # Plotando gráfico\n",
    "    wedges, texts, autotexts = axe.pie(values, labels=labels, startangle=90, colors=colors, autopct='%1.1f%%')\n",
    "\n",
    "    # Customizando gráfico\n",
    "    axe.set_title(titulo, fontsize=15)\n",
    "    #axe.legend(bbox_to_anchor = (0.95,0.90), fontsize=10)\n",
    "    axe.legend(loc='lower left', fontsize=10)\n",
    "    plt.setp(autotexts, color='black')\n",
    "    plt.setp(texts, visible=False)"
   ]
  },
  {
   "cell_type": "code",
   "execution_count": null,
   "metadata": {
    "ExecuteTime": {
     "start_time": "2019-04-24T22:41:14.720Z"
    },
    "hidden": true
   },
   "outputs": [],
   "source": [
    "# Definindo figures\n",
    "fig, ax = plt.subplots(1, 2, figsize=(16, 7))\n",
    "df_pie_plot(ax[0], 'EmploymentField', 'Área de Atuação dos Entrevistados', .65)\n",
    "df_pie_plot(ax[1], 'JobPref', 'Modo de Atuação dos Entrevistados', 0)\n",
    "plt.show()"
   ]
  },
  {
   "cell_type": "code",
   "execution_count": null,
   "metadata": {
    "ExecuteTime": {
     "start_time": "2019-04-24T22:41:14.728Z"
    },
    "hidden": true
   },
   "outputs": [],
   "source": [
    "# Aprimorando gráfico de pizza com plotly (SchoolDegree)\n",
    "import plotly\n",
    "import plotly.plotly as py\n",
    "import plotly.graph_objs as go\n",
    "from plotly import tools\n",
    "plotly.tools.set_credentials_file(username='thipanini', api_key='ugE5bTPzMMeqUwqKeQdB')"
   ]
  },
  {
   "cell_type": "code",
   "execution_count": null,
   "metadata": {
    "ExecuteTime": {
     "start_time": "2019-04-24T22:41:14.736Z"
    },
    "hidden": true
   },
   "outputs": [],
   "source": [
    "# Verificando atributo SchoolsDegree\n",
    "df['SchoolDegree'].value_counts()"
   ]
  },
  {
   "cell_type": "code",
   "execution_count": null,
   "metadata": {
    "ExecuteTime": {
     "start_time": "2019-04-24T22:41:14.744Z"
    },
    "hidden": true
   },
   "outputs": [],
   "source": [
    "# Configurando dados através da função de agrupamento\n",
    "values, labels = agrupando_menores_valores(df, 'SchoolDegree', .35)\n",
    "\n",
    "# Plotando gráfico\n",
    "school_pie = go.Pie(labels=labels, values=values, \n",
    "                    marker=dict(line=dict(color='#FFF', width=2)))\n",
    "\n",
    "layout = go.Layout(height=800, width=800, autosize=False, title='Nível de Escolaridade dos Entrevistados')\n",
    "fig = go.Figure(data=[school_pie], layout=layout)\n",
    "py.iplot(fig, filename='school_pie')"
   ]
  },
  {
   "cell_type": "code",
   "execution_count": null,
   "metadata": {
    "ExecuteTime": {
     "start_time": "2019-04-24T22:41:14.752Z"
    },
    "hidden": true
   },
   "outputs": [],
   "source": [
    "# Salvando dados\n",
    "df.to_csv('C:/Users/thiagoPanini/Downloads/datasets/dados-pesquisa.csv', index=False)"
   ]
  },
  {
   "cell_type": "markdown",
   "metadata": {
    "hidden": true
   },
   "source": [
    "Vimos, no começo da sessão 2.1.3.1, o seguinte gráfico de gêneros"
   ]
  },
  {
   "cell_type": "code",
   "execution_count": null,
   "metadata": {
    "ExecuteTime": {
     "start_time": "2019-04-24T22:41:14.765Z"
    },
    "hidden": true
   },
   "outputs": [],
   "source": [
    "# Utilizando seaborn - Área de Interesse\n",
    "values = df['JobRoleInterest'].value_counts()\n",
    "labels = values.index\n",
    "sns.set(style='whitegrid')\n",
    "fig, ax = plt.subplots(figsize=(9, 6))\n",
    "\n",
    "sns.barplot(x=values.values, y=labels, palette='Spectral')\n",
    "plt.title('Áreas de interesse dos entrevistados', fontsize=17)\n",
    "ax.set_xlabel('Contagem', fontsize=14)\n",
    "ax.set_ylabel('Área', fontsize=14)\n",
    "plt.show()"
   ]
  },
  {
   "cell_type": "markdown",
   "metadata": {
    "hidden": true
   },
   "source": [
    "Aprimorando as plotagens em forma de barra, é possível relacionar o modo de atuação dos entrevistados com os ranges de idades obtidos pela coluna _AgeRange_."
   ]
  },
  {
   "cell_type": "code",
   "execution_count": null,
   "metadata": {
    "ExecuteTime": {
     "start_time": "2019-04-24T22:41:14.778Z"
    },
    "hidden": true
   },
   "outputs": [],
   "source": [
    "# Verificando ambas as colunas\n",
    "df['AgeRange'].value_counts()"
   ]
  },
  {
   "cell_type": "code",
   "execution_count": null,
   "metadata": {
    "ExecuteTime": {
     "start_time": "2019-04-24T22:41:14.786Z"
    },
    "hidden": true
   },
   "outputs": [],
   "source": [
    "df['JobPref'].value_counts()"
   ]
  },
  {
   "cell_type": "code",
   "execution_count": null,
   "metadata": {
    "ExecuteTime": {
     "start_time": "2019-04-24T22:41:14.794Z"
    },
    "hidden": true
   },
   "outputs": [],
   "source": [
    "# Utilizando o crosstab para realizar uma transformação mágica no DataFrame\n",
    "df_agejob = pd.crosstab(df['AgeRange'], df['JobPref'])\n",
    "df_agejob"
   ]
  },
  {
   "cell_type": "code",
   "execution_count": null,
   "metadata": {
    "ExecuteTime": {
     "start_time": "2019-04-24T22:41:14.805Z"
    },
    "hidden": true
   },
   "outputs": [],
   "source": [
    "# Para ficar ideal, vamos aplicar uma regra que retorna a média de cada um dos valores para o DataFrame\n",
    "df_agejob = pd.crosstab(df['AgeRange'], df['JobPref']).apply(lambda x: x/x.sum(), axis=1)\n",
    "df_agejob"
   ]
  },
  {
   "cell_type": "code",
   "execution_count": null,
   "metadata": {
    "ExecuteTime": {
     "start_time": "2019-04-24T22:41:14.814Z"
    },
    "hidden": true
   },
   "outputs": [],
   "source": [
    "# Agora temos a média considerando o total de JobPref\n",
    "df_agejob.iloc[0, :].sum()"
   ]
  },
  {
   "cell_type": "code",
   "execution_count": null,
   "metadata": {
    "ExecuteTime": {
     "start_time": "2019-04-24T22:41:14.825Z"
    },
    "hidden": true
   },
   "outputs": [],
   "source": [
    "# Plotando valores em gráfico de barras\n",
    "sns.set_style('white')\n",
    "\n",
    "# Definindo quantidades\n",
    "num = df_agejob.shape[0]\n",
    "ind = np.arange(num)\n",
    "width = .35\n",
    "\n",
    "# Gráfico de Barras (Stacked)\n",
    "df_agejob.plot(kind='bar', stacked=True)\n",
    "\n",
    "# Definindo eixos\n",
    "plt.title('Preferências de Carreira por Faixa Etária', fontsize=15)\n",
    "plt.ylabel('Proporção', fontsize=13, labelpad=10)\n",
    "plt.xlabel('Faixa Etária', fontsize=15, labelpad=20)\n",
    "plt.xticks(ind, df_agejob.index, fontsize=13)\n",
    "plt.legend(bbox_to_anchor = (1.05,0.90), fontsize=12)\n",
    "plt.show()"
   ]
  },
  {
   "cell_type": "markdown",
   "metadata": {
    "hidden": true
   },
   "source": [
    "Em caso de atributos com muitos dados diferentes, como EmploymentField, o ideal é traçar um gráfico de barras sem que haja agrupamento de valores"
   ]
  },
  {
   "cell_type": "code",
   "execution_count": null,
   "metadata": {
    "ExecuteTime": {
     "start_time": "2019-04-24T22:41:14.841Z"
    },
    "hidden": true
   },
   "outputs": [],
   "source": [
    "# Verificando valores possíveis\n",
    "df['EmploymentField'].value_counts()"
   ]
  },
  {
   "cell_type": "code",
   "execution_count": null,
   "metadata": {
    "ExecuteTime": {
     "start_time": "2019-04-24T22:41:14.849Z"
    },
    "hidden": true
   },
   "outputs": [],
   "source": [
    "# Exemplo holoviews\n",
    "import holoviews as hv\n",
    "hv.extension('bokeh','matplotlib')\n",
    "macro_df = pd.read_csv('http://assets.holoviews.org/macro.csv', '\\t')\n",
    "key_dimensions   = [('year', 'Year'), ('country', 'Country')]\n",
    "value_dimensions = [('unem', 'Unemployment'), ('capmob', 'Capital Mobility'),\n",
    "                    ('gdp', 'GDP Growth'), ('trade', 'Trade')]\n",
    "macro = hv.Table(macro_df, key_dimensions, value_dimensions)"
   ]
  },
  {
   "cell_type": "code",
   "execution_count": null,
   "metadata": {
    "ExecuteTime": {
     "start_time": "2019-04-24T22:41:14.857Z"
    },
    "hidden": true
   },
   "outputs": [],
   "source": [
    "%%opts Bars [stack_index=1 xrotation=90 width=600 show_legend=False tools=['hover']]\n",
    "%%opts Bars (color=Cycle('Category20'))\n",
    "macro.to.bars([ 'Year', 'Country'], 'Trade', [])"
   ]
  },
  {
   "cell_type": "code",
   "execution_count": null,
   "metadata": {
    "ExecuteTime": {
     "start_time": "2019-04-24T22:41:14.865Z"
    },
    "hidden": true
   },
   "outputs": [],
   "source": [
    "# O exemplo acima foi feito utilizando o dataset abaixo\n",
    "macro_df.head()"
   ]
  },
  {
   "cell_type": "markdown",
   "metadata": {
    "hidden": true
   },
   "source": [
    "Testando gráfico sobre Área dos Entrevistados"
   ]
  },
  {
   "cell_type": "code",
   "execution_count": null,
   "metadata": {
    "ExecuteTime": {
     "start_time": "2019-04-24T22:41:14.878Z"
    },
    "hidden": true
   },
   "outputs": [],
   "source": [
    "%%opts Bars [xrotation=90 width=900 height=500 show_legend=False tools=['hover'] invert_axes=True ]\n",
    "%%opts Bars (fill_color=Cycle('Spectral'))\n",
    "%%opts Layout [shared_axes=False]\n",
    "\n",
    "holo_table = hv.Table(df, kdims=['EmploymentField'])\n",
    "chart = holo_table.aggregate('EmploymentField', function=np.count_nonzero).to.bars(group='Área dos Entrevistados ')\n",
    "chart"
   ]
  },
  {
   "cell_type": "markdown",
   "metadata": {
    "heading_collapsed": true,
    "hidden": true
   },
   "source": [
    "## Salários: Funcionários Públicos dos EUA"
   ]
  },
  {
   "cell_type": "markdown",
   "metadata": {
    "hidden": true
   },
   "source": [
    "Continuando com as exploração de dados, será utilizado, neste tópico, um Dataset simples contendo informações de funcionários públicos dos EUA, tais como Nome, Função, Área e Salário Anual. Aplicando todos os conceitos de EDA, serão investigadas relações entre departamentos e seus respectivos ganhos anuais."
   ]
  },
  {
   "cell_type": "markdown",
   "metadata": {
    "heading_collapsed": true,
    "hidden": true
   },
   "source": [
    "### Avaliando os Dados"
   ]
  },
  {
   "cell_type": "code",
   "execution_count": null,
   "metadata": {
    "ExecuteTime": {
     "start_time": "2019-04-24T22:41:14.899Z"
    },
    "hidden": true
   },
   "outputs": [],
   "source": [
    "# Importando bibliotecas e lendo arquivos\n",
    "import pandas as pd\n",
    "import numpy as np\n",
    "\n",
    "df = pd.read_csv('C:/Users/thiagoPanini/Downloads/datasets/salarios.csv')\n",
    "df.head()"
   ]
  },
  {
   "cell_type": "markdown",
   "metadata": {
    "hidden": true
   },
   "source": [
    "O DataFrame em questão é formado pelas colunas:\n",
    "* **Name** - Nome do funcionário\n",
    "* **Position** Title - Título empregatício do funcionário\n",
    "* **Department** - Departamento do funcionário\n",
    "* **Employee Annual Salary** - Salário anual do funcionário"
   ]
  },
  {
   "cell_type": "code",
   "execution_count": null,
   "metadata": {
    "ExecuteTime": {
     "start_time": "2019-04-24T22:41:14.915Z"
    },
    "hidden": true
   },
   "outputs": [],
   "source": [
    "# Verificando dados nulos\n",
    "df.isnull().values.any()"
   ]
  },
  {
   "cell_type": "code",
   "execution_count": null,
   "metadata": {
    "ExecuteTime": {
     "start_time": "2019-04-24T22:41:14.926Z"
    },
    "hidden": true
   },
   "outputs": [],
   "source": [
    "# Quantos?\n",
    "df.isnull().sum()"
   ]
  },
  {
   "cell_type": "code",
   "execution_count": null,
   "metadata": {
    "ExecuteTime": {
     "start_time": "2019-04-24T22:41:14.934Z"
    },
    "hidden": true
   },
   "outputs": [],
   "source": [
    "# Verificando onde\n",
    "df[df['Name'].isnull()]"
   ]
  },
  {
   "cell_type": "markdown",
   "metadata": {
    "hidden": true
   },
   "source": [
    "Esta linha será eliminada futuramente."
   ]
  },
  {
   "cell_type": "code",
   "execution_count": null,
   "metadata": {
    "ExecuteTime": {
     "start_time": "2019-04-24T22:41:14.946Z"
    },
    "hidden": true
   },
   "outputs": [],
   "source": [
    "# Dados duplicados\n",
    "df.duplicated().any()"
   ]
  },
  {
   "cell_type": "code",
   "execution_count": null,
   "metadata": {
    "ExecuteTime": {
     "start_time": "2019-04-24T22:41:14.955Z"
    },
    "hidden": true
   },
   "outputs": [],
   "source": [
    "# Quantos?\n",
    "df.duplicated().sum()"
   ]
  },
  {
   "cell_type": "markdown",
   "metadata": {
    "hidden": true
   },
   "source": [
    "É possível ter dados duplicados neste Dataset, então não serão eliminados."
   ]
  },
  {
   "cell_type": "code",
   "execution_count": null,
   "metadata": {
    "ExecuteTime": {
     "start_time": "2019-04-24T22:41:14.969Z"
    },
    "hidden": true
   },
   "outputs": [],
   "source": [
    "# Tipos primitivos\n",
    "df.dtypes"
   ]
  },
  {
   "cell_type": "markdown",
   "metadata": {
    "hidden": true
   },
   "source": [
    "Vamos transformar a coluna Employee Annual Salary em float futuramente."
   ]
  },
  {
   "cell_type": "markdown",
   "metadata": {
    "heading_collapsed": true,
    "hidden": true
   },
   "source": [
    "### Preparando os dados"
   ]
  },
  {
   "cell_type": "code",
   "execution_count": null,
   "metadata": {
    "ExecuteTime": {
     "start_time": "2019-04-24T22:41:14.985Z"
    },
    "hidden": true
   },
   "outputs": [],
   "source": [
    "# Mudando o nome das colunas\n",
    "df.columns"
   ]
  },
  {
   "cell_type": "code",
   "execution_count": null,
   "metadata": {
    "ExecuteTime": {
     "start_time": "2019-04-24T22:41:14.994Z"
    },
    "hidden": true
   },
   "outputs": [],
   "source": [
    "# Aplicando transformações\n",
    "df.columns = [col.strip().lower().replace(' ', '_') for col in df.columns]\n",
    "df.columns"
   ]
  },
  {
   "cell_type": "code",
   "execution_count": null,
   "metadata": {
    "ExecuteTime": {
     "start_time": "2019-04-24T22:41:15.004Z"
    },
    "hidden": true
   },
   "outputs": [],
   "source": [
    "# Verificando no head\n",
    "df.head()"
   ]
  },
  {
   "cell_type": "code",
   "execution_count": null,
   "metadata": {
    "ExecuteTime": {
     "start_time": "2019-04-24T22:41:15.014Z"
    },
    "hidden": true
   },
   "outputs": [],
   "source": [
    "# Alterando coluna employee_annual_sallary\n",
    "eas = 'employee_annual_salary'\n",
    "df[eas].apply(lambda x: x[1:])"
   ]
  },
  {
   "cell_type": "markdown",
   "metadata": {
    "hidden": true
   },
   "source": [
    "Ué? Então parece que o atributo **employee_annual_sallary** é do tipo float?"
   ]
  },
  {
   "cell_type": "code",
   "execution_count": null,
   "metadata": {
    "ExecuteTime": {
     "start_time": "2019-04-24T22:41:15.028Z"
    },
    "hidden": true
   },
   "outputs": [],
   "source": [
    "# Verificando\n",
    "type(df[eas][0])"
   ]
  },
  {
   "cell_type": "code",
   "execution_count": null,
   "metadata": {
    "ExecuteTime": {
     "start_time": "2019-04-24T22:41:15.049Z"
    },
    "hidden": true
   },
   "outputs": [],
   "source": [
    "df[eas][:5]"
   ]
  },
  {
   "cell_type": "code",
   "execution_count": null,
   "metadata": {
    "ExecuteTime": {
     "start_time": "2019-04-24T22:41:15.063Z"
    },
    "hidden": true
   },
   "outputs": [],
   "source": [
    "# Tentando de 1 em 1\n",
    "df[eas][0][1:]"
   ]
  },
  {
   "cell_type": "code",
   "execution_count": null,
   "metadata": {
    "ExecuteTime": {
     "start_time": "2019-04-24T22:41:15.072Z"
    },
    "hidden": true
   },
   "outputs": [],
   "source": [
    "# Convertendo para String\n",
    "df[eas] = df[eas].astype(str)"
   ]
  },
  {
   "cell_type": "code",
   "execution_count": null,
   "metadata": {
    "ExecuteTime": {
     "start_time": "2019-04-24T22:41:15.080Z"
    },
    "hidden": true
   },
   "outputs": [],
   "source": [
    "# Aplicando função\n",
    "df[eas] = df[eas].apply(lambda x: x[1:])"
   ]
  },
  {
   "cell_type": "code",
   "execution_count": null,
   "metadata": {
    "ExecuteTime": {
     "start_time": "2019-04-24T22:41:15.088Z"
    },
    "hidden": true
   },
   "outputs": [],
   "source": [
    "# Verificando\n",
    "df.head()"
   ]
  },
  {
   "cell_type": "code",
   "execution_count": null,
   "metadata": {
    "ExecuteTime": {
     "start_time": "2019-04-24T22:41:15.098Z"
    },
    "hidden": true
   },
   "outputs": [],
   "source": [
    "# Convertendo para float novamente\n",
    "df[eas] = df[eas].astype(float)"
   ]
  },
  {
   "cell_type": "markdown",
   "metadata": {
    "hidden": true
   },
   "source": [
    "Erro estranho! Vamos verificar."
   ]
  },
  {
   "cell_type": "code",
   "execution_count": null,
   "metadata": {
    "ExecuteTime": {
     "start_time": "2019-04-24T22:41:15.114Z"
    },
    "hidden": true
   },
   "outputs": [],
   "source": [
    "df[eas].apply(lambda x: x[-2:])"
   ]
  },
  {
   "cell_type": "markdown",
   "metadata": {
    "hidden": true
   },
   "source": [
    "Olhe a última linha! Precisamos eliminar os dados NaN antes."
   ]
  },
  {
   "cell_type": "code",
   "execution_count": null,
   "metadata": {
    "ExecuteTime": {
     "start_time": "2019-04-24T22:41:15.130Z"
    },
    "hidden": true
   },
   "outputs": [],
   "source": [
    "# Dropando dados missin\n",
    "df.dropna(inplace=True)"
   ]
  },
  {
   "cell_type": "code",
   "execution_count": null,
   "metadata": {
    "ExecuteTime": {
     "start_time": "2019-04-24T22:41:15.140Z"
    },
    "hidden": true
   },
   "outputs": [],
   "source": [
    "# Verificando\n",
    "df.isnull().values.any()"
   ]
  },
  {
   "cell_type": "code",
   "execution_count": null,
   "metadata": {
    "ExecuteTime": {
     "start_time": "2019-04-24T22:41:15.150Z"
    },
    "hidden": true
   },
   "outputs": [],
   "source": [
    "# Tentando transformad novamente\n",
    "df[eas] = df[eas].astype(float)"
   ]
  },
  {
   "cell_type": "code",
   "execution_count": null,
   "metadata": {
    "ExecuteTime": {
     "start_time": "2019-04-24T22:41:15.159Z"
    },
    "hidden": true
   },
   "outputs": [],
   "source": [
    "# Verificando\n",
    "df.dtypes"
   ]
  },
  {
   "cell_type": "code",
   "execution_count": null,
   "metadata": {
    "ExecuteTime": {
     "start_time": "2019-04-24T22:41:15.169Z"
    },
    "hidden": true
   },
   "outputs": [],
   "source": [
    "# Visualizando\n",
    "df.head()"
   ]
  },
  {
   "cell_type": "code",
   "execution_count": null,
   "metadata": {
    "ExecuteTime": {
     "start_time": "2019-04-24T22:41:15.179Z"
    },
    "hidden": true
   },
   "outputs": [],
   "source": [
    "# Seria interessante deixar os dados \"bonitos\" tirando o capslock\n",
    "for col in df.iloc[:, :3].columns:\n",
    "    df[col] = df[col].apply(lambda x: x.title())\n",
    "df.head()"
   ]
  },
  {
   "cell_type": "code",
   "execution_count": null,
   "metadata": {
    "ExecuteTime": {
     "start_time": "2019-04-24T22:41:15.189Z"
    },
    "hidden": true
   },
   "outputs": [],
   "source": [
    "# Quantidade de dados\n",
    "df.shape"
   ]
  },
  {
   "cell_type": "code",
   "execution_count": null,
   "metadata": {
    "ExecuteTime": {
     "start_time": "2019-04-24T22:41:15.198Z"
    },
    "hidden": true
   },
   "outputs": [],
   "source": [
    "# Salvando novo Dataset\n",
    "df.to_csv('C:/Users/thiagoPanini/Downloads/datasets/salarios.csv', index=False)"
   ]
  },
  {
   "cell_type": "markdown",
   "metadata": {
    "hidden": true
   },
   "source": [
    "### Exploração Gráfica"
   ]
  },
  {
   "cell_type": "markdown",
   "metadata": {
    "hidden": true
   },
   "source": [
    "**_Visualizando informações relevantes_**"
   ]
  },
  {
   "cell_type": "code",
   "execution_count": null,
   "metadata": {
    "ExecuteTime": {
     "start_time": "2019-04-24T22:41:15.214Z"
    },
    "hidden": true
   },
   "outputs": [],
   "source": [
    "# Importando bibliotecas e lendo arquivos\n",
    "import pandas as pd\n",
    "import numpy as np\n",
    "import matplotlib.pyplot as plt\n",
    "%matplotlib inline\n",
    "\n",
    "df = pd.read_csv('C:/Users/thiagoPanini/Downloads/datasets/salarios.csv')\n",
    "df.head()"
   ]
  },
  {
   "cell_type": "code",
   "execution_count": null,
   "metadata": {
    "ExecuteTime": {
     "start_time": "2019-04-24T22:41:15.224Z"
    },
    "hidden": true
   },
   "outputs": [],
   "source": [
    "# Posições possíveis\n",
    "df['position_title'].value_counts()"
   ]
  },
  {
   "cell_type": "code",
   "execution_count": null,
   "metadata": {
    "ExecuteTime": {
     "start_time": "2019-04-24T22:41:15.233Z"
    },
    "hidden": true
   },
   "outputs": [],
   "source": [
    "# Departamentos possíveis\n",
    "df['department'].value_counts()"
   ]
  },
  {
   "cell_type": "markdown",
   "metadata": {
    "hidden": true
   },
   "source": [
    "**_Plotando gráficos sobre salário x departamento_**"
   ]
  },
  {
   "cell_type": "code",
   "execution_count": null,
   "metadata": {
    "ExecuteTime": {
     "start_time": "2019-04-24T22:41:15.246Z"
    },
    "hidden": true
   },
   "outputs": [],
   "source": [
    "# Definindo função para agrupar dados caso hajam muitos\n",
    "def agrupa_dados(col, percent):\n",
    "    if percent == 0:\n",
    "        values = df.groupby(col).count()[df.columns[0]]\n",
    "        labels = values.index\n",
    "        return values, labels\n",
    "    count = df.groupby(col).count()[df.columns[0]]\n",
    "    limiar = count.quantile(percent)\n",
    "    abaixo_do_limiar = count.loc[lambda s: s < limiar].index.values\n",
    "    def fixa_valores(linha):\n",
    "        if linha[col] in abaixo_do_limiar:\n",
    "            linha[col] = 'Other'\n",
    "        return linha\n",
    "    values = df.apply(fixa_valores, axis=1).groupby(col).count()[df.columns[0]]\n",
    "    labels = values.index\n",
    "    return values, labels"
   ]
  },
  {
   "cell_type": "code",
   "execution_count": null,
   "metadata": {
    "ExecuteTime": {
     "start_time": "2019-04-24T22:41:15.255Z"
    },
    "hidden": true
   },
   "outputs": [],
   "source": [
    "# Para o gráfico de pizza, o agrupamento tem que ser grande\n",
    "values_dep, labels_dep = agrupa_dados('department', .85)\n",
    "values_dep"
   ]
  },
  {
   "cell_type": "markdown",
   "metadata": {
    "hidden": true
   },
   "source": [
    "**_Plotando gráficos de Pizza - Visão 1_**"
   ]
  },
  {
   "cell_type": "code",
   "execution_count": null,
   "metadata": {
    "ExecuteTime": {
     "start_time": "2019-04-24T22:41:15.267Z"
    },
    "hidden": true
   },
   "outputs": [],
   "source": [
    "# Plotando gráfico\n",
    "\n",
    "fig, ax = plt.subplots(figsize=(7, 7))\n",
    "ax.pie(values_dep, labels=labels_dep, startangle=-60)\n",
    "plt.title('Funcionários por Departamento', fontsize=18)\n",
    "plt.show()"
   ]
  },
  {
   "cell_type": "markdown",
   "metadata": {
    "hidden": true
   },
   "source": [
    "**_Plotando gráficos de Pizza - Visão 1_**"
   ]
  },
  {
   "cell_type": "markdown",
   "metadata": {
    "hidden": true
   },
   "source": [
    "Fonte: https://medium.com/@kvnamipara/a-better-visualisation-of-pie-charts-by-matplotlib-935b7667d77f"
   ]
  },
  {
   "cell_type": "code",
   "execution_count": null,
   "metadata": {
    "ExecuteTime": {
     "start_time": "2019-04-24T22:41:15.283Z"
    },
    "hidden": true
   },
   "outputs": [],
   "source": [
    "# Aprimorando gráfico de pizza com plotly \n",
    "import plotly\n",
    "import plotly.plotly as py\n",
    "import plotly.graph_objs as go\n",
    "from plotly import tools\n",
    "plotly.tools.set_credentials_file(username='thipanini', api_key='ugE5bTPzMMeqUwqKeQdB')\n",
    "\n",
    "# O agrupamento pode ser menor\n",
    "values_dep, labels_dep = agrupa_dados('department', .65)\n",
    "\n",
    "dep_pie = go.Pie(labels=labels_dep, values=values_dep,\n",
    "                marker=dict(line=dict(color='#FFF', width=2)))\n",
    "\n",
    "layout = go.Layout(height=800, width=800, title='Quantidade de Funcionários por Departamento')\n",
    "fig = go.Figure(data=[dep_pie], layout=layout)\n",
    "py.iplot(fig, filename='department_pie')"
   ]
  },
  {
   "cell_type": "markdown",
   "metadata": {
    "hidden": true
   },
   "source": [
    "**_Gráfico de Barras: Média de Salários por Departamento_**"
   ]
  },
  {
   "cell_type": "code",
   "execution_count": null,
   "metadata": {
    "ExecuteTime": {
     "start_time": "2019-04-24T22:41:15.297Z"
    },
    "hidden": true
   },
   "outputs": [],
   "source": [
    "# Média de salários\n",
    "dep_mean = pd.DataFrame(df.groupby('department').mean()['employee_annual_salary']).reset_index()\n",
    "dep_mean"
   ]
  },
  {
   "cell_type": "code",
   "execution_count": null,
   "metadata": {
    "ExecuteTime": {
     "start_time": "2019-04-24T22:41:15.308Z"
    },
    "hidden": true
   },
   "outputs": [],
   "source": [
    "# Gráfico de Barras com Holoviews\n",
    "import holoviews as hv\n",
    "hv.extension('bokeh', 'matplotlib')\n",
    "key_dim = [('department', 'Departamento')]\n",
    "value_dim = [('employee_annual_salary', 'Média Salário Anual (US$)')]\n",
    "macro = hv.Table(dep_mean, key_dim, value_dim)"
   ]
  },
  {
   "cell_type": "code",
   "execution_count": null,
   "metadata": {
    "ExecuteTime": {
     "start_time": "2019-04-24T22:41:15.318Z"
    },
    "hidden": true
   },
   "outputs": [],
   "source": [
    "%%opts Bars [stack_index=1 xrotation=90 width=600 show_legend=False tools=['hover']]\n",
    "%%opts Bars (color=Cycle('Category20'))\n",
    "macro.to.bars('Departamento', 'Média Salário Anual (US$)')"
   ]
  },
  {
   "cell_type": "markdown",
   "metadata": {
    "hidden": true
   },
   "source": [
    "Apesar de ser um gráfico interessante, o ideal é plotar normalmente através do matplotlib ou seaborn"
   ]
  },
  {
   "cell_type": "code",
   "execution_count": null,
   "metadata": {
    "ExecuteTime": {
     "start_time": "2019-04-24T22:41:15.330Z"
    },
    "hidden": true
   },
   "outputs": [],
   "source": [
    "dep_mean_sorted = dep_mean.sort_values(['employee_annual_salary'], ascending=False).reset_index().iloc[:, 1:]\n",
    "dep_mean_sorted"
   ]
  },
  {
   "cell_type": "code",
   "execution_count": null,
   "metadata": {
    "ExecuteTime": {
     "start_time": "2019-04-24T22:41:15.338Z"
    },
    "hidden": true
   },
   "outputs": [],
   "source": [
    "# Separando dataset\n",
    "top_ones = dep_mean_sorted.iloc[:8, :]\n",
    "top_ones"
   ]
  },
  {
   "cell_type": "code",
   "execution_count": null,
   "metadata": {
    "ExecuteTime": {
     "start_time": "2019-04-24T22:41:15.349Z"
    },
    "hidden": true
   },
   "outputs": [],
   "source": [
    "# Últimos\n",
    "last_ones = dep_mean_sorted.iloc[8:, :]\n",
    "last_ones"
   ]
  },
  {
   "cell_type": "code",
   "execution_count": null,
   "metadata": {
    "ExecuteTime": {
     "start_time": "2019-04-24T22:41:15.359Z"
    },
    "hidden": true
   },
   "outputs": [],
   "source": [
    "# Tratando\n",
    "media_geral = last_ones['employee_annual_salary'].mean()\n",
    "media_geral"
   ]
  },
  {
   "cell_type": "code",
   "execution_count": null,
   "metadata": {
    "ExecuteTime": {
     "start_time": "2019-04-24T22:41:15.366Z"
    },
    "hidden": true
   },
   "outputs": [],
   "source": [
    "# Criando DataFrame com média salarial de Outros\n",
    "df_other = pd.DataFrame({'department': ['Other'], 'employee_annual_salary': [media_geral]})\n",
    "df_other"
   ]
  },
  {
   "cell_type": "code",
   "execution_count": null,
   "metadata": {
    "ExecuteTime": {
     "start_time": "2019-04-24T22:41:15.375Z"
    },
    "hidden": true
   },
   "outputs": [],
   "source": [
    "# Append nos dados\n",
    "dep_data = top_ones.append(df_other).reset_index().iloc[:, 1:]\n",
    "dep_data"
   ]
  },
  {
   "cell_type": "code",
   "execution_count": null,
   "metadata": {
    "ExecuteTime": {
     "start_time": "2019-04-24T22:41:15.384Z"
    },
    "hidden": true
   },
   "outputs": [],
   "source": [
    "plt.figure()\n",
    "plt.plot(ind, y)\n",
    "plt.show()"
   ]
  },
  {
   "cell_type": "code",
   "execution_count": null,
   "metadata": {
    "ExecuteTime": {
     "start_time": "2019-04-24T22:41:15.393Z"
    },
    "hidden": true
   },
   "outputs": [],
   "source": [
    "# Definindo valores e labels\n",
    "values = dep_data['employee_annual_salary']\n",
    "labels = dep_data['department']\n",
    "ind = np.arange(len(labels))\n",
    "mean = values.mean()\n",
    "\n",
    "# Plotando figure e gráfico de barras\n",
    "fig = plt.figure(figsize=(10, 7))\n",
    "ax = fig.add_subplot(1, 1, 1)\n",
    "ax.bar(ind, values, label='Média por Departamento')\n",
    "plt.ylim(70000, 98000)\n",
    "plt.ylabel('Salário Anual (US$)', fontsize=14, labelpad=20)\n",
    "plt.xlabel('Departamento', fontsize=14, labelpad=20)\n",
    "plt.xticks(ind, labels, rotation=60)\n",
    "plt.legend(loc='upper left')\n",
    "\n",
    "# Plotando linha de média geral\n",
    "y = np.repeat(mean, len(labels))\n",
    "axes2 = plt.twinx()\n",
    "axes2.plot(ind, y, color='k', label='Média Geral')\n",
    "plt.ylim(70000, 98000)\n",
    "plt.legend()\n",
    "plt.title('Média Salarial Anual por Departamento', fontsize=20)\n",
    "\n",
    "plt.show()"
   ]
  },
  {
   "cell_type": "markdown",
   "metadata": {
    "heading_collapsed": true,
    "hidden": true
   },
   "source": [
    "## Veículos à Venda no Ebay"
   ]
  },
  {
   "cell_type": "markdown",
   "metadata": {
    "hidden": true
   },
   "source": [
    "Neste conjunto de dados oriundo do _Kagle_, são apresentadas informações sobre casos usados na Alemanha que estão a venda no eBay. Os atributos contemplam o modelo, tipo, ano de fabricação, entre outras informações sobre os veículos. A grande ideia desta análise é avaliar padrões e  verificar relações de acordo com os atributos disponibilizados, além de, claro, aplicar todos os processos de limpeza e tratamento de dados.\n",
    "\n",
    "Link: https://www.kaggle.com/orgesleka/used-cars-database"
   ]
  },
  {
   "cell_type": "markdown",
   "metadata": {
    "heading_collapsed": true,
    "hidden": true
   },
   "source": [
    "### Entendendo e Avaliando os Dados"
   ]
  },
  {
   "cell_type": "code",
   "execution_count": null,
   "metadata": {
    "ExecuteTime": {
     "start_time": "2019-04-24T22:41:15.415Z"
    },
    "hidden": true
   },
   "outputs": [],
   "source": [
    "# Importando bibliotecas e lendo arquivos\n",
    "import pandas as pd\n",
    "import numpy as np\n",
    "import matplotlib.pyplot as plt\n",
    "import seaborn as sns\n",
    "%matplotlib inline\n",
    "\n",
    "df = pd.read_csv('C:/Users/thiagoPanini/Downloads/datasets/autos.csv')"
   ]
  },
  {
   "cell_type": "code",
   "execution_count": null,
   "metadata": {
    "ExecuteTime": {
     "start_time": "2019-04-24T22:41:15.426Z"
    },
    "hidden": true
   },
   "outputs": [],
   "source": [
    "# Visualizando dados\n",
    "df.head()"
   ]
  },
  {
   "cell_type": "code",
   "execution_count": null,
   "metadata": {
    "ExecuteTime": {
     "start_time": "2019-04-24T22:41:15.437Z"
    },
    "hidden": true
   },
   "outputs": [],
   "source": [
    "# Quantizando o Dataset\n",
    "print(f'O Dataset de autos possui {df.shape[0]} linhas e {df.shape[1]} colunas.')"
   ]
  },
  {
   "cell_type": "code",
   "execution_count": null,
   "metadata": {
    "ExecuteTime": {
     "start_time": "2019-04-24T22:41:15.446Z"
    },
    "hidden": true
   },
   "outputs": [],
   "source": [
    "# Visualizando colunas do DataFrame\n",
    "colunas = [x for x in df.columns]\n",
    "for col in df.columns:\n",
    "    if col != colunas[-1]:\n",
    "        print(col, end=', ')\n",
    "    else:\n",
    "        print(col, end='.')"
   ]
  },
  {
   "cell_type": "code",
   "execution_count": null,
   "metadata": {
    "ExecuteTime": {
     "start_time": "2019-04-24T22:41:15.454Z"
    },
    "hidden": true
   },
   "outputs": [],
   "source": [
    "# Tipos primitivos\n",
    "df.dtypes"
   ]
  },
  {
   "cell_type": "code",
   "execution_count": null,
   "metadata": {
    "ExecuteTime": {
     "start_time": "2019-04-24T22:41:15.463Z"
    },
    "hidden": true
   },
   "outputs": [],
   "source": [
    "# Verificando dados estatísticos de atributos numéricos\n",
    "df.describe()"
   ]
  },
  {
   "cell_type": "code",
   "execution_count": null,
   "metadata": {
    "ExecuteTime": {
     "start_time": "2019-04-24T22:41:15.471Z"
    },
    "hidden": true
   },
   "outputs": [],
   "source": [
    "# Verificando a contagem de valores presentes em cada uma das colunas\n",
    "def column_value_counts(df):\n",
    "    \"\"\"\n",
    "    Retorna a quantidade de instâncias não-numéricas em cada uma das colunas do DataFrame.\n",
    "    \"\"\"\n",
    "    # only_alpha = df.drop(df.describe().columns, axis=1)\n",
    "    for col in df.columns:\n",
    "        print(f'- {col} -\\n')\n",
    "        print(df[col].value_counts())\n",
    "        print()\n",
    "column_value_counts(df)"
   ]
  },
  {
   "cell_type": "markdown",
   "metadata": {
    "hidden": true
   },
   "source": [
    "**Explicação sobre as colunas**:\n",
    "* **_dateCrawled_** : Quando o anúncio do carro foi visitado pela primeira vez no site;\n",
    "* **_name_** : Descrição completa do carro anunciado;\n",
    "* **_seller_** : Tipo de venda (\"private (privado)\" ou \"gewerblich (comercial)\");\n",
    "* **_offerType_** : Tipo de oferta (\"Offer\" ou \"Request\");\n",
    "* **_price_** : Preço divulgado no anúncio;\n",
    "* **_abtest_** : (\"test\" ou \"control\");\n",
    "* **_vehicleType_** : Tipo de veículo (\"suv\", \"bus\", \"coupe\", \"limousine\", etc...)\n",
    "* **_yearOfRegistration_** : Ano de registro do veículo;\n",
    "* **_gearbox_** : Câmbio (\"manual\", \"automático\", \"não especificado\");\n",
    "* **_powerPS_** : Potência do veículo em PS;\n",
    "* **_model_** : Modelo do carro;\n",
    "* **_kilometer_** : Kilometragem do veículo;\n",
    "* **_monthOfRegistration_** : Mês de registro do veículo;\n",
    "* **_fuelType_** : Tipo de combustível do veículo (\"Gasoline\", \"Diesel\", \"Hybrid\", \"Eletric\", etc...);\n",
    "* **_brand_** : Marca do veículo (\"volkswagen\", \"bmw\", \"mercedes_benz\", etc...)\n",
    "* **_notRepairedDamage_** : Se o carro tem danos não reparados;\n",
    "* **_dateCreated_** : Data de criação do anúncio;\n",
    "* **_postalCode_** : Código postal do anunciante;\n",
    "* **_lastSeenOnline_** : Quando o crawler visitou o anúncio pela última vez;\n",
    "* **_monthOfCreation_** : Mês de criação do anúncio;\n",
    "* **_monthCrawled_** : Mês em que o anúncio foi \"crawled\";\n",
    "* **_NoOfDaysOnline_** : Número de dias que o anúncio ficou disponível online;\n",
    "* **_NoOfHrsOnline_** : Número de horas que o anúncio ficou disponível online;\n",
    "* **_yearsOld_** : Idade do carro (em anos);\n",
    "* **_monthsOld_** : Idade do anúncio (em mêses);\n",
    "\n",
    "É necessário selecionar algumas colunas para serem dropadas do DataFrame, filtrando assim a preparação dos dados."
   ]
  },
  {
   "cell_type": "markdown",
   "metadata": {
    "hidden": true
   },
   "source": [
    "### Preparando os Dados"
   ]
  },
  {
   "cell_type": "code",
   "execution_count": null,
   "metadata": {
    "ExecuteTime": {
     "start_time": "2019-04-24T22:41:15.487Z"
    },
    "hidden": true
   },
   "outputs": [],
   "source": [
    "# Importando bibliotecas e lendo arquivos\n",
    "import pandas as pd\n",
    "import numpy as np\n",
    "import matplotlib.pyplot as plt\n",
    "import seaborn as sns\n",
    "%matplotlib inline\n",
    "\n",
    "df = pd.read_csv('C:/Users/thiagoPanini/Downloads/datasets/autos.csv')\n",
    "df.head()"
   ]
  },
  {
   "cell_type": "code",
   "execution_count": null,
   "metadata": {
    "ExecuteTime": {
     "start_time": "2019-04-24T22:41:15.496Z"
    },
    "hidden": true
   },
   "outputs": [],
   "source": [
    "# Filtrando dados e excluindo colunas\n",
    "exclude_columns = ['seller', 'offerType', 'yearOfCreation', 'yearCrawled', 'monthCrawled', 'monthsOld']\n",
    "df = df.drop(exclude_columns, axis=1)\n",
    "df.head()"
   ]
  },
  {
   "cell_type": "code",
   "execution_count": null,
   "metadata": {
    "ExecuteTime": {
     "start_time": "2019-04-24T22:41:15.507Z"
    },
    "hidden": true
   },
   "outputs": [],
   "source": [
    "# Verificando tipos primitivos das colunas\n",
    "df.dtypes"
   ]
  },
  {
   "cell_type": "code",
   "execution_count": null,
   "metadata": {
    "ExecuteTime": {
     "start_time": "2019-04-24T22:41:15.518Z"
    },
    "hidden": true
   },
   "outputs": [],
   "source": [
    "# Transformando colunas relacionadas à data em datetime\n",
    "df['dateCrawled'] = pd.to_datetime(df['dateCrawled'])\n",
    "df['dateCreated'] = pd.to_datetime(df['dateCreated'])\n",
    "df['lastSeen'] = pd.to_datetime(df['lastSeen'])\n",
    "\n",
    "df.dtypes"
   ]
  },
  {
   "cell_type": "code",
   "execution_count": null,
   "metadata": {
    "ExecuteTime": {
     "start_time": "2019-04-24T22:41:15.529Z"
    },
    "hidden": true
   },
   "outputs": [],
   "source": [
    "# Verificando dados nulos\n",
    "print(f'Há dados nulos? {df.isnull().values.any()}')\n",
    "print(f'Quanto? {df.isnull().values.sum()}')"
   ]
  },
  {
   "cell_type": "code",
   "execution_count": null,
   "metadata": {
    "ExecuteTime": {
     "start_time": "2019-04-24T22:41:15.539Z"
    },
    "hidden": true
   },
   "outputs": [],
   "source": [
    "# Em quais posições e quantidades?\n",
    "df.isnull().sum()"
   ]
  },
  {
   "cell_type": "markdown",
   "metadata": {
    "hidden": true
   },
   "source": [
    "Todos os dados nulos são provenientes da coluna _fuelType_ e não serão excluidos. "
   ]
  },
  {
   "cell_type": "code",
   "execution_count": null,
   "metadata": {
    "ExecuteTime": {
     "start_time": "2019-04-24T22:41:15.553Z"
    },
    "hidden": true
   },
   "outputs": [],
   "source": [
    "# Salvando novo DataFrame\n",
    "df.to_csv('C:/Users/thiagoPanini/Downloads/datasets/autos-edited.csv', index=False)"
   ]
  },
  {
   "cell_type": "markdown",
   "metadata": {
    "hidden": true
   },
   "source": [
    "### Exploração Gráfica"
   ]
  },
  {
   "cell_type": "code",
   "execution_count": null,
   "metadata": {
    "ExecuteTime": {
     "start_time": "2019-04-24T22:41:15.565Z"
    },
    "hidden": true
   },
   "outputs": [],
   "source": [
    "# Importando bibliotecas e lendo arquivos\n",
    "import pandas as pd\n",
    "import numpy as np\n",
    "import matplotlib.pyplot as plt\n",
    "import seaborn as sns\n",
    "%matplotlib inline\n",
    "\n",
    "df = pd.read_csv('C:/Users/thiagoPanini/Downloads/datasets/autos-edited.csv')\n",
    "df.head()"
   ]
  },
  {
   "cell_type": "code",
   "execution_count": null,
   "metadata": {
    "ExecuteTime": {
     "start_time": "2019-04-24T22:41:15.575Z"
    },
    "hidden": true
   },
   "outputs": [],
   "source": [
    "# Visualizando todos os dados de uma forma geral com PairGrids\n",
    "sns.pairplot(df)"
   ]
  },
  {
   "cell_type": "markdown",
   "metadata": {
    "hidden": true
   },
   "source": [
    "Aparentemente não há nenhuma correlação explícita entre os dados. Entretanto, para um melhor julgamento, é possível focar a análise em colunas candidatas a terem uma correlação clara, filtrando e eliminando varipaveis como _NoOfDaysOnline, NoOfHourOnline, yearOfRegistration_."
   ]
  },
  {
   "cell_type": "code",
   "execution_count": null,
   "metadata": {
    "ExecuteTime": {
     "start_time": "2019-04-24T22:41:15.588Z"
    },
    "hidden": true
   },
   "outputs": [],
   "source": [
    "# Filtrando colunas para análise\n",
    "df_filtered = df.drop(['yearOfRegistration', 'postalCode', 'NoOfHrsOnline'], axis=1)\n",
    "sns.pairplot(df_filtered);"
   ]
  },
  {
   "cell_type": "markdown",
   "metadata": {
    "hidden": true
   },
   "source": [
    "O plot acima não foi muito esclarecedor visto que há poucas variáveis categóricas a serem avaliadas."
   ]
  },
  {
   "cell_type": "code",
   "execution_count": null,
   "metadata": {
    "ExecuteTime": {
     "start_time": "2019-04-24T22:41:15.604Z"
    },
    "hidden": true
   },
   "outputs": [],
   "source": [
    "# Plot de distribuição\n",
    "\n",
    "# Configurando figs, eixos e estilos\n",
    "fig, ax = plt.subplots(figsize=(8, 6))\n",
    "sns.set_style('whitegrid')\n",
    "sns.set_context('talk')\n",
    "\n",
    "# Plotando gráfico\n",
    "ax = sns.distplot(df['yearsOld'], kde=False)\n",
    "ax.set_title('Distribuição de tempo de idade dos veículos', fontsize=16)\n",
    "ax.set_xlabel('Tempo do veículo (anos)', labelpad=10)\n",
    "ax.set_ylabel('Frequência')\n",
    "plt.show()"
   ]
  },
  {
   "cell_type": "code",
   "execution_count": null,
   "metadata": {
    "ExecuteTime": {
     "start_time": "2019-04-24T22:41:15.614Z"
    },
    "hidden": true
   },
   "outputs": [],
   "source": [
    "# Criando função para histogramas\n",
    "def hist_plot(df, col, title, kde=True, hist=True, bins=15):\n",
    "    \"\"\"\n",
    "    Função responsável por plotar gráficos de distribuição de acordo com o atributo selecionado como entrada.\n",
    "    \"\"\"\n",
    "    # Criando figs e axs\n",
    "    fig, ax = plt.subplots(figsize=(7, 7))\n",
    "    sns.set_style('whitegrid')\n",
    "    sns.set_context('talk')\n",
    "\n",
    "    for col in [col]:\n",
    "        ax = sns.distplot(df[col], kde=kde, hist=True, bins=bins)\n",
    "    \n",
    "    ax.set_title(title)\n",
    "    ax.set_ylabel('Frequência', labelpad=10)\n",
    "    plt.show()"
   ]
  },
  {
   "cell_type": "code",
   "execution_count": null,
   "metadata": {
    "ExecuteTime": {
     "start_time": "2019-04-24T22:41:15.625Z"
    },
    "hidden": true
   },
   "outputs": [],
   "source": [
    "# Chamando função para verificar distribuição de PREÇOS\n",
    "hist_plot(df, 'price', 'Preço dos Veículos Anunciados no eBay', kde=False)"
   ]
  },
  {
   "cell_type": "code",
   "execution_count": null,
   "metadata": {
    "ExecuteTime": {
     "start_time": "2019-04-24T22:41:15.633Z"
    },
    "hidden": true
   },
   "outputs": [],
   "source": [
    "# Verificando distribuição de NÚMEROS DE HORAS ONLINE de cada anúncio\n",
    "hist_plot(df, 'NoOfHrsOnline', 'Número de Horas Online dos Anúncios', kde=True, hist=False, bins=10)"
   ]
  },
  {
   "cell_type": "code",
   "execution_count": null,
   "metadata": {
    "ExecuteTime": {
     "start_time": "2019-04-24T22:41:15.643Z"
    },
    "hidden": true
   },
   "outputs": [],
   "source": [
    "# Definindo função para gráfico de pizza\n",
    "def pie_plotter(df, values, labels, title):\n",
    "\n",
    "    # Criando figure e eixo\n",
    "    fig, ax = plt.subplots(figsize=(7, 7))\n",
    "\n",
    "    # Customizando parâmetros colorimétricos\n",
    "    cmap = plt.get_cmap('Spectral')\n",
    "    colors = [cmap(i) for i in np.linspace(0, 2, len(labels)*2)]\n",
    "\n",
    "    # Plotando gráfico\n",
    "    wedge, texts, autotexts = ax.pie(values, labels=labels, startangle=90, colors=colors, autopct='%1.1f%%',\n",
    "                                    wedgeprops={'linewidth':1.75, 'edgecolor':'black'})\n",
    "\n",
    "    # Customizando parâmetros gráficos\n",
    "    plt.title(title, fontsize=19, weight='bold')\n",
    "    plt.legend(bbox_to_anchor = (0.95,0.90), fontsize=13)\n",
    "    plt.setp(autotexts, color='black', fontsize=15)\n",
    "    plt.setp(texts, fontsize=0)\n",
    "    plt.show()"
   ]
  },
  {
   "cell_type": "code",
   "execution_count": null,
   "metadata": {
    "ExecuteTime": {
     "start_time": "2019-04-24T22:41:15.652Z"
    },
    "hidden": true
   },
   "outputs": [],
   "source": [
    "# Verificando colunas candidatas\n",
    "df.columns"
   ]
  },
  {
   "cell_type": "code",
   "execution_count": null,
   "metadata": {
    "ExecuteTime": {
     "start_time": "2019-04-24T22:41:15.661Z"
    },
    "hidden": true
   },
   "outputs": [],
   "source": [
    "# Plotando gráfico de pizza para tipo de combustível\n",
    "values = df['fuelType'].value_counts()\n",
    "labels = values.index\n",
    "pie_plotter(df, values, labels, 'Tipos de Combustível dos Veículos')"
   ]
  },
  {
   "cell_type": "markdown",
   "metadata": {
    "hidden": true
   },
   "source": [
    "Nesse caso, como temos muitas opções disponíveis e com uma grande concentração em uma ou duas opções, o ideal seria plotar um gráfico de barras."
   ]
  },
  {
   "cell_type": "code",
   "execution_count": null,
   "metadata": {
    "ExecuteTime": {
     "start_time": "2019-04-24T22:41:15.676Z"
    },
    "hidden": true
   },
   "outputs": [],
   "source": [
    "# Definindo função para plotagem de gráfico de barras\n",
    "def plt_bar_plotter(df, values, labels, col, title, xlabel, ylabel, \n",
    "                    hue='', percent=False, alt_percent=1000, rotation=0):\n",
    "    \n",
    "    # Definindo parâmetros\n",
    "    ind = np.arange(len(labels))\n",
    "    width = .35\n",
    "    sns.set_style('darkgrid')\n",
    "    sns.set_context('talk')\n",
    "    \n",
    "    # Criando figures e axes\n",
    "    fig, ax = plt.subplots(figsize=(10, 6))\n",
    "    if hue == '':\n",
    "        sns.countplot(x=col, data=df, order=labels, palette='viridis', saturation=.8, linewidth=1.5, \n",
    "                      edgecolor='black')\n",
    "    else:\n",
    "        sns.countplot(x=col, data=df, hue=hue, palette='viridis', saturation=.8, linewidth=1.5, \n",
    "                      edgecolor='black')\n",
    "    plt.title(title, fontsize=19, weight='bold')\n",
    "    plt.ylabel(ylabel, fontsize=15, labelpad=12)\n",
    "    plt.xlabel(xlabel, fontsize=15, labelpad=11)\n",
    "    plt.ylim(0, values.max()+values.max()*0.15)\n",
    "    plt.xticks(rotation=rotation)\n",
    "    \n",
    "    # Mostra percentual nas barras\n",
    "    if percent:\n",
    "        soma = values.sum()\n",
    "        for p in ax.patches:\n",
    "            width, height = p.get_width(), p.get_height()\n",
    "            x, y = p.get_xy() \n",
    "            ax.annotate('{:.2%}'.format(height/soma), (p.get_x()+.08*width, p.get_y() + height + alt_percent), \n",
    "                        color='black', weight='bold')\n",
    "    if hue != '':\n",
    "        plt.legend(bbox_to_anchor=(1.05, 1), loc=2, borderaxespad=0.)"
   ]
  },
  {
   "cell_type": "code",
   "execution_count": null,
   "metadata": {
    "ExecuteTime": {
     "start_time": "2019-04-24T22:41:15.686Z"
    },
    "hidden": true
   },
   "outputs": [],
   "source": [
    "# Plotando gráfico\n",
    "values = df['fuelType'].value_counts()\n",
    "labels = values.index\n",
    "plt_bar_plotter(df, values, labels, 'fuelType', \n",
    "               'Tipos de Combustível dos Automóveis Anunciados', 'Tipo de Combustível', 'Contagem', \n",
    "                percent=True, alt_percent=2000)"
   ]
  },
  {
   "cell_type": "code",
   "execution_count": null,
   "metadata": {
    "ExecuteTime": {
     "start_time": "2019-04-24T22:41:15.698Z"
    },
    "hidden": true
   },
   "outputs": [],
   "source": [
    "df.columns"
   ]
  },
  {
   "cell_type": "code",
   "execution_count": null,
   "metadata": {
    "ExecuteTime": {
     "start_time": "2019-04-24T22:41:15.706Z"
    },
    "hidden": true
   },
   "outputs": [],
   "source": [
    "# Visualizando distribuição de abtest para veículos sem reparo\n",
    "values = df['abtest'].value_counts()\n",
    "labels = values.index\n",
    "plt_bar_plotter(df, values, labels, 'abtest', 'Tipo de Teste x Reparos Pendentes',\n",
    "               'Tipo de Teste', 'Contagem', percent=True, alt_percent=2000, hue='notRepairedDamage')"
   ]
  },
  {
   "cell_type": "markdown",
   "metadata": {
    "hidden": true
   },
   "source": [
    "Há muito mais carros sem reparos pendentes e não há diferença entre este parâmetro com o tipo de teste relacionado."
   ]
  },
  {
   "cell_type": "code",
   "execution_count": null,
   "metadata": {
    "ExecuteTime": {
     "start_time": "2019-04-24T22:41:15.720Z"
    },
    "hidden": true
   },
   "outputs": [],
   "source": [
    "# Deve haver uma relação entre REPAROS PENDENTES e TIPO DE CÂMBIO\n",
    "values = df['gearbox'].value_counts()\n",
    "labels = values.index\n",
    "plt_bar_plotter(df, values, labels, 'gearbox', 'Reparos Pendentes por Tipo de Câmbio',\n",
    "               'Tipo de Câmbio', 'Contagem', percent=True, alt_percent=2000, hue='notRepairedDamage')"
   ]
  },
  {
   "cell_type": "code",
   "execution_count": null,
   "metadata": {
    "ExecuteTime": {
     "start_time": "2019-04-24T22:41:15.732Z"
    },
    "hidden": true
   },
   "outputs": [],
   "source": [
    "# Criando coluna Dia da Semana para verificar distribuição de criação de anúncios\n",
    "df['day_of_week'] = df['dateCreated'].apply(lambda time: time.dayofweek)\n",
    "df.head()"
   ]
  },
  {
   "cell_type": "code",
   "execution_count": null,
   "metadata": {
    "ExecuteTime": {
     "start_time": "2019-04-24T22:41:15.741Z"
    },
    "hidden": true
   },
   "outputs": [],
   "source": [
    "# Mapeando para escrever dia da semana por extenso\n",
    "day_map = {0:'Mon', 1:'Tue', 2:'Wed', 3:'Thu', 4:'Fri', 5:'Sat', 6:'Sun'}\n",
    "df['day_of_week'] = df['day_of_week'].map(day_map)\n",
    "df.head()"
   ]
  },
  {
   "cell_type": "code",
   "execution_count": null,
   "metadata": {
    "ExecuteTime": {
     "start_time": "2019-04-24T22:41:15.750Z"
    },
    "hidden": true
   },
   "outputs": [],
   "source": [
    "# Plotando quantidades de criação de anúncios por dia da semana\n",
    "values = df['day_of_week'].value_counts()\n",
    "labels = list(day_map.values())\n",
    "plt_bar_plotter(df, values, labels, 'day_of_week', 'Criação de Anúncios por Dia da Semana',\n",
    "               'Dia da Semana', 'Contagem', percent=True, alt_percent=2000)"
   ]
  },
  {
   "cell_type": "code",
   "execution_count": null,
   "metadata": {
    "ExecuteTime": {
     "start_time": "2019-04-24T22:41:15.758Z"
    },
    "hidden": true
   },
   "outputs": [],
   "source": [
    "# Talvez é melhor visualizar a proporção por dia da semana em um gráfico de pizza\n",
    "values = df['day_of_week'].value_counts()\n",
    "labels = values.index\n",
    "pie_plotter(df, values, labels, 'Criação de Anúncios por Dia da Semana')"
   ]
  },
  {
   "cell_type": "code",
   "execution_count": null,
   "metadata": {
    "ExecuteTime": {
     "start_time": "2019-04-24T22:41:15.767Z"
    },
    "hidden": true
   },
   "outputs": [],
   "source": [
    "# Plotando quantidades de criação de anúncios por tipo de veículo\n",
    "values = df['vehicleType'].value_counts()\n",
    "labels = values.index\n",
    "plt_bar_plotter(df, values, labels, 'vehicleType', 'Quantidade de Anúncios por Modelo de Veículo',\n",
    "               'Modelo de Veículo', 'Quantidade', percent=True, alt_percent=2000)"
   ]
  },
  {
   "cell_type": "code",
   "execution_count": null,
   "metadata": {
    "ExecuteTime": {
     "start_time": "2019-04-24T22:41:15.776Z"
    },
    "hidden": true
   },
   "outputs": [],
   "source": [
    "# Dados por marca de veículo\n",
    "values = df['brand'].value_counts()\n",
    "labels = values.index\n",
    "plt_bar_plotter(df, values, labels, 'brand', 'Quantidade de Anúncios por Montadora',\n",
    "               'Montadora', 'Quantidade', percent=False, alt_percent=2000, rotation=90)"
   ]
  },
  {
   "cell_type": "code",
   "execution_count": null,
   "metadata": {
    "ExecuteTime": {
     "start_time": "2019-04-24T22:41:15.784Z"
    },
    "hidden": true
   },
   "outputs": [],
   "source": [
    "# Visualizando correlação entre kilometragem e preço\n",
    "sns.jointplot(x='powerPS', y='price', data=df, kind='scatter')"
   ]
  },
  {
   "cell_type": "markdown",
   "metadata": {},
   "source": [
    "# Udemy"
   ]
  },
  {
   "cell_type": "markdown",
   "metadata": {},
   "source": [
    "Análise e exploração de dados provenientes de Datasets oferecidos pelo curso _Python para Data Science e Machine Learning_ da Udemy."
   ]
  },
  {
   "cell_type": "markdown",
   "metadata": {},
   "source": [
    "## Ligações 911: Análise Detalhada"
   ]
  },
  {
   "cell_type": "markdown",
   "metadata": {},
   "source": [
    "Neste conjunto de dados, serão analisadas algumas características de ligações realizadas para 911 nos EUA, ou seja, o telefone único de Emergência do país. As análises serão pautadas pelos atributos contidos no Dataset que serão detalhados no decorrer do código."
   ]
  },
  {
   "cell_type": "markdown",
   "metadata": {
    "heading_collapsed": true
   },
   "source": [
    "### Avaliando os Dados"
   ]
  },
  {
   "cell_type": "code",
   "execution_count": null,
   "metadata": {
    "ExecuteTime": {
     "start_time": "2019-04-24T22:41:15.815Z"
    },
    "hidden": true
   },
   "outputs": [],
   "source": [
    "# Importando bibliotecas e lendo Dataset\n",
    "import pandas as pd\n",
    "import numpy as np\n",
    "\n",
    "df = pd.read_csv('C:/Users/thiagoPanini/Downloads/datasets/911.csv')"
   ]
  },
  {
   "cell_type": "code",
   "execution_count": null,
   "metadata": {
    "ExecuteTime": {
     "start_time": "2019-04-24T22:41:15.825Z"
    },
    "hidden": true
   },
   "outputs": [],
   "source": [
    "type(df)"
   ]
  },
  {
   "cell_type": "code",
   "execution_count": null,
   "metadata": {
    "ExecuteTime": {
     "start_time": "2019-04-24T22:41:15.839Z"
    },
    "hidden": true
   },
   "outputs": [],
   "source": [
    "# Visualizando cabeçalho e conferindo importação\n",
    "df.head()"
   ]
  },
  {
   "cell_type": "code",
   "execution_count": null,
   "metadata": {
    "ExecuteTime": {
     "start_time": "2019-04-24T22:41:15.847Z"
    },
    "hidden": true
   },
   "outputs": [],
   "source": [
    "df.shape"
   ]
  },
  {
   "cell_type": "code",
   "execution_count": null,
   "metadata": {
    "ExecuteTime": {
     "start_time": "2019-04-24T22:41:15.856Z"
    },
    "hidden": true
   },
   "outputs": [],
   "source": [
    "# Quantidade de linhas e colunas do Dataset\n",
    "print(f'O Dataset 911 contém {df.shape[0]} linhas e {df.shape[1]} colunas.')"
   ]
  },
  {
   "cell_type": "markdown",
   "metadata": {
    "hidden": true
   },
   "source": [
    "Seus atributos são descritos por\n",
    "\n",
    "* **_lat_** - Latitude do local da ligação;\n",
    "* **_lng_** - Longitude do local da ligação;\n",
    "* **_desc_** - Indica ponto de referência do local da ocorrência;\n",
    "* **_zip_** - CEP do local da ocorrência;\n",
    "* **_title_** - Indica o motivo principal da ocorrência;\n",
    "* **_timeStamp_** - Hora do registro da ocorrência;\n",
    "* **_twp_** - Cidade da ocorrência;\n",
    "* **_addr_** - Endereço da ocorrência;\n",
    "* **_e_** - Variável dummy"
   ]
  },
  {
   "cell_type": "code",
   "execution_count": null,
   "metadata": {
    "ExecuteTime": {
     "start_time": "2019-04-24T22:41:15.872Z"
    },
    "hidden": true
   },
   "outputs": [],
   "source": [
    "df.isnull().sum()"
   ]
  },
  {
   "cell_type": "code",
   "execution_count": null,
   "metadata": {
    "ExecuteTime": {
     "start_time": "2019-04-24T22:41:15.882Z"
    },
    "hidden": true
   },
   "outputs": [],
   "source": [
    "# Função para verificar dados nulos e dados duplicados\n",
    "def null_duplicated(df):\n",
    "    null_bool = df.isnull().values.any()\n",
    "    null_sum = df.isnull().values.sum()\n",
    "    dup_bool = df.duplicated().any()\n",
    "    dup_sum = df.duplicated().sum()\n",
    "    return null_bool, null_sum, dup_bool, dup_sum\n",
    "\n",
    "n, n_sum, d, d_sum = null_duplicated(df)\n",
    "print(f'Há dados nulos? {n}')\n",
    "print(f'Quantos dados nulos existem? {n_sum}')\n",
    "print()\n",
    "print(f'Há dados duplicados? {d}')\n",
    "print(f'Quantos dados duplicados existem? {d_sum}')"
   ]
  },
  {
   "cell_type": "code",
   "execution_count": null,
   "metadata": {
    "ExecuteTime": {
     "start_time": "2019-04-24T22:41:15.892Z"
    },
    "hidden": true
   },
   "outputs": [],
   "source": [
    "# Verificando a fundo dados nulos\n",
    "df.isnull().sum()"
   ]
  },
  {
   "cell_type": "markdown",
   "metadata": {
    "hidden": true
   },
   "source": [
    "Embora tenhamos dados duplicados em quantidades razoáveis em algumas colunas, como trata-se de um Dataset com informações sobre ocorrências policiais, pode-se dizer que a grande maioria dos dados são úteis de alguma forma e merecem serem estudados. Não será deletado nenhum dado missing do Dataset."
   ]
  },
  {
   "cell_type": "code",
   "execution_count": null,
   "metadata": {
    "ExecuteTime": {
     "start_time": "2019-04-24T22:41:15.904Z"
    },
    "hidden": true
   },
   "outputs": [],
   "source": [
    "# Tipos primitivos\n",
    "df.dtypes"
   ]
  },
  {
   "cell_type": "code",
   "execution_count": null,
   "metadata": {
    "ExecuteTime": {
     "start_time": "2019-04-24T22:41:15.915Z"
    },
    "hidden": true
   },
   "outputs": [],
   "source": [
    "# A coluna 'title' contém uma informação útil\n",
    "df['title'].head(7)"
   ]
  },
  {
   "cell_type": "markdown",
   "metadata": {
    "hidden": true
   },
   "source": [
    "Principais alterações a serem realizadas na sessão de _Preparação dos Dados_:\n",
    "* **_timeStamp_** - Alterar tipo de dados do atributo para timestamp e criar novas colunas no df para dia/mês/ano;\n",
    "* **_title_** - Coletar dados da ocorrência (descrição antes dos dois pontos \":\") e criar uma nova coluna no df;\n",
    "* **_desc_** - Verificar se é possível coletar a hora exata da ocorrência através do atributo \"desc\"."
   ]
  },
  {
   "cell_type": "markdown",
   "metadata": {
    "heading_collapsed": true
   },
   "source": [
    "### Preparando os Dados"
   ]
  },
  {
   "cell_type": "markdown",
   "metadata": {
    "hidden": true
   },
   "source": [
    "* **_Realizando transformações no atributo \"timeStamp\"_**"
   ]
  },
  {
   "cell_type": "code",
   "execution_count": null,
   "metadata": {
    "ExecuteTime": {
     "start_time": "2019-04-24T22:41:15.940Z"
    },
    "hidden": true
   },
   "outputs": [],
   "source": [
    "# Importando bibliotecas e lendo Dataset\n",
    "import pandas as pd\n",
    "import numpy as np\n",
    "\n",
    "df = pd.read_csv('C:/Users/thiagoPanini/Downloads/datasets/911.csv')\n",
    "df.head()"
   ]
  },
  {
   "cell_type": "code",
   "execution_count": null,
   "metadata": {
    "ExecuteTime": {
     "start_time": "2019-04-24T22:41:15.949Z"
    },
    "hidden": true
   },
   "outputs": [],
   "source": [
    "# Transformando tipo primitivo da coluna timeStamp\n",
    "df['timeStamp'].head()"
   ]
  },
  {
   "cell_type": "code",
   "execution_count": null,
   "metadata": {
    "ExecuteTime": {
     "start_time": "2019-04-24T22:41:15.960Z"
    },
    "hidden": true
   },
   "outputs": [],
   "source": [
    "# Verificando tipo\n",
    "type(df['timeStamp'][0])"
   ]
  },
  {
   "cell_type": "code",
   "execution_count": null,
   "metadata": {
    "ExecuteTime": {
     "start_time": "2019-04-24T22:41:15.968Z"
    },
    "hidden": true
   },
   "outputs": [],
   "source": [
    "# Mudando tipo\n",
    "df['timeStamp'] = pd.to_datetime(df['timeStamp'])\n",
    "df.dtypes"
   ]
  },
  {
   "cell_type": "markdown",
   "metadata": {
    "hidden": true
   },
   "source": [
    "Agora é possível aprimorar o DataFrame através da criação de novas **colunas** representando _Dia, Hora e Mês_ da ocorrência."
   ]
  },
  {
   "cell_type": "code",
   "execution_count": null,
   "metadata": {
    "ExecuteTime": {
     "start_time": "2019-04-24T22:41:15.981Z"
    },
    "hidden": true
   },
   "outputs": [],
   "source": [
    "# Verificando\n",
    "time = df['timeStamp'][0]\n",
    "time"
   ]
  },
  {
   "cell_type": "code",
   "execution_count": null,
   "metadata": {
    "ExecuteTime": {
     "start_time": "2019-04-24T22:41:15.992Z"
    },
    "hidden": true
   },
   "outputs": [],
   "source": [
    "time.hour"
   ]
  },
  {
   "cell_type": "code",
   "execution_count": null,
   "metadata": {
    "ExecuteTime": {
     "start_time": "2019-04-24T22:41:16.000Z"
    },
    "hidden": true
   },
   "outputs": [],
   "source": [
    "time.day"
   ]
  },
  {
   "cell_type": "code",
   "execution_count": null,
   "metadata": {
    "ExecuteTime": {
     "start_time": "2019-04-24T22:41:16.012Z"
    },
    "hidden": true
   },
   "outputs": [],
   "source": [
    "time.year"
   ]
  },
  {
   "cell_type": "code",
   "execution_count": null,
   "metadata": {
    "ExecuteTime": {
     "start_time": "2019-04-24T22:41:16.024Z"
    },
    "hidden": true
   },
   "outputs": [],
   "source": [
    "time.dayofweek"
   ]
  },
  {
   "cell_type": "code",
   "execution_count": null,
   "metadata": {
    "ExecuteTime": {
     "start_time": "2019-04-24T22:41:16.041Z"
    },
    "hidden": true
   },
   "outputs": [],
   "source": [
    "# Criando função para criação de novas colunas\n",
    "def data_columns(df):\n",
    "    df['day'] = df['timeStamp'].apply(lambda time: time.day)\n",
    "    df['month'] = df['timeStamp'].apply(lambda time: time.month)\n",
    "    df['year'] = df['timeStamp'].apply(lambda time: time.year)\n",
    "    df['day_of_week'] = df['timeStamp'].apply(lambda time: time.dayofweek)\n",
    "    df['hour'] = df['timeStamp'].apply(lambda time: time.hour)\n",
    "\n",
    "# Chamando função\n",
    "data_columns(df)\n",
    "\n",
    "# Verificando resultado\n",
    "df.head()"
   ]
  },
  {
   "cell_type": "markdown",
   "metadata": {
    "hidden": true
   },
   "source": [
    "A sequência de dias da semana mostrada pela coluna **day_of_week** segue a regra:\n",
    "\n",
    "* 0 - Segunda\n",
    "* 1 - Terça\n",
    "* 2 - Quarta\n",
    "* 3 - Quinta\n",
    "* 4 - Sexta\n",
    "* 5 - Sábado\n",
    "* 6 - Domingo"
   ]
  },
  {
   "cell_type": "code",
   "execution_count": null,
   "metadata": {
    "ExecuteTime": {
     "start_time": "2019-04-24T22:41:16.056Z"
    },
    "hidden": true
   },
   "outputs": [],
   "source": [
    "# Mapeando coluna day_of_week para mostrar o dia da semana por extenso\n",
    "day_map = {0:'Mon', 1:'Tue', 2:'Wed', 3:'Thu', 4:'Fri', 5:'Sat', 6:'Sun'}\n",
    "df['day_of_week'] = df['day_of_week'].map(day_map)\n",
    "df.head()"
   ]
  },
  {
   "cell_type": "markdown",
   "metadata": {
    "hidden": true
   },
   "source": [
    "* **_Extraindo informações do atributo \"title\"_**"
   ]
  },
  {
   "cell_type": "code",
   "execution_count": null,
   "metadata": {
    "ExecuteTime": {
     "start_time": "2019-04-24T22:41:16.071Z"
    },
    "hidden": true
   },
   "outputs": [],
   "source": [
    "# Testando\n",
    "df['title'][0]"
   ]
  },
  {
   "cell_type": "code",
   "execution_count": null,
   "metadata": {
    "ExecuteTime": {
     "start_time": "2019-04-24T22:41:16.079Z"
    },
    "hidden": true
   },
   "outputs": [],
   "source": [
    "df['title'][0][:3]"
   ]
  },
  {
   "cell_type": "code",
   "execution_count": null,
   "metadata": {
    "ExecuteTime": {
     "start_time": "2019-04-24T22:41:16.088Z"
    },
    "hidden": true
   },
   "outputs": [],
   "source": [
    "df['title'][0].split(':')"
   ]
  },
  {
   "cell_type": "code",
   "execution_count": null,
   "metadata": {
    "ExecuteTime": {
     "start_time": "2019-04-24T22:41:16.097Z"
    },
    "hidden": true
   },
   "outputs": [],
   "source": [
    "df['title'][0].split(':')[0]"
   ]
  },
  {
   "cell_type": "code",
   "execution_count": null,
   "metadata": {
    "ExecuteTime": {
     "start_time": "2019-04-24T22:41:16.107Z"
    },
    "hidden": true
   },
   "outputs": [],
   "source": [
    "df['title'].apply(lambda x: x.split(':')[0]).value_counts()"
   ]
  },
  {
   "cell_type": "code",
   "execution_count": null,
   "metadata": {
    "ExecuteTime": {
     "start_time": "2019-04-24T22:41:16.119Z"
    },
    "hidden": true
   },
   "outputs": [],
   "source": [
    "# Criando função para splitar\n",
    "def split_create_column(df, column, delimit, new_column, item=0):\n",
    "    df[new_column] = df[column].apply(lambda x: x.split(delimit)[item])\n",
    "\n",
    "# Chamando função\n",
    "split_create_column(df, 'title', ':', 'reason')\n",
    "df.head(16)"
   ]
  },
  {
   "cell_type": "code",
   "execution_count": null,
   "metadata": {
    "ExecuteTime": {
     "start_time": "2019-04-24T22:41:16.128Z"
    },
    "hidden": true
   },
   "outputs": [],
   "source": [
    "# Verificnado (valores tem que bater com o exposto duas células acima)\n",
    "df['reason'].value_counts() == df['title'].apply(lambda x: x.split(':')[0]).value_counts()"
   ]
  },
  {
   "cell_type": "markdown",
   "metadata": {
    "hidden": true
   },
   "source": [
    "* **_Verificando se é possível extrair a hora EXATA da ocorrência através do atributo \"desc\"\"_**"
   ]
  },
  {
   "cell_type": "code",
   "execution_count": null,
   "metadata": {
    "ExecuteTime": {
     "start_time": "2019-04-24T22:41:16.142Z"
    },
    "hidden": true
   },
   "outputs": [],
   "source": [
    "# Verificando\n",
    "for desc in df['desc'].head():\n",
    "    print(desc.split('@')[1].strip().split('-')[0].split(';')[0])"
   ]
  },
  {
   "cell_type": "code",
   "execution_count": null,
   "metadata": {
    "ExecuteTime": {
     "start_time": "2019-04-24T22:41:16.150Z"
    },
    "hidden": true
   },
   "outputs": [],
   "source": [
    "# Parece que sim, criando nova coluna\n",
    "df['ocurr_time'] = df['desc'].apply(lambda x: x.split('@')[1].strip().split('-')[0].split(';')[0])\n",
    "df.head()"
   ]
  },
  {
   "cell_type": "code",
   "execution_count": null,
   "metadata": {
    "ExecuteTime": {
     "start_time": "2019-04-24T22:41:16.159Z"
    },
    "hidden": true
   },
   "outputs": [],
   "source": [
    "# Verificando se está tudo OK\n",
    "df['ocurr_time'].head()"
   ]
  },
  {
   "cell_type": "code",
   "execution_count": null,
   "metadata": {
    "ExecuteTime": {
     "start_time": "2019-04-24T22:41:16.168Z"
    },
    "hidden": true
   },
   "outputs": [],
   "source": [
    "df['ocurr_time'].value_counts()"
   ]
  },
  {
   "cell_type": "code",
   "execution_count": null,
   "metadata": {
    "ExecuteTime": {
     "start_time": "2019-04-24T22:41:16.177Z"
    },
    "hidden": true
   },
   "outputs": [],
   "source": [
    "# Salvando alterações no Dataset\n",
    "df.to_csv('C:/Users/thiagoPanini/Downloads/datasets/911-edited.csv')"
   ]
  },
  {
   "cell_type": "markdown",
   "metadata": {},
   "source": [
    "### Exploração Gráfica"
   ]
  },
  {
   "cell_type": "markdown",
   "metadata": {},
   "source": [
    "* **_Quantidade de Ocorrências por Tipo_**"
   ]
  },
  {
   "cell_type": "code",
   "execution_count": null,
   "metadata": {
    "ExecuteTime": {
     "start_time": "2019-04-24T22:41:16.195Z"
    }
   },
   "outputs": [],
   "source": [
    "# Imprimindo bibliotecas\n",
    "import matplotlib.pyplot as plt\n",
    "import seaborn as sns\n",
    "%matplotlib inline"
   ]
  },
  {
   "cell_type": "code",
   "execution_count": null,
   "metadata": {
    "ExecuteTime": {
     "start_time": "2019-04-24T22:41:16.203Z"
    }
   },
   "outputs": [],
   "source": [
    "# Definindo função para gráfico de pizza\n",
    "def pie_plotter(df, values, labels, title):\n",
    "\n",
    "    # Criando figure e eixo\n",
    "    fig, ax = plt.subplots(figsize=(7, 7))\n",
    "\n",
    "    # Customizando parâmetros colorimétricos\n",
    "    cmap = plt.get_cmap('Spectral')\n",
    "    colors = [cmap(i) for i in np.linspace(0, 1, len(labels)*2)]\n",
    "\n",
    "    # Plotando gráfico\n",
    "    wedge, texts, autotexts = ax.pie(values, labels=labels, startangle=90, colors=colors, autopct='%1.1f%%',\n",
    "                                    wedgeprops={'linewidth':1.75, 'edgecolor':'black'})\n",
    "\n",
    "    # Customizando parâmetros gráficos\n",
    "    plt.title(title, fontsize=19, weight='bold')\n",
    "    plt.legend(bbox_to_anchor = (0.95,0.90), fontsize=13)\n",
    "    plt.setp(autotexts, color='black', fontsize=15)\n",
    "    plt.setp(texts, fontsize=15)\n",
    "    plt.show()"
   ]
  },
  {
   "cell_type": "code",
   "execution_count": null,
   "metadata": {
    "ExecuteTime": {
     "start_time": "2019-04-24T22:41:16.214Z"
    }
   },
   "outputs": [],
   "source": [
    "# Verificando valores\n",
    "values = df['reason'].value_counts()\n",
    "values"
   ]
  },
  {
   "cell_type": "code",
   "execution_count": null,
   "metadata": {
    "ExecuteTime": {
     "start_time": "2019-04-24T22:41:16.225Z"
    }
   },
   "outputs": [],
   "source": [
    "# Verificando índices\n",
    "labels = values.index\n",
    "labels"
   ]
  },
  {
   "cell_type": "code",
   "execution_count": null,
   "metadata": {
    "ExecuteTime": {
     "start_time": "2019-04-24T22:41:16.234Z"
    }
   },
   "outputs": [],
   "source": [
    "# Chamando função\n",
    "pie_plotter(df, values, labels, 'Proporção de Ocorrências por Departamento')"
   ]
  },
  {
   "cell_type": "code",
   "execution_count": null,
   "metadata": {
    "ExecuteTime": {
     "start_time": "2019-04-24T22:41:16.243Z"
    }
   },
   "outputs": [],
   "source": [
    "# Definindo função para plotagem em forma de barras\n",
    "def sns_bar_plotter(df, values, labels, title, xlabel, ylabel):\n",
    "    # Utilizando seaborn \n",
    "    sns.set(style='whitegrid')\n",
    "    fig, ax = plt.subplots(figsize=(9, 6))\n",
    "    \n",
    "    # Plotando gráfico\n",
    "    sns.barplot(x=values.values, y=labels, palette='viridis')\n",
    "    plt.title(title, fontsize=17)\n",
    "    ax.set_xlabel(xlabel, fontsize=14, labelpad=20)\n",
    "    ax.set_ylabel(ylabel, fontsize=14, labelpad=15)\n",
    "    plt.show()"
   ]
  },
  {
   "cell_type": "code",
   "execution_count": null,
   "metadata": {
    "ExecuteTime": {
     "start_time": "2019-04-24T22:41:16.253Z"
    }
   },
   "outputs": [],
   "source": [
    "# Definindo valores\n",
    "values = df['reason'].value_counts()\n",
    "labels = values.index\n",
    "title = 'Quantidade de Ocorrências por Departamento'\n",
    "xlabel = 'Departamento'\n",
    "ylabel = 'Quantidade'\n",
    "\n",
    "sns_bar_plotter(df, values, labels, title, xlabel, ylabel)"
   ]
  },
  {
   "cell_type": "code",
   "execution_count": null,
   "metadata": {
    "ExecuteTime": {
     "start_time": "2019-04-24T22:41:16.261Z"
    }
   },
   "outputs": [],
   "source": [
    "# Definindo função para gráfico de barras com matplotlib\n",
    "def plt_bar_plotter(df, values, labels, col, title, xlabel, ylabel, hue='', percent=False):\n",
    "    \n",
    "    # Definindo parâmetros\n",
    "    ind = np.arange(len(labels))\n",
    "    width = .35\n",
    "    sns.set_style('darkgrid')\n",
    "    sns.set_context('talk')\n",
    "    \n",
    "    # Criando figures e axes\n",
    "    fig, ax = plt.subplots(figsize=(8, 6))\n",
    "    if hue == '':\n",
    "        sns.countplot(x=col, data=df, palette='viridis', saturation=.8, linewidth=1.5, \n",
    "                      edgecolor='black')\n",
    "    else:\n",
    "        sns.countplot(x=col, data=df, hue=hue, palette='viridis', saturation=.8, linewidth=1.5, \n",
    "                      edgecolor='black')\n",
    "    plt.title(title, fontsize=19, weight='bold')\n",
    "    plt.ylabel(ylabel, fontsize=15, labelpad=20)\n",
    "    plt.xlabel(xlabel, fontsize=15, labelpad=11)\n",
    "    #plt.ylim(0, values.max()+values.max()*0.15)\n",
    "    \n",
    "    # Mostra percentual nas barras\n",
    "    if percent:\n",
    "        soma = values.sum()\n",
    "        for p in ax.patches:\n",
    "            width, height = p.get_width(), p.get_height()\n",
    "            x, y = p.get_xy() \n",
    "            ax.annotate('{:.1%}'.format(height/soma), (p.get_x()+.32*width, p.get_y() + height - 5000.0), \n",
    "                        color='w', weight='bold')\n",
    "    if hue != '':\n",
    "        plt.legend(bbox_to_anchor=(1.05, 1), loc=2, borderaxespad=0.)"
   ]
  },
  {
   "cell_type": "code",
   "execution_count": null,
   "metadata": {
    "ExecuteTime": {
     "start_time": "2019-04-24T22:41:16.270Z"
    }
   },
   "outputs": [],
   "source": [
    "# Plotando quantidade total de ocorrências por departamento\n",
    "values = df['reason'].value_counts()\n",
    "labels = values.index\n",
    "plt_bar_plotter(df, values, labels, 'reason', \n",
    "                'Contagem de Ocorrências por Departamento', 'Departamento', 'Quantidade', percent=True)"
   ]
  },
  {
   "cell_type": "markdown",
   "metadata": {},
   "source": [
    "* **_Considerando também o Dia da Semana_**"
   ]
  },
  {
   "cell_type": "code",
   "execution_count": null,
   "metadata": {
    "ExecuteTime": {
     "start_time": "2019-04-24T22:41:16.283Z"
    }
   },
   "outputs": [],
   "source": [
    "# Totalizando contagem por dia da semana\n",
    "values = df['day_of_week'].value_counts()\n",
    "labels = values.index\n",
    "\n",
    "# Plotando com hue = 'reason'\n",
    "plt_bar_plotter(df, values, labels, 'day_of_week',\n",
    "                'Contagem de Ocorrências por Dia da Semana', 'Dia da Semana', 'Quantidade', \n",
    "                hue='reason', percent=False)"
   ]
  },
  {
   "cell_type": "code",
   "execution_count": null,
   "metadata": {
    "ExecuteTime": {
     "start_time": "2019-04-24T22:41:16.293Z"
    }
   },
   "outputs": [],
   "source": [
    "# Preparando DataFrame para plotagem de mapa de calor (dia da semana / hora)\n",
    "day_hour = df.groupby(['day_of_week', 'hour']).count()['lat'].unstack()\n",
    "day_hour"
   ]
  },
  {
   "cell_type": "code",
   "execution_count": null,
   "metadata": {
    "ExecuteTime": {
     "start_time": "2019-04-24T22:41:16.301Z"
    }
   },
   "outputs": [],
   "source": [
    "# Também poderia ser feito com o crosstab\n",
    "day_hour = pd.crosstab(df['day_of_week'], df['hour'])\n",
    "day_hour"
   ]
  },
  {
   "cell_type": "code",
   "execution_count": null,
   "metadata": {
    "ExecuteTime": {
     "start_time": "2019-04-24T22:41:16.310Z"
    }
   },
   "outputs": [],
   "source": [
    "# Mapa de calor para ocorrências por dia da semana e hora\n",
    "plt.figure(figsize=(12,6))\n",
    "sns.heatmap(day_hour, cmap='viridis')\n",
    "\n",
    "# Configurando gráfico\n",
    "plt.title('Ocorrências por Hora e Dia da Semana', fontsize=19)\n",
    "plt.xlabel('Hora', fontsize=15, labelpad=10)\n",
    "plt.ylabel('Dia da Semana', fontsize=15, labelpad=10)\n",
    "\n",
    "plt.show()"
   ]
  },
  {
   "cell_type": "markdown",
   "metadata": {},
   "source": [
    "* **_Considerando também o histórico de ocorrências ao longo do tempo_**"
   ]
  },
  {
   "cell_type": "code",
   "execution_count": null,
   "metadata": {
    "ExecuteTime": {
     "start_time": "2019-04-24T22:41:16.326Z"
    }
   },
   "outputs": [],
   "source": [
    "# Avaliando agrupando mensal\n",
    "df['year'].value_counts()"
   ]
  },
  {
   "cell_type": "code",
   "execution_count": null,
   "metadata": {
    "ExecuteTime": {
     "start_time": "2019-04-24T22:41:16.336Z"
    }
   },
   "outputs": [],
   "source": [
    "# Filtrando dados de 2016\n",
    "data_grouped = df.groupby(['month', 'year']).count()[:-1]['lat']\n",
    "data_grouped"
   ]
  },
  {
   "cell_type": "code",
   "execution_count": null,
   "metadata": {
    "ExecuteTime": {
     "start_time": "2019-04-24T22:41:16.347Z"
    }
   },
   "outputs": [],
   "source": [
    "# Configurando figures e axes\n",
    "fig, ax = plt.subplots(figsize=(10, 5))\n",
    "ind = np.arange(len(data_grouped.index))\n",
    "\n",
    "# Plotando e configurando gráfico de linha\n",
    "sns.set_style('whitegrid')\n",
    "data_grouped.plot()\n",
    "plt.title('Ocorrências registradas em 2016', fontsize=19, weight='bold')\n",
    "plt.xlabel('Meses', fontsize=15, labelpad=10)\n",
    "plt.xticks(ind, np.arange(1, 9))\n",
    "plt.ylabel('Ocorrências', fontsize=15, labelpad=10)\n",
    "\n",
    "plt.show()"
   ]
  },
  {
   "cell_type": "code",
   "execution_count": null,
   "metadata": {},
   "outputs": [],
   "source": []
  }
 ],
 "metadata": {
  "kernelspec": {
   "display_name": "Python 3",
   "language": "python",
   "name": "python3"
  },
  "language_info": {
   "codemirror_mode": {
    "name": "ipython",
    "version": 3
   },
   "file_extension": ".py",
   "mimetype": "text/x-python",
   "name": "python",
   "nbconvert_exporter": "python",
   "pygments_lexer": "ipython3",
   "version": "3.6.4"
  },
  "toc": {
   "base_numbering": 1,
   "nav_menu": {},
   "number_sections": true,
   "sideBar": true,
   "skip_h1_title": false,
   "title_cell": "Table of Contents",
   "title_sidebar": "Contents",
   "toc_cell": false,
   "toc_position": {
    "height": "680px",
    "left": "1417px",
    "top": "111px",
    "width": "436px"
   },
   "toc_section_display": true,
   "toc_window_display": true
  }
 },
 "nbformat": 4,
 "nbformat_minor": 2
}
