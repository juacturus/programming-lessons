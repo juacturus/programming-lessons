{
 "cells": [
  {
   "cell_type": "markdown",
   "metadata": {
    "toc": true
   },
   "source": [
    "<h1>Table of Contents<span class=\"tocSkip\"></span></h1>\n",
    "<div class=\"toc\"><ul class=\"toc-item\"><li><span><a href=\"#Exercício-Computacional-4---Agrupamento-(Clusterização)\" data-toc-modified-id=\"Exercício-Computacional-4---Agrupamento-(Clusterização)-1\"><span class=\"toc-item-num\">1&nbsp;&nbsp;</span>Exercício Computacional 4 - Agrupamento (Clusterização)</a></span><ul class=\"toc-item\"><li><span><a href=\"#Identificação-do-Aluno\" data-toc-modified-id=\"Identificação-do-Aluno-1.1\"><span class=\"toc-item-num\">1.1&nbsp;&nbsp;</span>Identificação do Aluno</a></span><ul class=\"toc-item\"><li><span><a href=\"#Nome-Completo\" data-toc-modified-id=\"Nome-Completo-1.1.1\"><span class=\"toc-item-num\">1.1.1&nbsp;&nbsp;</span>Nome Completo</a></span></li><li><span><a href=\"#RA\" data-toc-modified-id=\"RA-1.1.2\"><span class=\"toc-item-num\">1.1.2&nbsp;&nbsp;</span>RA</a></span></li></ul></li></ul></li><li><span><a href=\"#Instruções\" data-toc-modified-id=\"Instruções-2\"><span class=\"toc-item-num\">2&nbsp;&nbsp;</span>Instruções</a></span><ul class=\"toc-item\"><li><span><a href=\"#Dataset\" data-toc-modified-id=\"Dataset-2.1\"><span class=\"toc-item-num\">2.1&nbsp;&nbsp;</span>Dataset</a></span><ul class=\"toc-item\"><li><span><a href=\"#Nome-do-Dataset\" data-toc-modified-id=\"Nome-do-Dataset-2.1.1\"><span class=\"toc-item-num\">2.1.1&nbsp;&nbsp;</span>Nome do Dataset</a></span></li><li><span><a href=\"#Características-do-Dataset\" data-toc-modified-id=\"Características-do-Dataset-2.1.2\"><span class=\"toc-item-num\">2.1.2&nbsp;&nbsp;</span>Características do Dataset</a></span></li><li><span><a href=\"#Fonte-do-Dataset\" data-toc-modified-id=\"Fonte-do-Dataset-2.1.3\"><span class=\"toc-item-num\">2.1.3&nbsp;&nbsp;</span>Fonte do Dataset</a></span></li></ul></li><li><span><a href=\"#Objetivos\" data-toc-modified-id=\"Objetivos-2.2\"><span class=\"toc-item-num\">2.2&nbsp;&nbsp;</span>Objetivos</a></span></li></ul></li><li><span><a href=\"#Desenvolvimento\" data-toc-modified-id=\"Desenvolvimento-3\"><span class=\"toc-item-num\">3&nbsp;&nbsp;</span>Desenvolvimento</a></span></li><li><span><a href=\"#Discussão-sobre-os-resultados\" data-toc-modified-id=\"Discussão-sobre-os-resultados-4\"><span class=\"toc-item-num\">4&nbsp;&nbsp;</span>Discussão sobre os resultados</a></span></li></ul></div>"
   ]
  },
  {
   "cell_type": "markdown",
   "metadata": {},
   "source": [
    "# Sistemas Inteligentes\n",
    "\n",
    "## Exercício Computacional 4 - Agrupamento (Clusterização)"
   ]
  },
  {
   "cell_type": "markdown",
   "metadata": {},
   "source": [
    "### Identificação do Aluno"
   ]
  },
  {
   "cell_type": "markdown",
   "metadata": {},
   "source": [
    "#### Nome Completo"
   ]
  },
  {
   "cell_type": "markdown",
   "metadata": {},
   "source": [
    "ESCREVA AQUI A SUA RESPOSTA"
   ]
  },
  {
   "cell_type": "markdown",
   "metadata": {},
   "source": [
    "#### RA"
   ]
  },
  {
   "cell_type": "markdown",
   "metadata": {},
   "source": [
    "ESCREVA AQUI A SUA RESPOSTA"
   ]
  },
  {
   "cell_type": "markdown",
   "metadata": {},
   "source": [
    "## Instruções"
   ]
  },
  {
   "cell_type": "markdown",
   "metadata": {},
   "source": [
    "1. Escolha um dataset, identifique-o e mostre suas características, então indique quais são os seus objetivos com esse dataset (no campo correspondente).\n",
    "\n",
    "2. Com o dataset já importado para o notebook, faça os pré-processamentos que julgar necessários e, se for conveniente, efetue uma redução de dimensionalidade utilizando um método compatível com seus dados.\n",
    "\n",
    "3. Utilize ao menos um método de Cross-Validation de sua preferência.\n",
    "\n",
    "4. Escolha dois métodos de agrupamento (clusterização) para realizar abordagens distintas, então aplique-os ao dataset para chegar ao objetivo indicado por você no próprio notebook.\n",
    "\n",
    "5. Utilize células intermediárias de tipo _Markdown_ para explicar o que é feito em cada célula de código. Mas não deixe de utilizar comentários breves e pertinentes dentro do próprio código. Isto significa que o desenvolvimento NÃO deve ser feito em uma única célula.\n",
    "\n",
    "6. Sempre que for cabível, exiba as figuras, os gráficos, os valores (ao menos parte deles) etc., mas procure sempre manter um capricho em todas as saídas.\n",
    "\n",
    "7. Ao final, comente da forma mais completa possível os resultados obtidos, sempre sugerindo o que poderia ser feito para melhorá-los e fornecendo elementos que contribuam para a sua compreensão.\n",
    "\n",
    "8. Respeitem as regras gramaticais e procurem manter coesão, coerência e fluidez em seus textos.\n",
    "\n",
    "9. Apesar de a análise dos resultados ser mais importante do que o código em si, serão analisados critérios como organização e clareza do código, então evitem códigos \"poluídos\" e confusos."
   ]
  },
  {
   "cell_type": "markdown",
   "metadata": {},
   "source": [
    "### Dataset"
   ]
  },
  {
   "cell_type": "markdown",
   "metadata": {},
   "source": [
    "#### Nome do Dataset"
   ]
  },
  {
   "cell_type": "markdown",
   "metadata": {},
   "source": [
    "ESCREVA AQUI"
   ]
  },
  {
   "cell_type": "markdown",
   "metadata": {},
   "source": [
    "#### Características do Dataset"
   ]
  },
  {
   "cell_type": "markdown",
   "metadata": {},
   "source": [
    "ESCREVA AQUI"
   ]
  },
  {
   "cell_type": "markdown",
   "metadata": {},
   "source": [
    "#### Fonte do Dataset"
   ]
  },
  {
   "cell_type": "markdown",
   "metadata": {},
   "source": [
    "ESCREVA AQUI"
   ]
  },
  {
   "cell_type": "markdown",
   "metadata": {},
   "source": [
    "### Objetivos"
   ]
  },
  {
   "cell_type": "markdown",
   "metadata": {},
   "source": [
    "ESCREVA AQUI"
   ]
  },
  {
   "cell_type": "markdown",
   "metadata": {},
   "source": [
    "## Desenvolvimento"
   ]
  },
  {
   "cell_type": "code",
   "execution_count": null,
   "metadata": {},
   "outputs": [],
   "source": [
    "### CÓDIGO ###"
   ]
  },
  {
   "cell_type": "markdown",
   "metadata": {},
   "source": [
    "## Discussão sobre os resultados"
   ]
  },
  {
   "cell_type": "markdown",
   "metadata": {},
   "source": [
    "ESCREVA AQUI"
   ]
  }
 ],
 "metadata": {
  "kernelspec": {
   "display_name": "Python 3",
   "language": "python",
   "name": "python3"
  },
  "language_info": {
   "codemirror_mode": {
    "name": "ipython",
    "version": 3
   },
   "file_extension": ".py",
   "mimetype": "text/x-python",
   "name": "python",
   "nbconvert_exporter": "python",
   "pygments_lexer": "ipython3",
   "version": "3.6.4"
  },
  "toc": {
   "base_numbering": 1,
   "nav_menu": {},
   "number_sections": true,
   "sideBar": true,
   "skip_h1_title": true,
   "title_cell": "Table of Contents",
   "title_sidebar": "Contents",
   "toc_cell": true,
   "toc_position": {},
   "toc_section_display": true,
   "toc_window_display": false
  }
 },
 "nbformat": 4,
 "nbformat_minor": 2
}
