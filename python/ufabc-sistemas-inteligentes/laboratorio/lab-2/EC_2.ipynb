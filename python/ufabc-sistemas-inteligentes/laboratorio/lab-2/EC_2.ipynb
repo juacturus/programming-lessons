{
 "cells": [
  {
   "cell_type": "markdown",
   "metadata": {
    "toc": true
   },
   "source": [
    "<h1>Table of Contents<span class=\"tocSkip\"></span></h1>\n",
    "<div class=\"toc\"><ul class=\"toc-item\"><li><span><a href=\"#Sistemas-Inteligentes\" data-toc-modified-id=\"Sistemas-Inteligentes-1\"><span class=\"toc-item-num\">1&nbsp;&nbsp;</span>Sistemas Inteligentes</a></span><ul class=\"toc-item\"><li><span><a href=\"#Exercício-Computacional-2---Classificação\" data-toc-modified-id=\"Exercício-Computacional-2---Classificação-1.1\"><span class=\"toc-item-num\">1.1&nbsp;&nbsp;</span>Exercício Computacional 2 - Classificação</a></span><ul class=\"toc-item\"><li><span><a href=\"#Identificação-do-Aluno\" data-toc-modified-id=\"Identificação-do-Aluno-1.1.1\"><span class=\"toc-item-num\">1.1.1&nbsp;&nbsp;</span>Identificação do Aluno</a></span><ul class=\"toc-item\"><li><span><a href=\"#Nome-Completo\" data-toc-modified-id=\"Nome-Completo-1.1.1.1\"><span class=\"toc-item-num\">1.1.1.1&nbsp;&nbsp;</span>Nome Completo</a></span></li><li><span><a href=\"#RA\" data-toc-modified-id=\"RA-1.1.1.2\"><span class=\"toc-item-num\">1.1.1.2&nbsp;&nbsp;</span>RA</a></span></li></ul></li><li><span><a href=\"#Instruções\" data-toc-modified-id=\"Instruções-1.1.2\"><span class=\"toc-item-num\">1.1.2&nbsp;&nbsp;</span>Instruções</a></span></li></ul></li><li><span><a href=\"#Desenvolvimento\" data-toc-modified-id=\"Desenvolvimento-1.2\"><span class=\"toc-item-num\">1.2&nbsp;&nbsp;</span>Desenvolvimento</a></span></li><li><span><a href=\"#Questões\" data-toc-modified-id=\"Questões-1.3\"><span class=\"toc-item-num\">1.3&nbsp;&nbsp;</span>Questões</a></span><ul class=\"toc-item\"><li><span><a href=\"#1.-O-classificador-escolhido-por-você-obteve-um-bom-desempenho-em-sua-opinião?-Por-que?\" data-toc-modified-id=\"1.-O-classificador-escolhido-por-você-obteve-um-bom-desempenho-em-sua-opinião?-Por-que?-1.3.1\"><span class=\"toc-item-num\">1.3.1&nbsp;&nbsp;</span>1. O classificador escolhido por você obteve um bom desempenho em sua opinião? Por que?</a></span></li><li><span><a href=\"#2.-Além-da-acurácia-e-da-matriz-de-confusão,-quais-métricas-e-recursos-poderiam-ser-utilizados-para-avaliar-o-seu-classificador?\" data-toc-modified-id=\"2.-Além-da-acurácia-e-da-matriz-de-confusão,-quais-métricas-e-recursos-poderiam-ser-utilizados-para-avaliar-o-seu-classificador?-1.3.2\"><span class=\"toc-item-num\">1.3.2&nbsp;&nbsp;</span>2. Além da acurácia e da matriz de confusão, quais métricas e recursos poderiam ser utilizados para avaliar o seu classificador?</a></span></li><li><span><a href=\"#3.-O-seu-classificador-obteve-um-desempenho-notoriamente-superior-ou-inferior-para-alguma-das-classes?-Para-qual(is)?-Por-que-você-acredita-que-isso-ocorreu?\" data-toc-modified-id=\"3.-O-seu-classificador-obteve-um-desempenho-notoriamente-superior-ou-inferior-para-alguma-das-classes?-Para-qual(is)?-Por-que-você-acredita-que-isso-ocorreu?-1.3.3\"><span class=\"toc-item-num\">1.3.3&nbsp;&nbsp;</span>3. O seu classificador obteve um desempenho notoriamente superior ou inferior para alguma das classes? Para qual(is)? Por que você acredita que isso ocorreu?</a></span></li><li><span><a href=\"#4.-O-que-se-poderia-fazer-para-melhorar-o-desempenho-de-seu-classificador?\" data-toc-modified-id=\"4.-O-que-se-poderia-fazer-para-melhorar-o-desempenho-de-seu-classificador?-1.3.4\"><span class=\"toc-item-num\">1.3.4&nbsp;&nbsp;</span>4. O que se poderia fazer para melhorar o desempenho de seu classificador?</a></span></li><li><span><a href=\"#5.-Se-fosse-utilizada-apenas-metade-da-base-de-dados-deste-exercício-em-vez-de-ela-toda,-mas-mantendo-as-proporções-para-os-dados-de-treinamento-e-teste,-os-resultados-sofreriam-alguma-mudança-significativa?-Se-sim,-quais-e-em-qual-intensidade?\" data-toc-modified-id=\"5.-Se-fosse-utilizada-apenas-metade-da-base-de-dados-deste-exercício-em-vez-de-ela-toda,-mas-mantendo-as-proporções-para-os-dados-de-treinamento-e-teste,-os-resultados-sofreriam-alguma-mudança-significativa?-Se-sim,-quais-e-em-qual-intensidade?-1.3.5\"><span class=\"toc-item-num\">1.3.5&nbsp;&nbsp;</span>5. Se fosse utilizada apenas metade da base de dados deste exercício em vez de ela toda, mas mantendo as proporções para os dados de treinamento e teste, os resultados sofreriam alguma mudança significativa? Se sim, quais e em qual intensidade?</a></span></li><li><span><a href=\"#6.-Para-quê-servem-métodos-como-k-Fold-e-Bootstrap?-Você-observou-alguma-mudança-significativa-por-conta-de-sua-utilização?-Se-sim,-qual?-E-a-quê-se-deve-isso?\" data-toc-modified-id=\"6.-Para-quê-servem-métodos-como-k-Fold-e-Bootstrap?-Você-observou-alguma-mudança-significativa-por-conta-de-sua-utilização?-Se-sim,-qual?-E-a-quê-se-deve-isso?-1.3.6\"><span class=\"toc-item-num\">1.3.6&nbsp;&nbsp;</span>6. Para quê servem métodos como k-Fold e Bootstrap? Você observou alguma mudança significativa por conta de sua utilização? Se sim, qual? E a quê se deve isso?</a></span></li></ul></li><li><span><a href=\"#Referências\" data-toc-modified-id=\"Referências-1.4\"><span class=\"toc-item-num\">1.4&nbsp;&nbsp;</span>Referências</a></span></li></ul></li></ul></div>"
   ]
  },
  {
   "cell_type": "markdown",
   "metadata": {},
   "source": [
    "# Sistemas Inteligentes\n",
    "\n",
    "## Exercício Computacional 2 - Classificação\n",
    "\n",
    "Preencha todas as células adequadamente e responda todas as perguntas de forma completa e elaborada."
   ]
  },
  {
   "cell_type": "markdown",
   "metadata": {},
   "source": [
    "### Identificação do Aluno"
   ]
  },
  {
   "cell_type": "markdown",
   "metadata": {},
   "source": [
    "#### Nome Completo"
   ]
  },
  {
   "cell_type": "markdown",
   "metadata": {},
   "source": [
    "ESCREVA AQUI A SUA RESPOSTA"
   ]
  },
  {
   "cell_type": "markdown",
   "metadata": {},
   "source": [
    "#### RA"
   ]
  },
  {
   "cell_type": "markdown",
   "metadata": {},
   "source": [
    "ESCREVA AQUI A SUA RESPOSTA"
   ]
  },
  {
   "cell_type": "markdown",
   "metadata": {},
   "source": [
    "### Instruções\n",
    "\n",
    "Treine e teste um classificador à sua escolha utilizando a base de dados **Olivetti Faces** (veja as referências).\n",
    "\n",
    "Faça um caso com com *k-Fold* e um caso de forma direta, ou seja, utilizando o *train_test_split*.\n",
    "\n",
    "Exiba a acurácia e a *Confusion Matrix*, então discuta sobre o desempenho do classificador para os dois casos.\n",
    "\n",
    "Entre as células de códigos, insira células de tipo *Markdown* para fornecer explicações sobre os passos realizados; não insira apenas códigos \"soltos\" sem explicação.\n",
    "\n",
    "Dica: desta vez, estamos lidando com uma quantidade relativamente grande de classes, então pode ser interessante exibir a *Confusion Matrix* utilizando escala de cinza para representar os valores de cada célula da matriz; para fazer isso, prefira utilizar a função **imshow** com o mapa de cores (argumento **cmap**) do tipo **'Greys'**.\n",
    "\n",
    "**EXTRA**: tente fazer um caso com *Bootstrap* em vez de *k-Fold*, então comente sobre o método e os resultados."
   ]
  },
  {
   "cell_type": "markdown",
   "metadata": {},
   "source": [
    "## Desenvolvimento"
   ]
  },
  {
   "cell_type": "code",
   "execution_count": null,
   "metadata": {},
   "outputs": [],
   "source": []
  },
  {
   "cell_type": "markdown",
   "metadata": {},
   "source": [
    "## Questões"
   ]
  },
  {
   "cell_type": "markdown",
   "metadata": {},
   "source": [
    "### 1. O classificador escolhido por você obteve um bom desempenho em sua opinião? Por que?"
   ]
  },
  {
   "cell_type": "markdown",
   "metadata": {},
   "source": [
    "ESCREVA AQUI A SUA RESPOSTA"
   ]
  },
  {
   "cell_type": "markdown",
   "metadata": {},
   "source": [
    "### 2. Além da acurácia e da matriz de confusão, quais métricas e recursos poderiam ser utilizados para avaliar o seu classificador?"
   ]
  },
  {
   "cell_type": "markdown",
   "metadata": {},
   "source": [
    "ESCREVA AQUI A SUA RESPOSTA"
   ]
  },
  {
   "cell_type": "markdown",
   "metadata": {},
   "source": [
    "### 3. O seu classificador obteve um desempenho notoriamente superior ou inferior para alguma das classes? Para qual(is)? Por que você acredita que isso ocorreu?"
   ]
  },
  {
   "cell_type": "markdown",
   "metadata": {},
   "source": [
    "ESCREVA AQUI A SUA RESPOSTA"
   ]
  },
  {
   "cell_type": "markdown",
   "metadata": {},
   "source": [
    "### 4. O que se poderia fazer para melhorar o desempenho de seu classificador?"
   ]
  },
  {
   "cell_type": "markdown",
   "metadata": {},
   "source": [
    "ESCREVA AQUI A SUA RESPOSTA"
   ]
  },
  {
   "cell_type": "markdown",
   "metadata": {},
   "source": [
    "### 5. Se fosse utilizada apenas metade da base de dados deste exercício em vez de ela toda, mas mantendo as proporções para os dados de treinamento e teste, os resultados sofreriam alguma mudança significativa? Se sim, quais e em qual intensidade?"
   ]
  },
  {
   "cell_type": "markdown",
   "metadata": {},
   "source": [
    "ESCREVA AQUI A SUA RESPOSTA"
   ]
  },
  {
   "cell_type": "markdown",
   "metadata": {},
   "source": [
    "### 6. Para quê servem métodos como k-Fold e Bootstrap? Você observou alguma mudança significativa por conta de sua utilização? Se sim, qual? E a quê se deve isso?"
   ]
  },
  {
   "cell_type": "markdown",
   "metadata": {},
   "source": [
    "ESCREVA AQUI A SUA RESPOSTA"
   ]
  },
  {
   "cell_type": "markdown",
   "metadata": {},
   "source": [
    "## Referências"
   ]
  },
  {
   "cell_type": "markdown",
   "metadata": {},
   "source": [
    "[Scikit-Learn - Datasets - Olivetti Faces](http://scikit-learn.org/stable/modules/generated/sklearn.datasets.fetch_olivetti_faces.html)\n",
    "\n",
    "[Matplotlib - Pyplot](https://matplotlib.org/api/pyplot_summary.html)\n",
    "\n",
    "[Numpy](https://docs.scipy.org/doc/numpy/reference/)\n",
    "\n",
    "[Scikit-Learn - Train, Test and Split](http://scikit-learn.org/stable/modules/generated/sklearn.model_selection.train_test_split.html)\n",
    "\n",
    "[Scikit-Learn - KFold](http://scikit-learn.org/stable/modules/generated/sklearn.model_selection.KFold.html#sklearn.model_selection.KFold)\n",
    "\n",
    "[Scikit-Learn - Resample (Bootstrap)](http://scikit-learn.org/stable/modules/generated/sklearn.utils.resample.html)\n",
    "\n",
    "[Scikit-Learn - KNeighborsClassifier](http://scikit-learn.org/stable/modules/generated/sklearn.neighbors.KNeighborsClassifier.html)\n",
    "\n",
    "[Scikit-Learn - DecisionTreeClassifier](http://scikit-learn.org/stable/modules/generated/sklearn.tree.DecisionTreeClassifier.html)\n",
    "\n",
    "[Scikit-Learn - LinearDiscriminantAnalysis](http://scikit-learn.org/stable/modules/generated/sklearn.discriminant_analysis.LinearDiscriminantAnalysis.html)\n",
    "\n",
    "[Scikit-Learn - LinearSVC](http://scikit-learn.org/stable/modules/generated/sklearn.svm.LinearSVC.html#sklearn.svm.LinearSVC)\n",
    "\n",
    "[Scikit-Learn - MLPClassifier](http://scikit-learn.org/stable/modules/generated/sklearn.neural_network.MLPClassifier.html#sklearn.neural_network.MLPClassifier)\n",
    "\n",
    "[Scikit-Learn - Accuracy Score](http://scikit-learn.org/stable/modules/generated/sklearn.metrics.accuracy_score.html)\n",
    "\n",
    "[Scikit-Learn - Confusion Matrix](http://scikit-learn.org/stable/modules/generated/sklearn.metrics.confusion_matrix.html)"
   ]
  },
  {
   "cell_type": "code",
   "execution_count": null,
   "metadata": {},
   "outputs": [],
   "source": []
  }
 ],
 "metadata": {
  "kernelspec": {
   "display_name": "Python 3",
   "language": "python",
   "name": "python3"
  },
  "language_info": {
   "codemirror_mode": {
    "name": "ipython",
    "version": 3
   },
   "file_extension": ".py",
   "mimetype": "text/x-python",
   "name": "python",
   "nbconvert_exporter": "python",
   "pygments_lexer": "ipython3",
   "version": "3.6.4"
  },
  "toc": {
   "base_numbering": 1,
   "nav_menu": {},
   "number_sections": true,
   "sideBar": true,
   "skip_h1_title": false,
   "title_cell": "Table of Contents",
   "title_sidebar": "Contents",
   "toc_cell": true,
   "toc_position": {},
   "toc_section_display": true,
   "toc_window_display": false
  }
 },
 "nbformat": 4,
 "nbformat_minor": 2
}
